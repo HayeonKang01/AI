{
 "cells": [
  {
   "cell_type": "code",
   "execution_count": 3,
   "id": "a71edfd9",
   "metadata": {},
   "outputs": [],
   "source": [
    "import requests\n",
    "from bs4 import BeautifulSoup"
   ]
  },
  {
   "cell_type": "markdown",
   "id": "6fd4bfb2",
   "metadata": {},
   "source": [
    "## enumerate() "
   ]
  },
  {
   "cell_type": "code",
   "execution_count": 1,
   "id": "366bad85",
   "metadata": {},
   "outputs": [
    {
     "data": {
      "text/plain": [
       "[(0, 'Lee'), (1, 'Kim'), (2, 'Choi')]"
      ]
     },
     "execution_count": 1,
     "metadata": {},
     "output_type": "execute_result"
    }
   ],
   "source": [
    "names = ['Lee', 'Kim', 'Choi']\n",
    "list(enumerate(names))"
   ]
  },
  {
   "cell_type": "code",
   "execution_count": 2,
   "id": "da74e581",
   "metadata": {},
   "outputs": [
    {
     "data": {
      "text/plain": [
       "{0: 'Lee', 1: 'Kim', 2: 'Choi'}"
      ]
     },
     "execution_count": 2,
     "metadata": {},
     "output_type": "execute_result"
    }
   ],
   "source": [
    "dict(enumerate(names))"
   ]
  },
  {
   "cell_type": "markdown",
   "id": "f67556f0",
   "metadata": {},
   "source": [
    "### for문만으로 묶기"
   ]
  },
  {
   "cell_type": "code",
   "execution_count": 10,
   "id": "5ce93efe",
   "metadata": {},
   "outputs": [
    {
     "name": "stdout",
     "output_type": "stream",
     "text": [
      "[(0, 'Lee'), (1, 'Kim'), (2, 'Choi')]\n",
      "{0: 'Lee', 1: 'Kim', 2: 'Choi'}\n"
     ]
    }
   ],
   "source": [
    "l = []\n",
    "d = {}\n",
    "\n",
    "for i in range(len(names)):\n",
    "    l.append((i, names[i]))\n",
    "    d[i] = names[i]\n",
    "    \n",
    "print(l)\n",
    "print(d)"
   ]
  },
  {
   "cell_type": "markdown",
   "id": "f32794d8",
   "metadata": {},
   "source": [
    "### enumerate() 사용하기"
   ]
  },
  {
   "cell_type": "code",
   "execution_count": 11,
   "id": "1b878b7d",
   "metadata": {},
   "outputs": [
    {
     "name": "stdout",
     "output_type": "stream",
     "text": [
      "[(0, 'Lee'), (1, 'Kim'), (2, 'Choi')]\n",
      "{0: 'Lee', 1: 'Kim', 2: 'Choi'}\n"
     ]
    }
   ],
   "source": [
    "l = []\n",
    "d = {}\n",
    "\n",
    "for i, name in enumerate(names):\n",
    "    l.append((i, name))\n",
    "    d[i] = names[i]\n",
    "    \n",
    "print(l)\n",
    "print(d)"
   ]
  },
  {
   "cell_type": "markdown",
   "id": "132cd7e6",
   "metadata": {},
   "source": [
    "### 예제 - 인덱스 번호를 붙여보자"
   ]
  },
  {
   "cell_type": "code",
   "execution_count": 19,
   "id": "f318e7f0",
   "metadata": {},
   "outputs": [
    {
     "name": "stdout",
     "output_type": "stream",
     "text": [
      "0 영화는 볼만했는데 구미강동점  캬라멜 팝콘 너무 맛없네요 캬라멜을 쥐똥만큼 아껴 넣어서는 4500원이나 받아먹고 너무하네요 !!\n",
      "1 억지 영화...노잼 이런게 천만 ㅋㅋ\n",
      "2 이게 재밌다구요?물론 초중반까지는 재밌었어요후반에 진짜 어휴\n",
      "3 본인이 SF잘모른다 그러면 보지마세요 더럽게 재미없습니다 전 스물한살이고 SF이런거 흥미없었던 지라 너무 재미없었습니다\n",
      "4 이거 결말 아빠가 유령임 이거 결말 아빠가 유령임이거 결말 아빠가 유령임 이거 결말 아빠가 유령임이거 결말 아빠가 유령임 이거 결말 아빠가 유령임이거 결말 아빠가 유령임 이거 결말 아빠가 유령임이거 결말 아빠가 유령...\n",
      "5 평점 1점도 아까운 저렴 신파 영화입니다. 보다가 도저히 볼수 없어 중간에 나왔어요.\n",
      "6 TV에서 콘스탄틴, 소림축구, 쿵푸허슬 나오면 내용알지만 다시 보게된다이영화는 영화관에서보구 그후 티비에서 나와도 거른다 솔직히 이영화가 재밌냐?취향 때문이 그럴수도 있지만 이기 영화냐?!!!???? 다큐멘터리나?\n",
      "7 열라 지루하네... 여자분들은 보지마세요. 하품하다 나옵니다.\n",
      "8 별로 재미없습니다...\n",
      "9 연기도못하고 영화최악이다 졸려죽는줄알았네\n"
     ]
    }
   ],
   "source": [
    "res = requests.get('https://movie.naver.com/movie/bi/mi/pointWriteFormList.naver?code=45290&type=after&isActualPointWriteExecute=false&isMileageSubscriptionAlready=false&isMileageSubscriptionReject=false&page=4930')\n",
    "soup = BeautifulSoup(res.content, 'html.parser')\n",
    "\n",
    "id_list = []\n",
    "id_pre = '_filtered_ment_'\n",
    "for i in range(10):\n",
    "    id_list.append(id_pre+str(i))\n",
    "\n",
    "mydata = []\n",
    "for id in id_list:\n",
    "    mydata.append(soup.find('span', {'id':id}).get_text().strip())\n",
    "\n",
    "for index, item in enumerate(mydata):\n",
    "    print(index, item)"
   ]
  },
  {
   "cell_type": "markdown",
   "id": "9ed42553",
   "metadata": {},
   "source": [
    "### split() 함수를 이용한 전처리"
   ]
  },
  {
   "cell_type": "code",
   "execution_count": 20,
   "id": "957fa6af",
   "metadata": {},
   "outputs": [],
   "source": [
    "txt = '(월세) - 명지대 앞 서브웨이 뒷건물 원룸 500/50 [5]'"
   ]
  },
  {
   "cell_type": "code",
   "execution_count": 21,
   "id": "79c1eb23",
   "metadata": {},
   "outputs": [
    {
     "data": {
      "text/plain": [
       "'(월세) - 명지대 앞 서브웨이 뒷건물 원룸 500/50 '"
      ]
     },
     "execution_count": 21,
     "metadata": {},
     "output_type": "execute_result"
    }
   ],
   "source": [
    "txt.split('[')[0]"
   ]
  },
  {
   "cell_type": "code",
   "execution_count": 22,
   "id": "6019ba1c",
   "metadata": {},
   "outputs": [
    {
     "data": {
      "text/plain": [
       "['(월세) ', ' 명지대 앞 서브웨이 뒷건물 원룸 500/50 ']"
      ]
     },
     "execution_count": 22,
     "metadata": {},
     "output_type": "execute_result"
    }
   ],
   "source": [
    "txt.split('[')[0].split('-')"
   ]
  },
  {
   "cell_type": "code",
   "execution_count": 23,
   "id": "0c6c930a",
   "metadata": {},
   "outputs": [
    {
     "data": {
      "text/plain": [
       "' 명지대 앞 서브웨이 뒷건물 원룸 500/50 '"
      ]
     },
     "execution_count": 23,
     "metadata": {},
     "output_type": "execute_result"
    }
   ],
   "source": [
    "txt.split('[')[0].split('-')[1]"
   ]
  },
  {
   "cell_type": "code",
   "execution_count": 25,
   "id": "4d8f8905",
   "metadata": {},
   "outputs": [
    {
     "data": {
      "text/plain": [
       "'명지대 앞 서브웨이 뒷건물 원룸 500/50'"
      ]
     },
     "execution_count": 25,
     "metadata": {},
     "output_type": "execute_result"
    }
   ],
   "source": [
    "txt.split('[')[0].split('-')[1].strip()"
   ]
  },
  {
   "cell_type": "code",
   "execution_count": null,
   "id": "f4f663f9",
   "metadata": {},
   "outputs": [],
   "source": []
  },
  {
   "cell_type": "code",
   "execution_count": null,
   "id": "8219dda9",
   "metadata": {},
   "outputs": [],
   "source": []
  },
  {
   "cell_type": "code",
   "execution_count": null,
   "id": "40224630",
   "metadata": {},
   "outputs": [],
   "source": []
  },
  {
   "cell_type": "markdown",
   "id": "2fd31792",
   "metadata": {},
   "source": [
    "# 정규표현식"
   ]
  },
  {
   "cell_type": "code",
   "execution_count": 26,
   "id": "5467c694",
   "metadata": {},
   "outputs": [],
   "source": [
    "data = \"\"\"\n",
    "park 800905-1049118\n",
    "kim  700905-1059119\n",
    "\"\"\""
   ]
  },
  {
   "cell_type": "code",
   "execution_count": 27,
   "id": "e659bf19",
   "metadata": {},
   "outputs": [
    {
     "name": "stdout",
     "output_type": "stream",
     "text": [
      "\n",
      "park 800905-*******\n",
      "kim  700905-*******\n",
      "\n"
     ]
    }
   ],
   "source": [
    "result = []\n",
    "for line in data.split('\\n'):\n",
    "    word_result = []\n",
    "    for word in line.split(' '):\n",
    "        if len(word) == 14 and word[:6].isdigit() and word[7:].isdigit():\n",
    "            word = word[:6] + '-' + '*******'\n",
    "        word_result.append(word)\n",
    "    result.append(\" \".join(word_result))\n",
    "print('\\n'.join(result))"
   ]
  },
  {
   "cell_type": "code",
   "execution_count": 28,
   "id": "2877ba33",
   "metadata": {},
   "outputs": [
    {
     "name": "stdout",
     "output_type": "stream",
     "text": [
      "\n",
      "park 800905-*******\n",
      "kim  700905-*******\n",
      "\n"
     ]
    }
   ],
   "source": [
    "import re\n",
    "\n",
    "pat = re.compile('(\\d{6})[-]\\d{7}') # 6자리 숫자 - 7자리 숫자 (정규표현식) 패턴화한 결과\n",
    "print(pat.sub('\\g<1>-*******', data))"
   ]
  },
  {
   "cell_type": "markdown",
   "id": "841f2d54",
   "metadata": {},
   "source": [
    "### 메타문자 \n",
    " - .^$*+?{}[]\\|()\n",
    " - [abc] = a, b, c 중 한개의 문자를 포함\n",
    "     * 'a' = 매치 / before = 매치 / dude = 매치X"
   ]
  },
  {
   "cell_type": "markdown",
   "id": "30d6ca3b",
   "metadata": {},
   "source": [
    "# 1. Dot .\n",
    "        - \\n 제외한 모든문자 한개\n",
    "        - ex) D.A = D + 모든문자(한개) + A"
   ]
  },
  {
   "cell_type": "code",
   "execution_count": 29,
   "id": "12dd441c",
   "metadata": {},
   "outputs": [],
   "source": [
    "pattern = re.compile('D.A')"
   ]
  },
  {
   "cell_type": "code",
   "execution_count": 30,
   "id": "37e0f810",
   "metadata": {},
   "outputs": [
    {
     "data": {
      "text/plain": [
       "<re.Match object; span=(0, 3), match='DDA'>"
      ]
     },
     "execution_count": 30,
     "metadata": {},
     "output_type": "execute_result"
    }
   ],
   "source": [
    "pattern.search('DDA')"
   ]
  },
  {
   "cell_type": "code",
   "execution_count": 31,
   "id": "6095f9e1",
   "metadata": {},
   "outputs": [
    {
     "data": {
      "text/plain": [
       "<re.Match object; span=(0, 3), match='D1A'>"
      ]
     },
     "execution_count": 31,
     "metadata": {},
     "output_type": "execute_result"
    }
   ],
   "source": [
    "pattern.search('D1A')"
   ]
  },
  {
   "cell_type": "code",
   "execution_count": 32,
   "id": "793c49fd",
   "metadata": {},
   "outputs": [],
   "source": [
    "pattern.search('D00A')"
   ]
  },
  {
   "cell_type": "code",
   "execution_count": 34,
   "id": "dc56b039",
   "metadata": {},
   "outputs": [],
   "source": [
    "pattern.search('DA')"
   ]
  },
  {
   "cell_type": "code",
   "execution_count": 36,
   "id": "a4332b08",
   "metadata": {},
   "outputs": [],
   "source": [
    "pattern.search('d0A')"
   ]
  },
  {
   "cell_type": "code",
   "execution_count": 37,
   "id": "f21547c0",
   "metadata": {},
   "outputs": [
    {
     "data": {
      "text/plain": [
       "<re.Match object; span=(4, 7), match='D1A'>"
      ]
     },
     "execution_count": 37,
     "metadata": {},
     "output_type": "execute_result"
    }
   ],
   "source": [
    "pattern.search('d0A D1A 0111')"
   ]
  },
  {
   "cell_type": "markdown",
   "id": "06d6a90f",
   "metadata": {},
   "source": [
    "## real Dot . 를 찾으려면?"
   ]
  },
  {
   "cell_type": "code",
   "execution_count": 38,
   "id": "feb70a69",
   "metadata": {},
   "outputs": [],
   "source": [
    "pattern = re.compile('D\\.A')"
   ]
  },
  {
   "cell_type": "code",
   "execution_count": 39,
   "id": "7ff5d865",
   "metadata": {},
   "outputs": [
    {
     "data": {
      "text/plain": [
       "<re.Match object; span=(0, 3), match='D.A'>"
      ]
     },
     "execution_count": 39,
     "metadata": {},
     "output_type": "execute_result"
    }
   ],
   "source": [
    "pattern.search('D.A')"
   ]
  },
  {
   "cell_type": "code",
   "execution_count": 40,
   "id": "c0cf6b92",
   "metadata": {},
   "outputs": [],
   "source": [
    "pattern.search(\"DDA\")"
   ]
  },
  {
   "cell_type": "code",
   "execution_count": 41,
   "id": "2e8d608a",
   "metadata": {},
   "outputs": [],
   "source": [
    "pattern = re.compile('D[.]A')"
   ]
  },
  {
   "cell_type": "markdown",
   "id": "829e7ab3",
   "metadata": {},
   "source": [
    "## 찾고 바꾸기"
   ]
  },
  {
   "cell_type": "code",
   "execution_count": 42,
   "id": "6e13656d",
   "metadata": {},
   "outputs": [],
   "source": [
    "string = 'DDA D1A DDA DA'"
   ]
  },
  {
   "cell_type": "code",
   "execution_count": 43,
   "id": "7becab23",
   "metadata": {},
   "outputs": [
    {
     "data": {
      "text/plain": [
       "'Dave Dave Dave DA'"
      ]
     },
     "execution_count": 43,
     "metadata": {},
     "output_type": "execute_result"
    }
   ],
   "source": [
    "re.sub('D.A', 'Dave', string)"
   ]
  },
  {
   "cell_type": "markdown",
   "id": "ac1aeb8d",
   "metadata": {},
   "source": [
    "## 2. 반복 ? , * +\n",
    "    - ? = 앞 문자가 0번 / 1번 표시\n",
    "    - * = 앞 문자가 0번 이상\n",
    "    - + = 앞 문자가 1번 이상"
   ]
  },
  {
   "cell_type": "markdown",
   "id": "38f42124",
   "metadata": {},
   "source": [
    "### ?"
   ]
  },
  {
   "cell_type": "code",
   "execution_count": 44,
   "id": "1ac6204a",
   "metadata": {},
   "outputs": [],
   "source": [
    "pattern = re.compile('D?A')"
   ]
  },
  {
   "cell_type": "code",
   "execution_count": 45,
   "id": "db7d8c8b",
   "metadata": {},
   "outputs": [
    {
     "data": {
      "text/plain": [
       "<re.Match object; span=(0, 1), match='A'>"
      ]
     },
     "execution_count": 45,
     "metadata": {},
     "output_type": "execute_result"
    }
   ],
   "source": [
    "pattern.search(\"A\")"
   ]
  },
  {
   "cell_type": "code",
   "execution_count": 46,
   "id": "6d498441",
   "metadata": {},
   "outputs": [
    {
     "data": {
      "text/plain": [
       "<re.Match object; span=(0, 2), match='DA'>"
      ]
     },
     "execution_count": 46,
     "metadata": {},
     "output_type": "execute_result"
    }
   ],
   "source": [
    "pattern.search('DA')"
   ]
  },
  {
   "cell_type": "code",
   "execution_count": 47,
   "id": "022e792a",
   "metadata": {},
   "outputs": [
    {
     "data": {
      "text/plain": [
       "<re.Match object; span=(5, 7), match='DA'>"
      ]
     },
     "execution_count": 47,
     "metadata": {},
     "output_type": "execute_result"
    }
   ],
   "source": [
    "pattern.search('DDDDDDA')"
   ]
  },
  {
   "cell_type": "markdown",
   "id": "928ba061",
   "metadata": {},
   "source": [
    "### *"
   ]
  },
  {
   "cell_type": "code",
   "execution_count": 48,
   "id": "349c90e2",
   "metadata": {},
   "outputs": [],
   "source": [
    "pattern = re.compile('D*A')"
   ]
  },
  {
   "cell_type": "code",
   "execution_count": 49,
   "id": "29e8f5ce",
   "metadata": {},
   "outputs": [
    {
     "data": {
      "text/plain": [
       "<re.Match object; span=(0, 1), match='A'>"
      ]
     },
     "execution_count": 49,
     "metadata": {},
     "output_type": "execute_result"
    }
   ],
   "source": [
    "pattern.search('A')"
   ]
  },
  {
   "cell_type": "code",
   "execution_count": 50,
   "id": "0a522f9f",
   "metadata": {},
   "outputs": [
    {
     "data": {
      "text/plain": [
       "<re.Match object; span=(0, 2), match='DA'>"
      ]
     },
     "execution_count": 50,
     "metadata": {},
     "output_type": "execute_result"
    }
   ],
   "source": [
    "pattern.search('DA')"
   ]
  },
  {
   "cell_type": "code",
   "execution_count": 53,
   "id": "390eb690",
   "metadata": {},
   "outputs": [
    {
     "data": {
      "text/plain": [
       "<re.Match object; span=(0, 29), match='DDDDDDDDDDDDDDDDDDDDDDDDDDDDA'>"
      ]
     },
     "execution_count": 53,
     "metadata": {},
     "output_type": "execute_result"
    }
   ],
   "source": [
    "pattern.search('DDDDDDDDDDDDDDDDDDDDDDDDDDDDA')"
   ]
  },
  {
   "cell_type": "code",
   "execution_count": 54,
   "id": "b63b961b",
   "metadata": {},
   "outputs": [],
   "source": [
    "pattern = re.compile('AD*A')"
   ]
  },
  {
   "cell_type": "code",
   "execution_count": 55,
   "id": "cae61cc6",
   "metadata": {},
   "outputs": [
    {
     "data": {
      "text/plain": [
       "<re.Match object; span=(0, 3), match='ADA'>"
      ]
     },
     "execution_count": 55,
     "metadata": {},
     "output_type": "execute_result"
    }
   ],
   "source": [
    "pattern.search(\"ADA\")"
   ]
  },
  {
   "cell_type": "code",
   "execution_count": 57,
   "id": "3d7c91db",
   "metadata": {},
   "outputs": [
    {
     "data": {
      "text/plain": [
       "<re.Match object; span=(0, 20), match='ADDDDDDDDDDDDDDDDDDA'>"
      ]
     },
     "execution_count": 57,
     "metadata": {},
     "output_type": "execute_result"
    }
   ],
   "source": [
    "pattern.search(\"ADDDDDDDDDDDDDDDDDDA\")"
   ]
  },
  {
   "cell_type": "markdown",
   "id": "da04e435",
   "metadata": {},
   "source": [
    "### +"
   ]
  },
  {
   "cell_type": "code",
   "execution_count": 58,
   "id": "21f85d38",
   "metadata": {},
   "outputs": [],
   "source": [
    "pattern = re.compile('D+A')"
   ]
  },
  {
   "cell_type": "code",
   "execution_count": 59,
   "id": "69dea8b8",
   "metadata": {},
   "outputs": [],
   "source": [
    "pattern.search('A')"
   ]
  },
  {
   "cell_type": "code",
   "execution_count": 60,
   "id": "e0ba7342",
   "metadata": {},
   "outputs": [
    {
     "data": {
      "text/plain": [
       "<re.Match object; span=(0, 2), match='DA'>"
      ]
     },
     "execution_count": 60,
     "metadata": {},
     "output_type": "execute_result"
    }
   ],
   "source": [
    "pattern.search('DA')"
   ]
  },
  {
   "cell_type": "code",
   "execution_count": 63,
   "id": "c8423188",
   "metadata": {},
   "outputs": [
    {
     "data": {
      "text/plain": [
       "<re.Match object; span=(0, 29), match='DDDDDDDDDDDDDDDDDDDDDDDDDDDDA'>"
      ]
     },
     "execution_count": 63,
     "metadata": {},
     "output_type": "execute_result"
    }
   ],
   "source": [
    "pattern.search(\"DDDDDDDDDDDDDDDDDDDDDDDDDDDDA\")"
   ]
  },
  {
   "cell_type": "markdown",
   "id": "c1d69d00",
   "metadata": {},
   "source": [
    "### {n}, {m, n}\n",
    "    - {n} : 앞문자 n번 반복\n",
    "    - {m, n} : 앞 문자가 m번 반복 ~ n 번 반복 (ex. {3, 5} = 3번, 4번, 5번 반복)"
   ]
  },
  {
   "cell_type": "markdown",
   "id": "90eda450",
   "metadata": {},
   "source": [
    "### {n} - 잘 안쓰임"
   ]
  },
  {
   "cell_type": "code",
   "execution_count": 64,
   "id": "7af9da14",
   "metadata": {},
   "outputs": [],
   "source": [
    "pattern = re.compile('AD{2}A')"
   ]
  },
  {
   "cell_type": "code",
   "execution_count": 65,
   "id": "7412328b",
   "metadata": {},
   "outputs": [],
   "source": [
    "pattern.search('ADA')"
   ]
  },
  {
   "cell_type": "code",
   "execution_count": 66,
   "id": "15ca1052",
   "metadata": {},
   "outputs": [
    {
     "data": {
      "text/plain": [
       "<re.Match object; span=(0, 4), match='ADDA'>"
      ]
     },
     "execution_count": 66,
     "metadata": {},
     "output_type": "execute_result"
    }
   ],
   "source": [
    "pattern.search('ADDA')"
   ]
  },
  {
   "cell_type": "code",
   "execution_count": 67,
   "id": "df143bab",
   "metadata": {},
   "outputs": [],
   "source": [
    "pattern.search('ADDDA')"
   ]
  },
  {
   "cell_type": "markdown",
   "id": "db6b6b0f",
   "metadata": {},
   "source": [
    "### {m, n} "
   ]
  },
  {
   "cell_type": "code",
   "execution_count": 71,
   "id": "f4be8571",
   "metadata": {},
   "outputs": [],
   "source": [
    "pattern = re.compile('AD{2,6}A')"
   ]
  },
  {
   "cell_type": "code",
   "execution_count": 72,
   "id": "2c162f4f",
   "metadata": {},
   "outputs": [
    {
     "data": {
      "text/plain": [
       "<re.Match object; span=(0, 4), match='ADDA'>"
      ]
     },
     "execution_count": 72,
     "metadata": {},
     "output_type": "execute_result"
    }
   ],
   "source": [
    "pattern.search('ADDA')"
   ]
  },
  {
   "cell_type": "code",
   "execution_count": 73,
   "id": "65c7074d",
   "metadata": {},
   "outputs": [
    {
     "data": {
      "text/plain": [
       "<re.Match object; span=(0, 5), match='ADDDA'>"
      ]
     },
     "execution_count": 73,
     "metadata": {},
     "output_type": "execute_result"
    }
   ],
   "source": [
    "pattern.search('ADDDA')"
   ]
  },
  {
   "cell_type": "code",
   "execution_count": 75,
   "id": "a609c91a",
   "metadata": {},
   "outputs": [
    {
     "data": {
      "text/plain": [
       "<re.Match object; span=(0, 8), match='ADDDDDDA'>"
      ]
     },
     "execution_count": 75,
     "metadata": {},
     "output_type": "execute_result"
    }
   ],
   "source": [
    "pattern.search('ADDDDDDA')"
   ]
  },
  {
   "cell_type": "markdown",
   "id": "c1a66755",
   "metadata": {},
   "source": [
    "## 3. [] : 안에 들어가는 문자가 들어있는 패턴\n",
    "    - [abc] : a, b, c 중 하나가 들어있는 패턴"
   ]
  },
  {
   "cell_type": "code",
   "execution_count": 76,
   "id": "bbc292bf",
   "metadata": {},
   "outputs": [],
   "source": [
    "pattern = re.compile('[abcdefgABCDEFG]')"
   ]
  },
  {
   "cell_type": "code",
   "execution_count": 77,
   "id": "0553d2dd",
   "metadata": {},
   "outputs": [
    {
     "data": {
      "text/plain": [
       "<re.Match object; span=(0, 1), match='a'>"
      ]
     },
     "execution_count": 77,
     "metadata": {},
     "output_type": "execute_result"
    }
   ],
   "source": [
    "pattern.search('a1234')"
   ]
  },
  {
   "cell_type": "code",
   "execution_count": 78,
   "id": "13233921",
   "metadata": {},
   "outputs": [],
   "source": [
    "pattern.search('z1234')"
   ]
  },
  {
   "cell_type": "markdown",
   "id": "5fd3fd3e",
   "metadata": {},
   "source": [
    "### 하이픈(-)을 이용하면 알파벳 전체 나타낼 수 있음\n",
    "    - [a-c] : a, b, c 중 하나가 들어있는 패턴"
   ]
  },
  {
   "cell_type": "code",
   "execution_count": 79,
   "id": "73067b00",
   "metadata": {},
   "outputs": [],
   "source": [
    "pattern = re.compile('[a-z]')"
   ]
  },
  {
   "cell_type": "code",
   "execution_count": 80,
   "id": "0db0ebad",
   "metadata": {},
   "outputs": [
    {
     "data": {
      "text/plain": [
       "<re.Match object; span=(0, 1), match='k'>"
      ]
     },
     "execution_count": 80,
     "metadata": {},
     "output_type": "execute_result"
    }
   ],
   "source": [
    "pattern.search('k1234')"
   ]
  },
  {
   "cell_type": "code",
   "execution_count": 81,
   "id": "ed4c212e",
   "metadata": {},
   "outputs": [],
   "source": [
    "pattern.search('Z1234')"
   ]
  },
  {
   "cell_type": "markdown",
   "id": "3a8a4127",
   "metadata": {},
   "source": [
    "### [a-zA-Z] : 대소문자 모두 포함한 알파벳 전체"
   ]
  },
  {
   "cell_type": "code",
   "execution_count": 82,
   "id": "99047b51",
   "metadata": {},
   "outputs": [],
   "source": [
    "pattern = re.compile('[a-zA-Z]')"
   ]
  },
  {
   "cell_type": "code",
   "execution_count": 83,
   "id": "a9cc6b3b",
   "metadata": {},
   "outputs": [
    {
     "data": {
      "text/plain": [
       "<re.Match object; span=(0, 1), match='Z'>"
      ]
     },
     "execution_count": 83,
     "metadata": {},
     "output_type": "execute_result"
    }
   ],
   "source": [
    "pattern.search('Z1234')"
   ]
  },
  {
   "cell_type": "markdown",
   "id": "8db8ba35",
   "metadata": {},
   "source": [
    "### [a-zA-Z0-9]로 표기하면 대소문자를 모두 포함해서 알파벳 전체와 함께 숫자전체"
   ]
  },
  {
   "cell_type": "code",
   "execution_count": 84,
   "id": "91e71ab2",
   "metadata": {},
   "outputs": [],
   "source": [
    "pattern = re.compile('[a-zA-Z0-9]')"
   ]
  },
  {
   "cell_type": "code",
   "execution_count": 85,
   "id": "0ae4ea43",
   "metadata": {},
   "outputs": [
    {
     "data": {
      "text/plain": [
       "<re.Match object; span=(0, 1), match='1'>"
      ]
     },
     "execution_count": 85,
     "metadata": {},
     "output_type": "execute_result"
    }
   ],
   "source": [
    "pattern.search('1234---')"
   ]
  },
  {
   "cell_type": "code",
   "execution_count": 87,
   "id": "7831e451",
   "metadata": {},
   "outputs": [],
   "source": [
    "pattern.search('--------------_!@#!@$#%!#$----')"
   ]
  },
  {
   "cell_type": "markdown",
   "id": "aa154967",
   "metadata": {},
   "source": [
    "### [ ] 괄호 안에서 [ 바로 뒤에 ^을 쓰면 그 뒤에 오는 문자가 아닌 패턴 찾기"
   ]
  },
  {
   "cell_type": "code",
   "execution_count": 88,
   "id": "039c3d7f",
   "metadata": {},
   "outputs": [],
   "source": [
    "pattern = re.compile('[^a-zA-Z0-9]')"
   ]
  },
  {
   "cell_type": "code",
   "execution_count": 89,
   "id": "7c724cf9",
   "metadata": {},
   "outputs": [
    {
     "data": {
      "text/plain": [
       "<re.Match object; span=(0, 1), match='-'>"
      ]
     },
     "execution_count": 89,
     "metadata": {},
     "output_type": "execute_result"
    }
   ],
   "source": [
    "pattern.search('--------------_!@#!@$#%!#$----')"
   ]
  },
  {
   "cell_type": "code",
   "execution_count": 90,
   "id": "2b0ca7aa",
   "metadata": {},
   "outputs": [],
   "source": [
    "pattern = re.compile('[^\\t\\n\\r\\f\\v]')"
   ]
  },
  {
   "cell_type": "code",
   "execution_count": 91,
   "id": "58634aea",
   "metadata": {},
   "outputs": [
    {
     "data": {
      "text/plain": [
       "<re.Match object; span=(0, 1), match='-'>"
      ]
     },
     "execution_count": 91,
     "metadata": {},
     "output_type": "execute_result"
    }
   ],
   "source": [
    "pattern.search('-')"
   ]
  },
  {
   "cell_type": "code",
   "execution_count": 92,
   "id": "6d008d54",
   "metadata": {},
   "outputs": [
    {
     "data": {
      "text/plain": [
       "<re.Match object; span=(0, 1), match=' '>"
      ]
     },
     "execution_count": 92,
     "metadata": {},
     "output_type": "execute_result"
    }
   ],
   "source": [
    "pattern.search(' ')"
   ]
  },
  {
   "cell_type": "markdown",
   "id": "9d5f182c",
   "metadata": {},
   "source": [
    "## 한글만? -> [가-힣]"
   ]
  },
  {
   "cell_type": "code",
   "execution_count": 93,
   "id": "56c54be6",
   "metadata": {},
   "outputs": [],
   "source": [
    "pattern = re.compile('[가-힣]')"
   ]
  },
  {
   "cell_type": "code",
   "execution_count": 94,
   "id": "9de2cedf",
   "metadata": {},
   "outputs": [
    {
     "data": {
      "text/plain": [
       "<re.Match object; span=(0, 1), match='안'>"
      ]
     },
     "execution_count": 94,
     "metadata": {},
     "output_type": "execute_result"
    }
   ],
   "source": [
    "pattern.search('안')"
   ]
  },
  {
   "cell_type": "markdown",
   "id": "a50d42b0",
   "metadata": {},
   "source": [
    "# 4. 정규표현식 라이브러리 함수 사용법"
   ]
  },
  {
   "cell_type": "markdown",
   "id": "3310b954",
   "metadata": {},
   "source": [
    "## match, search 함수\n",
    "    - match : 문자열 처음부터 정규식과 매칭되는 패턴 찾아서 리턴 / 전체\n",
    "    - search : 문자열 전체를 검색해서 정규식과 매칭되는 패턴 찾아서 리턴 / 부분"
   ]
  },
  {
   "cell_type": "code",
   "execution_count": 95,
   "id": "1a836143",
   "metadata": {},
   "outputs": [],
   "source": [
    "pattern = re.compile('[a-z]+')"
   ]
  },
  {
   "cell_type": "code",
   "execution_count": 100,
   "id": "6dafa325",
   "metadata": {},
   "outputs": [],
   "source": [
    "matched = pattern.match('Dave') # 처음 시작이 대문자라서 리턴 X"
   ]
  },
  {
   "cell_type": "code",
   "execution_count": 97,
   "id": "1b61035f",
   "metadata": {},
   "outputs": [],
   "source": [
    "searched = pattern.search('Dave')"
   ]
  },
  {
   "cell_type": "code",
   "execution_count": 98,
   "id": "a9c746a7",
   "metadata": {},
   "outputs": [
    {
     "name": "stdout",
     "output_type": "stream",
     "text": [
      "None\n"
     ]
    }
   ],
   "source": [
    "print(matched)"
   ]
  },
  {
   "cell_type": "code",
   "execution_count": 99,
   "id": "0cf29b6f",
   "metadata": {},
   "outputs": [
    {
     "name": "stdout",
     "output_type": "stream",
     "text": [
      "<re.Match object; span=(1, 4), match='ave'>\n"
     ]
    }
   ],
   "source": [
    "print(searched)"
   ]
  },
  {
   "cell_type": "markdown",
   "id": "ab93c16d",
   "metadata": {},
   "source": [
    "## findall 함수 : 정규표현식과 매칭되는 모든 문자열을 리스트 객체로 리턴"
   ]
  },
  {
   "cell_type": "code",
   "execution_count": 101,
   "id": "eada5252",
   "metadata": {},
   "outputs": [],
   "source": [
    "pattern = re.compile('[a-z]+')\n",
    "findalled = pattern.findall('Game of Lite in Python')"
   ]
  },
  {
   "cell_type": "code",
   "execution_count": 102,
   "id": "7d725218",
   "metadata": {},
   "outputs": [
    {
     "name": "stdout",
     "output_type": "stream",
     "text": [
      "['ame', 'of', 'ite', 'in', 'ython']\n"
     ]
    }
   ],
   "source": [
    "print(findalled)"
   ]
  },
  {
   "cell_type": "code",
   "execution_count": 106,
   "id": "f40abbe4",
   "metadata": {},
   "outputs": [],
   "source": [
    "pattern2 = re.compile('[A-Za-z]+') # 뒤에 왜 +가 붙을까"
   ]
  },
  {
   "cell_type": "code",
   "execution_count": 104,
   "id": "1e8f3862",
   "metadata": {},
   "outputs": [],
   "source": [
    "findalled2 = pattern2.findall('Game of Lite in Python')"
   ]
  },
  {
   "cell_type": "code",
   "execution_count": 105,
   "id": "bc1276c7",
   "metadata": {},
   "outputs": [
    {
     "name": "stdout",
     "output_type": "stream",
     "text": [
      "['Game', 'of', 'Lite', 'in', 'Python']\n"
     ]
    }
   ],
   "source": [
    "print(findalled2)"
   ]
  },
  {
   "cell_type": "markdown",
   "id": "e0153270",
   "metadata": {},
   "source": [
    "## findall 함수를 사용해서 정규표현식에 해당되는 문자열 확인"
   ]
  },
  {
   "cell_type": "code",
   "execution_count": 108,
   "id": "5c7ffe72",
   "metadata": {},
   "outputs": [
    {
     "name": "stdout",
     "output_type": "stream",
     "text": [
      "정규표현식에 맞는 문자열 존재 안함\n"
     ]
    }
   ],
   "source": [
    "pattern = re.compile('[a-z]+')\n",
    "findalled = pattern.findall('GAME')\n",
    "\n",
    "if len(findalled)>0:\n",
    "    print('정규표현식에 맞는 문자열 존재')\n",
    "else:\n",
    "    print('정규표현식에 맞는 문자열 존재 안함')"
   ]
  },
  {
   "cell_type": "markdown",
   "id": "9b1ca598",
   "metadata": {},
   "source": [
    "## split 함수 : 찾은 정규표현식 패턴 문자열을 기준으로 문자열 분리"
   ]
  },
  {
   "cell_type": "code",
   "execution_count": 109,
   "id": "1e5f5c54",
   "metadata": {},
   "outputs": [],
   "source": [
    "pattern2 = re.compile(':')\n",
    "splitted = pattern2.split('python:java')"
   ]
  },
  {
   "cell_type": "code",
   "execution_count": 110,
   "id": "0e2a164b",
   "metadata": {},
   "outputs": [
    {
     "name": "stdout",
     "output_type": "stream",
     "text": [
      "['python', 'java']\n"
     ]
    }
   ],
   "source": [
    "print(splitted)"
   ]
  },
  {
   "cell_type": "markdown",
   "id": "8986b350",
   "metadata": {},
   "source": [
    "---"
   ]
  },
  {
   "cell_type": "code",
   "execution_count": 518,
   "id": "ff13fa5b",
   "metadata": {},
   "outputs": [],
   "source": [
    "import re"
   ]
  },
  {
   "cell_type": "markdown",
   "id": "055d8269",
   "metadata": {},
   "source": [
    "###    1. vs 기준으로 나누기"
   ]
  },
  {
   "cell_type": "code",
   "execution_count": 527,
   "id": "9c500bdb",
   "metadata": {},
   "outputs": [],
   "source": [
    "name_s =  'Spider man vs Super man'\n",
    "name_i = 'Iron man vs. Ultron'"
   ]
  },
  {
   "cell_type": "code",
   "execution_count": 528,
   "id": "69072809",
   "metadata": {},
   "outputs": [
    {
     "name": "stdout",
     "output_type": "stream",
     "text": [
      "['Spider man vs Super man']\n",
      "['Iron man', 'Ultron']\n"
     ]
    }
   ],
   "source": [
    "pattern = re.compile(' vs. ')\n",
    "print(pattern.split(name_s))\n",
    "print(pattern.split(name_i))"
   ]
  },
  {
   "cell_type": "markdown",
   "id": "ab1d76c9",
   "metadata": {},
   "source": [
    "###    2. 계좌에서 숫자만 추출"
   ]
  },
  {
   "cell_type": "code",
   "execution_count": 521,
   "id": "4b7665cd",
   "metadata": {},
   "outputs": [],
   "source": [
    "kb = 'KB 231401-04-296081'\n",
    "nh = 'NH 301-0173-716502'"
   ]
  },
  {
   "cell_type": "code",
   "execution_count": 522,
   "id": "f5105c63",
   "metadata": {},
   "outputs": [],
   "source": [
    "pattern = re.compile('[^0-9]')\n",
    "new_kb = re.sub(pattern,'', kb)\n",
    "new_nh = re.sub(pattern, '', nh)"
   ]
  },
  {
   "cell_type": "code",
   "execution_count": 523,
   "id": "56973ffd",
   "metadata": {},
   "outputs": [
    {
     "name": "stdout",
     "output_type": "stream",
     "text": [
      "23140104296081\n",
      "3010173716502\n"
     ]
    }
   ],
   "source": [
    "print(new_kb)\n",
    "print(new_nh)"
   ]
  },
  {
   "cell_type": "markdown",
   "id": "0939c7a8",
   "metadata": {},
   "source": [
    "###    1. 학번에서 입학년도만 **으로 변경하기\n",
    "        * 60191234 -> 60**1234\n",
    "        * 60153456 -> 60**3456"
   ]
  },
  {
   "cell_type": "code",
   "execution_count": 390,
   "id": "4e7a5bab",
   "metadata": {},
   "outputs": [],
   "source": [
    "st_num = '60191095'"
   ]
  },
  {
   "cell_type": "code",
   "execution_count": 421,
   "id": "03f2188e",
   "metadata": {},
   "outputs": [
    {
     "data": {
      "text/plain": [
       "'60**1095'"
      ]
     },
     "execution_count": 421,
     "metadata": {},
     "output_type": "execute_result"
    }
   ],
   "source": [
    "pattern = re.compile(r'(\\d{2})(\\d{2})(\\d{4})')\n",
    "pattern.sub('\\g<1>**\\g<3>',st_num)"
   ]
  },
  {
   "cell_type": "markdown",
   "id": "1df8d08b",
   "metadata": {},
   "source": [
    "###    2. 비번 인증 만들기 \n",
    "        * 대소문자, 숫자, 특수기호(#, @, &) 각각 하나 이상 포함\n",
    "        * 전체 8글자 이상, 13자리 미만\n",
    "            - abc12345 : X \n",
    "            - aA#1 : X\n",
    "            - aA#12345 : O\n",
    "            - abcdefgABC#@&123 : X"
   ]
  },
  {
   "cell_type": "code",
   "execution_count": 515,
   "id": "73e759c5",
   "metadata": {},
   "outputs": [],
   "source": [
    "password = ['abc12345', 'aA#1', 'aA#12345', 'bcdefgABC#@&123', \n",
    "           'abcdefghijk', '12345', 'Abcd@efg123']"
   ]
  },
  {
   "cell_type": "code",
   "execution_count": 516,
   "id": "2c89b761",
   "metadata": {},
   "outputs": [],
   "source": [
    "pattern = re.compile(\"^(?=.*[a-z])(?=.*[A-Z])(?=.*\\d)(?=.*[@#&])[A-Za-z\\d@#&]{8,13}$\")"
   ]
  },
  {
   "cell_type": "markdown",
   "id": "7913c2a2",
   "metadata": {},
   "source": [
    "    -> \"^(?=.*[a-z])(?=.*[A-Z])(?=.*\\d)(?=.*[@#&])[A-Za-z\\d@#&]{8,13}$\""
   ]
  },
  {
   "cell_type": "code",
   "execution_count": 517,
   "id": "883a2a76",
   "metadata": {},
   "outputs": [
    {
     "name": "stdout",
     "output_type": "stream",
     "text": [
      "abc12345 비밀번호 조건 불만족\n",
      "aA#1 비밀번호 조건 불만족\n",
      "aA#12345 비밀번호 조건 만족\n",
      "bcdefgABC#@&123 비밀번호 조건 불만족\n",
      "abcdefghijk 비밀번호 조건 불만족\n",
      "12345 비밀번호 조건 불만족\n",
      "Abcd@efg123 비밀번호 조건 만족\n"
     ]
    }
   ],
   "source": [
    "for i in password:\n",
    "    a = pattern.search(i)\n",
    "    if a is not None:\n",
    "        print(i, '비밀번호 조건 만족')\n",
    "    else:\n",
    "        print(i, '비밀번호 조건 불만족')        "
   ]
  },
  {
   "cell_type": "markdown",
   "id": "c3c1878e",
   "metadata": {},
   "source": [
    "\n",
    "###    3. Mr은 남성, Miss는 미혼여성, Mrs는 기혼여성 나머지는 기타로 분류\n",
    "        * 성별 컬럼 내용 무시 \n",
    "        * 분류결과를 별도의 컬럼 Title에 저장\n",
    "        * 위에서 만든 컬럼의 종류에 따른 생존율 구하기 \n",
    "            - 생존률 = 생존자수 / (생존자수 + 사망자수) : Title grouping"
   ]
  },
  {
   "cell_type": "code",
   "execution_count": 163,
   "id": "9c81d150",
   "metadata": {},
   "outputs": [],
   "source": [
    "import pandas as pd\n",
    "import numpy as np"
   ]
  },
  {
   "cell_type": "code",
   "execution_count": 532,
   "id": "b8f4e443",
   "metadata": {},
   "outputs": [],
   "source": [
    "df = pd.read_csv('train.csv')"
   ]
  },
  {
   "cell_type": "code",
   "execution_count": 533,
   "id": "3084d71c",
   "metadata": {
    "scrolled": true
   },
   "outputs": [
    {
     "data": {
      "text/html": [
       "<div>\n",
       "<style scoped>\n",
       "    .dataframe tbody tr th:only-of-type {\n",
       "        vertical-align: middle;\n",
       "    }\n",
       "\n",
       "    .dataframe tbody tr th {\n",
       "        vertical-align: top;\n",
       "    }\n",
       "\n",
       "    .dataframe thead th {\n",
       "        text-align: right;\n",
       "    }\n",
       "</style>\n",
       "<table border=\"1\" class=\"dataframe\">\n",
       "  <thead>\n",
       "    <tr style=\"text-align: right;\">\n",
       "      <th></th>\n",
       "      <th>PassengerId</th>\n",
       "      <th>Survived</th>\n",
       "      <th>Pclass</th>\n",
       "      <th>Name</th>\n",
       "      <th>Sex</th>\n",
       "      <th>Age</th>\n",
       "      <th>SibSp</th>\n",
       "      <th>Parch</th>\n",
       "      <th>Ticket</th>\n",
       "      <th>Fare</th>\n",
       "      <th>Cabin</th>\n",
       "      <th>Embarked</th>\n",
       "    </tr>\n",
       "  </thead>\n",
       "  <tbody>\n",
       "    <tr>\n",
       "      <th>0</th>\n",
       "      <td>1</td>\n",
       "      <td>0</td>\n",
       "      <td>3</td>\n",
       "      <td>Braund, Mr. Owen Harris</td>\n",
       "      <td>male</td>\n",
       "      <td>22.0</td>\n",
       "      <td>1</td>\n",
       "      <td>0</td>\n",
       "      <td>A/5 21171</td>\n",
       "      <td>7.2500</td>\n",
       "      <td>NaN</td>\n",
       "      <td>S</td>\n",
       "    </tr>\n",
       "    <tr>\n",
       "      <th>1</th>\n",
       "      <td>2</td>\n",
       "      <td>1</td>\n",
       "      <td>1</td>\n",
       "      <td>Cumings, Mrs. John Bradley (Florence Briggs Th...</td>\n",
       "      <td>female</td>\n",
       "      <td>38.0</td>\n",
       "      <td>1</td>\n",
       "      <td>0</td>\n",
       "      <td>PC 17599</td>\n",
       "      <td>71.2833</td>\n",
       "      <td>C85</td>\n",
       "      <td>C</td>\n",
       "    </tr>\n",
       "    <tr>\n",
       "      <th>2</th>\n",
       "      <td>3</td>\n",
       "      <td>1</td>\n",
       "      <td>3</td>\n",
       "      <td>Heikkinen, Miss. Laina</td>\n",
       "      <td>female</td>\n",
       "      <td>26.0</td>\n",
       "      <td>0</td>\n",
       "      <td>0</td>\n",
       "      <td>STON/O2. 3101282</td>\n",
       "      <td>7.9250</td>\n",
       "      <td>NaN</td>\n",
       "      <td>S</td>\n",
       "    </tr>\n",
       "    <tr>\n",
       "      <th>3</th>\n",
       "      <td>4</td>\n",
       "      <td>1</td>\n",
       "      <td>1</td>\n",
       "      <td>Futrelle, Mrs. Jacques Heath (Lily May Peel)</td>\n",
       "      <td>female</td>\n",
       "      <td>35.0</td>\n",
       "      <td>1</td>\n",
       "      <td>0</td>\n",
       "      <td>113803</td>\n",
       "      <td>53.1000</td>\n",
       "      <td>C123</td>\n",
       "      <td>S</td>\n",
       "    </tr>\n",
       "    <tr>\n",
       "      <th>4</th>\n",
       "      <td>5</td>\n",
       "      <td>0</td>\n",
       "      <td>3</td>\n",
       "      <td>Allen, Mr. William Henry</td>\n",
       "      <td>male</td>\n",
       "      <td>35.0</td>\n",
       "      <td>0</td>\n",
       "      <td>0</td>\n",
       "      <td>373450</td>\n",
       "      <td>8.0500</td>\n",
       "      <td>NaN</td>\n",
       "      <td>S</td>\n",
       "    </tr>\n",
       "  </tbody>\n",
       "</table>\n",
       "</div>"
      ],
      "text/plain": [
       "   PassengerId  Survived  Pclass  \\\n",
       "0            1         0       3   \n",
       "1            2         1       1   \n",
       "2            3         1       3   \n",
       "3            4         1       1   \n",
       "4            5         0       3   \n",
       "\n",
       "                                                Name     Sex   Age  SibSp  \\\n",
       "0                            Braund, Mr. Owen Harris    male  22.0      1   \n",
       "1  Cumings, Mrs. John Bradley (Florence Briggs Th...  female  38.0      1   \n",
       "2                             Heikkinen, Miss. Laina  female  26.0      0   \n",
       "3       Futrelle, Mrs. Jacques Heath (Lily May Peel)  female  35.0      1   \n",
       "4                           Allen, Mr. William Henry    male  35.0      0   \n",
       "\n",
       "   Parch            Ticket     Fare Cabin Embarked  \n",
       "0      0         A/5 21171   7.2500   NaN        S  \n",
       "1      0          PC 17599  71.2833   C85        C  \n",
       "2      0  STON/O2. 3101282   7.9250   NaN        S  \n",
       "3      0            113803  53.1000  C123        S  \n",
       "4      0            373450   8.0500   NaN        S  "
      ]
     },
     "execution_count": 533,
     "metadata": {},
     "output_type": "execute_result"
    }
   ],
   "source": [
    "df.head()"
   ]
  },
  {
   "cell_type": "code",
   "execution_count": 534,
   "id": "774db3ed",
   "metadata": {},
   "outputs": [],
   "source": [
    "pattern_mr = re.compile('Mr[^s]')\n",
    "pattern_mrs = re.compile('Mrs')\n",
    "pattern_miss = re.compile('Miss')"
   ]
  },
  {
   "cell_type": "code",
   "execution_count": 535,
   "id": "aeaf4b3d",
   "metadata": {},
   "outputs": [],
   "source": [
    "l = []\n",
    "for i in range(len(df)):\n",
    "    if pattern_mr.search(df['Name'][i]) is not None:\n",
    "        l.append('Mr')\n",
    "    elif pattern_mrs.search(df['Name'][i]) is not None:\n",
    "        l.append('Mrs')\n",
    "    elif pattern_miss.search(df['Name'][i]) is not None:\n",
    "        l.append('Miss')\n",
    "    else:\n",
    "        l.append('기타')"
   ]
  },
  {
   "cell_type": "code",
   "execution_count": 536,
   "id": "0a2a8f4d",
   "metadata": {},
   "outputs": [],
   "source": [
    "df['Title'] = l"
   ]
  },
  {
   "cell_type": "code",
   "execution_count": 537,
   "id": "e257ccc1",
   "metadata": {},
   "outputs": [],
   "source": [
    "def s_rate(x):\n",
    "    print(x['Title'].unique(), (x['Survived'].value_counts()[1]/len(x)), '\\n')"
   ]
  },
  {
   "cell_type": "code",
   "execution_count": 538,
   "id": "4dc15398",
   "metadata": {},
   "outputs": [
    {
     "data": {
      "text/html": [
       "<div>\n",
       "<style scoped>\n",
       "    .dataframe tbody tr th:only-of-type {\n",
       "        vertical-align: middle;\n",
       "    }\n",
       "\n",
       "    .dataframe tbody tr th {\n",
       "        vertical-align: top;\n",
       "    }\n",
       "\n",
       "    .dataframe thead th {\n",
       "        text-align: right;\n",
       "    }\n",
       "</style>\n",
       "<table border=\"1\" class=\"dataframe\">\n",
       "  <thead>\n",
       "    <tr style=\"text-align: right;\">\n",
       "      <th></th>\n",
       "      <th>PassengerId</th>\n",
       "      <th>Survived</th>\n",
       "      <th>Pclass</th>\n",
       "      <th>Name</th>\n",
       "      <th>Sex</th>\n",
       "      <th>Age</th>\n",
       "      <th>SibSp</th>\n",
       "      <th>Parch</th>\n",
       "      <th>Ticket</th>\n",
       "      <th>Fare</th>\n",
       "      <th>Cabin</th>\n",
       "      <th>Embarked</th>\n",
       "      <th>Title</th>\n",
       "    </tr>\n",
       "  </thead>\n",
       "  <tbody>\n",
       "    <tr>\n",
       "      <th>0</th>\n",
       "      <td>1</td>\n",
       "      <td>0</td>\n",
       "      <td>3</td>\n",
       "      <td>Braund, Mr. Owen Harris</td>\n",
       "      <td>male</td>\n",
       "      <td>22.0</td>\n",
       "      <td>1</td>\n",
       "      <td>0</td>\n",
       "      <td>A/5 21171</td>\n",
       "      <td>7.2500</td>\n",
       "      <td>NaN</td>\n",
       "      <td>S</td>\n",
       "      <td>Mr</td>\n",
       "    </tr>\n",
       "    <tr>\n",
       "      <th>1</th>\n",
       "      <td>2</td>\n",
       "      <td>1</td>\n",
       "      <td>1</td>\n",
       "      <td>Cumings, Mrs. John Bradley (Florence Briggs Th...</td>\n",
       "      <td>female</td>\n",
       "      <td>38.0</td>\n",
       "      <td>1</td>\n",
       "      <td>0</td>\n",
       "      <td>PC 17599</td>\n",
       "      <td>71.2833</td>\n",
       "      <td>C85</td>\n",
       "      <td>C</td>\n",
       "      <td>Mrs</td>\n",
       "    </tr>\n",
       "    <tr>\n",
       "      <th>2</th>\n",
       "      <td>3</td>\n",
       "      <td>1</td>\n",
       "      <td>3</td>\n",
       "      <td>Heikkinen, Miss. Laina</td>\n",
       "      <td>female</td>\n",
       "      <td>26.0</td>\n",
       "      <td>0</td>\n",
       "      <td>0</td>\n",
       "      <td>STON/O2. 3101282</td>\n",
       "      <td>7.9250</td>\n",
       "      <td>NaN</td>\n",
       "      <td>S</td>\n",
       "      <td>Miss</td>\n",
       "    </tr>\n",
       "  </tbody>\n",
       "</table>\n",
       "</div>"
      ],
      "text/plain": [
       "   PassengerId  Survived  Pclass  \\\n",
       "0            1         0       3   \n",
       "1            2         1       1   \n",
       "2            3         1       3   \n",
       "\n",
       "                                                Name     Sex   Age  SibSp  \\\n",
       "0                            Braund, Mr. Owen Harris    male  22.0      1   \n",
       "1  Cumings, Mrs. John Bradley (Florence Briggs Th...  female  38.0      1   \n",
       "2                             Heikkinen, Miss. Laina  female  26.0      0   \n",
       "\n",
       "   Parch            Ticket     Fare Cabin Embarked Title  \n",
       "0      0         A/5 21171   7.2500   NaN        S    Mr  \n",
       "1      0          PC 17599  71.2833   C85        C   Mrs  \n",
       "2      0  STON/O2. 3101282   7.9250   NaN        S  Miss  "
      ]
     },
     "execution_count": 538,
     "metadata": {},
     "output_type": "execute_result"
    }
   ],
   "source": [
    "df.head(3)"
   ]
  },
  {
   "cell_type": "code",
   "execution_count": 539,
   "id": "1402d669",
   "metadata": {},
   "outputs": [
    {
     "name": "stdout",
     "output_type": "stream",
     "text": [
      "['Miss'] 0.7 \n",
      "\n",
      "['Mr'] 0.1583011583011583 \n",
      "\n",
      "['Mrs'] 0.7906976744186046 \n",
      "\n",
      "['기타'] 0.5 \n",
      "\n"
     ]
    },
    {
     "data": {
      "text/html": [
       "<div>\n",
       "<style scoped>\n",
       "    .dataframe tbody tr th:only-of-type {\n",
       "        vertical-align: middle;\n",
       "    }\n",
       "\n",
       "    .dataframe tbody tr th {\n",
       "        vertical-align: top;\n",
       "    }\n",
       "\n",
       "    .dataframe thead th {\n",
       "        text-align: right;\n",
       "    }\n",
       "</style>\n",
       "<table border=\"1\" class=\"dataframe\">\n",
       "  <thead>\n",
       "    <tr style=\"text-align: right;\">\n",
       "      <th></th>\n",
       "    </tr>\n",
       "  </thead>\n",
       "  <tbody>\n",
       "  </tbody>\n",
       "</table>\n",
       "</div>"
      ],
      "text/plain": [
       "Empty DataFrame\n",
       "Columns: []\n",
       "Index: []"
      ]
     },
     "execution_count": 539,
     "metadata": {},
     "output_type": "execute_result"
    }
   ],
   "source": [
    "df.groupby(['Title']).apply(s_rate)"
   ]
  },
  {
   "cell_type": "markdown",
   "id": "20351e3a",
   "metadata": {},
   "source": [
    "    - 미혼 여성의 생존률 = 0.7\n",
    "    - 남성의 생존률 = 0.15\n",
    "    - 기혼 여성의 생존률 = 0.79\n",
    "    - 기타 생존률 = 0.5"
   ]
  },
  {
   "cell_type": "code",
   "execution_count": null,
   "id": "04cba9d8",
   "metadata": {},
   "outputs": [],
   "source": []
  }
 ],
 "metadata": {
  "kernelspec": {
   "display_name": "Python 3",
   "language": "python",
   "name": "python3"
  },
  "language_info": {
   "codemirror_mode": {
    "name": "ipython",
    "version": 3
   },
   "file_extension": ".py",
   "mimetype": "text/x-python",
   "name": "python",
   "nbconvert_exporter": "python",
   "pygments_lexer": "ipython3",
   "version": "3.8.8"
  }
 },
 "nbformat": 4,
 "nbformat_minor": 5
}
