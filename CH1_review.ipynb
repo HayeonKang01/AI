{
 "cells": [
  {
   "cell_type": "code",
   "execution_count": 1,
   "id": "581c19ac",
   "metadata": {},
   "outputs": [],
   "source": [
    "import pandas as pd"
   ]
  },
  {
   "cell_type": "code",
   "execution_count": 3,
   "id": "f4987413",
   "metadata": {},
   "outputs": [],
   "source": [
    "df = pd.read_excel('Casualty.xlsx')"
   ]
  },
  {
   "cell_type": "code",
   "execution_count": 21,
   "id": "98ec1ed5",
   "metadata": {},
   "outputs": [
    {
     "data": {
      "text/html": [
       "<div>\n",
       "<style scoped>\n",
       "    .dataframe tbody tr th:only-of-type {\n",
       "        vertical-align: middle;\n",
       "    }\n",
       "\n",
       "    .dataframe tbody tr th {\n",
       "        vertical-align: top;\n",
       "    }\n",
       "\n",
       "    .dataframe thead th {\n",
       "        text-align: right;\n",
       "    }\n",
       "</style>\n",
       "<table border=\"1\" class=\"dataframe\">\n",
       "  <thead>\n",
       "    <tr style=\"text-align: right;\">\n",
       "      <th></th>\n",
       "      <th>Acc_Index</th>\n",
       "      <th>Vehicle_Reference</th>\n",
       "      <th>Casualty_Reference</th>\n",
       "      <th>Casualty_Class</th>\n",
       "      <th>Gender_of_Casualty</th>\n",
       "      <th>Age_Band_of_Casualty</th>\n",
       "      <th>Casualty_Severity</th>\n",
       "      <th>Pedestrian_Location</th>\n",
       "      <th>Pedestrian_Movement</th>\n",
       "      <th>Car_Passenger</th>\n",
       "      <th>Bus_or_Coach_Passenger</th>\n",
       "      <th>Pedestrian_Road_Maintenance_Worker</th>\n",
       "      <th>Casualty_Type</th>\n",
       "      <th>Casualty_Home_Area_Type</th>\n",
       "    </tr>\n",
       "  </thead>\n",
       "  <tbody>\n",
       "    <tr>\n",
       "      <th>0</th>\n",
       "      <td>197901A11AD14</td>\n",
       "      <td>2</td>\n",
       "      <td>1</td>\n",
       "      <td>1</td>\n",
       "      <td>1</td>\n",
       "      <td>-1</td>\n",
       "      <td>3</td>\n",
       "      <td>0</td>\n",
       "      <td>0</td>\n",
       "      <td>0</td>\n",
       "      <td>0</td>\n",
       "      <td>0</td>\n",
       "      <td>104</td>\n",
       "      <td>-1</td>\n",
       "    </tr>\n",
       "    <tr>\n",
       "      <th>1</th>\n",
       "      <td>197901A1BAW34</td>\n",
       "      <td>1</td>\n",
       "      <td>1</td>\n",
       "      <td>3</td>\n",
       "      <td>2</td>\n",
       "      <td>6</td>\n",
       "      <td>3</td>\n",
       "      <td>10</td>\n",
       "      <td>5</td>\n",
       "      <td>0</td>\n",
       "      <td>0</td>\n",
       "      <td>-1</td>\n",
       "      <td>0</td>\n",
       "      <td>-1</td>\n",
       "    </tr>\n",
       "    <tr>\n",
       "      <th>2</th>\n",
       "      <td>197901A1BFD77</td>\n",
       "      <td>1</td>\n",
       "      <td>1</td>\n",
       "      <td>1</td>\n",
       "      <td>1</td>\n",
       "      <td>5</td>\n",
       "      <td>3</td>\n",
       "      <td>0</td>\n",
       "      <td>0</td>\n",
       "      <td>0</td>\n",
       "      <td>0</td>\n",
       "      <td>0</td>\n",
       "      <td>109</td>\n",
       "      <td>-1</td>\n",
       "    </tr>\n",
       "    <tr>\n",
       "      <th>3</th>\n",
       "      <td>197901A1BFD77</td>\n",
       "      <td>1</td>\n",
       "      <td>2</td>\n",
       "      <td>2</td>\n",
       "      <td>1</td>\n",
       "      <td>4</td>\n",
       "      <td>3</td>\n",
       "      <td>0</td>\n",
       "      <td>0</td>\n",
       "      <td>1</td>\n",
       "      <td>0</td>\n",
       "      <td>0</td>\n",
       "      <td>109</td>\n",
       "      <td>-1</td>\n",
       "    </tr>\n",
       "    <tr>\n",
       "      <th>4</th>\n",
       "      <td>197901A1BFD77</td>\n",
       "      <td>2</td>\n",
       "      <td>3</td>\n",
       "      <td>1</td>\n",
       "      <td>1</td>\n",
       "      <td>6</td>\n",
       "      <td>3</td>\n",
       "      <td>0</td>\n",
       "      <td>0</td>\n",
       "      <td>0</td>\n",
       "      <td>0</td>\n",
       "      <td>0</td>\n",
       "      <td>109</td>\n",
       "      <td>-1</td>\n",
       "    </tr>\n",
       "  </tbody>\n",
       "</table>\n",
       "</div>"
      ],
      "text/plain": [
       "       Acc_Index  Vehicle_Reference  Casualty_Reference  Casualty_Class  \\\n",
       "0  197901A11AD14                  2                   1               1   \n",
       "1  197901A1BAW34                  1                   1               3   \n",
       "2  197901A1BFD77                  1                   1               1   \n",
       "3  197901A1BFD77                  1                   2               2   \n",
       "4  197901A1BFD77                  2                   3               1   \n",
       "\n",
       "   Gender_of_Casualty  Age_Band_of_Casualty  Casualty_Severity  \\\n",
       "0                   1                    -1                  3   \n",
       "1                   2                     6                  3   \n",
       "2                   1                     5                  3   \n",
       "3                   1                     4                  3   \n",
       "4                   1                     6                  3   \n",
       "\n",
       "   Pedestrian_Location  Pedestrian_Movement  Car_Passenger  \\\n",
       "0                    0                    0              0   \n",
       "1                   10                    5              0   \n",
       "2                    0                    0              0   \n",
       "3                    0                    0              1   \n",
       "4                    0                    0              0   \n",
       "\n",
       "   Bus_or_Coach_Passenger  Pedestrian_Road_Maintenance_Worker  Casualty_Type  \\\n",
       "0                       0                                   0            104   \n",
       "1                       0                                  -1              0   \n",
       "2                       0                                   0            109   \n",
       "3                       0                                   0            109   \n",
       "4                       0                                   0            109   \n",
       "\n",
       "   Casualty_Home_Area_Type  \n",
       "0                       -1  \n",
       "1                       -1  \n",
       "2                       -1  \n",
       "3                       -1  \n",
       "4                       -1  "
      ]
     },
     "execution_count": 21,
     "metadata": {},
     "output_type": "execute_result"
    }
   ],
   "source": [
    "df.head()"
   ]
  },
  {
   "cell_type": "markdown",
   "id": "7fed956a",
   "metadata": {},
   "source": [
    "## 1. 기록된 전체 교통사고 건수"
   ]
  },
  {
   "cell_type": "code",
   "execution_count": 5,
   "id": "03fd12f0",
   "metadata": {},
   "outputs": [
    {
     "data": {
      "text/plain": [
       "93045"
      ]
     },
     "execution_count": 5,
     "metadata": {},
     "output_type": "execute_result"
    }
   ],
   "source": [
    "len(df)"
   ]
  },
  {
   "cell_type": "markdown",
   "id": "e12656b5",
   "metadata": {},
   "source": [
    "## 2-1. 남성의 교통사고 건수 "
   ]
  },
  {
   "cell_type": "code",
   "execution_count": 10,
   "id": "be4defa0",
   "metadata": {},
   "outputs": [
    {
     "data": {
      "text/plain": [
       "59778"
      ]
     },
     "execution_count": 10,
     "metadata": {},
     "output_type": "execute_result"
    }
   ],
   "source": [
    "len(df[df['Gender_of_Casualty']==1])"
   ]
  },
  {
   "cell_type": "markdown",
   "id": "fc1920cd",
   "metadata": {},
   "source": [
    "## 2-2. 여성의 교통사고 건수"
   ]
  },
  {
   "cell_type": "code",
   "execution_count": 11,
   "id": "b7c65d8a",
   "metadata": {},
   "outputs": [
    {
     "data": {
      "text/plain": [
       "32961"
      ]
     },
     "execution_count": 11,
     "metadata": {},
     "output_type": "execute_result"
    }
   ],
   "source": [
    "len(df[df['Gender_of_Casualty']==2])"
   ]
  },
  {
   "cell_type": "markdown",
   "id": "8fc2a8cc",
   "metadata": {},
   "source": [
    "## 3. 사고가 일어나는 버스 안에서 가장 위험한 사람"
   ]
  },
  {
   "cell_type": "code",
   "execution_count": 12,
   "id": "bac8a730",
   "metadata": {},
   "outputs": [
    {
     "data": {
      "text/plain": [
       " 0    88722\n",
       "-1     1837\n",
       " 1     1371\n",
       " 4      551\n",
       " 3      354\n",
       " 2      210\n",
       "Name: Bus_or_Coach_Passenger, dtype: int64"
      ]
     },
     "execution_count": 12,
     "metadata": {},
     "output_type": "execute_result"
    }
   ],
   "source": [
    "df['Bus_or_Coach_Passenger'].value_counts()"
   ]
  },
  {
   "cell_type": "markdown",
   "id": "c499b434",
   "metadata": {},
   "source": [
    "    - 승차 중이었던 승객이 가장 위험"
   ]
  },
  {
   "cell_type": "markdown",
   "id": "38d95766",
   "metadata": {},
   "source": [
    "## 4. 전체 Casualty_Type 중 가장 많은 사고 종류는? 가장 적은 사고 종류는?"
   ]
  },
  {
   "cell_type": "code",
   "execution_count": 13,
   "id": "c0fb21c1",
   "metadata": {},
   "outputs": [
    {
     "data": {
      "text/plain": [
       "109    37273\n",
       "0      23006\n",
       "104    14305\n",
       "1       6555\n",
       "11      4488\n",
       "19      2866\n",
       "2       2291\n",
       "108      754\n",
       "113      710\n",
       "90       377\n",
       "103      247\n",
       "110      143\n",
       "105       30\n",
       "Name: Casualty_Type, dtype: int64"
      ]
     },
     "execution_count": 13,
     "metadata": {},
     "output_type": "execute_result"
    }
   ],
   "source": [
    "df['Casualty_Type'].value_counts()"
   ]
  },
  {
   "cell_type": "markdown",
   "id": "de05528f",
   "metadata": {},
   "source": [
    "- 가장 많은 사고 종류 : 109 (차량탑승자(개인용 렌트카 포함)\n",
    "- 가장 적은 사고 종류 : 105 (오토바이 - 콤비네이션 라이더 또는 조수석)"
   ]
  },
  {
   "cell_type": "markdown",
   "id": "801234cc",
   "metadata": {},
   "source": [
    "## 5. 운전자들이 가장 많이 당하는 사고 종류는? 두 번째로 많이 당하는 사고 종류는?"
   ]
  },
  {
   "cell_type": "code",
   "execution_count": 14,
   "id": "08ea43f5",
   "metadata": {},
   "outputs": [
    {
     "data": {
      "text/plain": [
       "109    21469\n",
       "104    12802\n",
       "1       6502\n",
       "2       2243\n",
       "19      1858\n",
       "113      569\n",
       "103      222\n",
       "90       220\n",
       "108      210\n",
       "11       164\n",
       "110       44\n",
       "105       24\n",
       "Name: Casualty_Type, dtype: int64"
      ]
     },
     "execution_count": 14,
     "metadata": {},
     "output_type": "execute_result"
    }
   ],
   "source": [
    "df[df['Casualty_Class']==1]['Casualty_Type'].value_counts()"
   ]
  },
  {
   "cell_type": "markdown",
   "id": "afa73be5",
   "metadata": {},
   "source": [
    "- 운전자들이 가장 많이 당하는 사고 종류 : 109 (차량탑승자(개인용 렌트카 포함))\n",
    "- 운전자들이 두 번째로 많이 당하는 사고종류 : 104 (오토바이 라이더 또는 승객)"
   ]
  },
  {
   "cell_type": "code",
   "execution_count": null,
   "id": "5a6c569f",
   "metadata": {},
   "outputs": [],
   "source": []
  }
 ],
 "metadata": {
  "kernelspec": {
   "display_name": "Python 3",
   "language": "python",
   "name": "python3"
  },
  "language_info": {
   "codemirror_mode": {
    "name": "ipython",
    "version": 3
   },
   "file_extension": ".py",
   "mimetype": "text/x-python",
   "name": "python",
   "nbconvert_exporter": "python",
   "pygments_lexer": "ipython3",
   "version": "3.8.8"
  }
 },
 "nbformat": 4,
 "nbformat_minor": 5
}
