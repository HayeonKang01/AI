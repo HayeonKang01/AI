{
 "cells": [
  {
   "cell_type": "code",
   "execution_count": 35,
   "id": "0650703d",
   "metadata": {},
   "outputs": [],
   "source": [
    "import numpy as np\n",
    "import pandas as pd\n",
    "from sklearn.model_selection import train_test_split\n",
    "from sklearn.linear_model import LinearRegression\n",
    "from sklearn.tree import DecisionTreeClassifier, DecisionTreeRegressor\n",
    "from sklearn.datasets import load_boston, load_breast_cancer, load_iris\n",
    "from sklearn.metrics import accuracy_score, confusion_matrix, classification_report\n",
    "import graphviz \n",
    "from sklearn.tree import export_graphviz\n",
    "import matplotlib.pyplot as plt \n",
    "import math"
   ]
  },
  {
   "cell_type": "code",
   "execution_count": 36,
   "id": "47e9189b",
   "metadata": {},
   "outputs": [
    {
     "name": "stdout",
     "output_type": "stream",
     "text": [
      "(1599, 12)\n"
     ]
    },
    {
     "data": {
      "text/html": [
       "<div>\n",
       "<style scoped>\n",
       "    .dataframe tbody tr th:only-of-type {\n",
       "        vertical-align: middle;\n",
       "    }\n",
       "\n",
       "    .dataframe tbody tr th {\n",
       "        vertical-align: top;\n",
       "    }\n",
       "\n",
       "    .dataframe thead th {\n",
       "        text-align: right;\n",
       "    }\n",
       "</style>\n",
       "<table border=\"1\" class=\"dataframe\">\n",
       "  <thead>\n",
       "    <tr style=\"text-align: right;\">\n",
       "      <th></th>\n",
       "      <th>fixed acidity</th>\n",
       "      <th>volatile acidity</th>\n",
       "      <th>citric acid</th>\n",
       "      <th>residual sugar</th>\n",
       "      <th>chlorides</th>\n",
       "      <th>free sulfur dioxide</th>\n",
       "      <th>total sulfur dioxide</th>\n",
       "      <th>density</th>\n",
       "      <th>pH</th>\n",
       "      <th>sulphates</th>\n",
       "      <th>alcohol</th>\n",
       "      <th>quality</th>\n",
       "    </tr>\n",
       "  </thead>\n",
       "  <tbody>\n",
       "    <tr>\n",
       "      <th>0</th>\n",
       "      <td>7.4</td>\n",
       "      <td>0.70</td>\n",
       "      <td>0.00</td>\n",
       "      <td>1.9</td>\n",
       "      <td>0.076</td>\n",
       "      <td>11.0</td>\n",
       "      <td>34.0</td>\n",
       "      <td>0.9978</td>\n",
       "      <td>3.51</td>\n",
       "      <td>0.56</td>\n",
       "      <td>9.4</td>\n",
       "      <td>5</td>\n",
       "    </tr>\n",
       "    <tr>\n",
       "      <th>1</th>\n",
       "      <td>7.8</td>\n",
       "      <td>0.88</td>\n",
       "      <td>0.00</td>\n",
       "      <td>2.6</td>\n",
       "      <td>0.098</td>\n",
       "      <td>25.0</td>\n",
       "      <td>67.0</td>\n",
       "      <td>0.9968</td>\n",
       "      <td>3.20</td>\n",
       "      <td>0.68</td>\n",
       "      <td>9.8</td>\n",
       "      <td>5</td>\n",
       "    </tr>\n",
       "    <tr>\n",
       "      <th>2</th>\n",
       "      <td>7.8</td>\n",
       "      <td>0.76</td>\n",
       "      <td>0.04</td>\n",
       "      <td>2.3</td>\n",
       "      <td>0.092</td>\n",
       "      <td>15.0</td>\n",
       "      <td>54.0</td>\n",
       "      <td>0.9970</td>\n",
       "      <td>3.26</td>\n",
       "      <td>0.65</td>\n",
       "      <td>9.8</td>\n",
       "      <td>5</td>\n",
       "    </tr>\n",
       "    <tr>\n",
       "      <th>3</th>\n",
       "      <td>11.2</td>\n",
       "      <td>0.28</td>\n",
       "      <td>0.56</td>\n",
       "      <td>1.9</td>\n",
       "      <td>0.075</td>\n",
       "      <td>17.0</td>\n",
       "      <td>60.0</td>\n",
       "      <td>0.9980</td>\n",
       "      <td>3.16</td>\n",
       "      <td>0.58</td>\n",
       "      <td>9.8</td>\n",
       "      <td>6</td>\n",
       "    </tr>\n",
       "    <tr>\n",
       "      <th>4</th>\n",
       "      <td>7.4</td>\n",
       "      <td>0.70</td>\n",
       "      <td>0.00</td>\n",
       "      <td>1.9</td>\n",
       "      <td>0.076</td>\n",
       "      <td>11.0</td>\n",
       "      <td>34.0</td>\n",
       "      <td>0.9978</td>\n",
       "      <td>3.51</td>\n",
       "      <td>0.56</td>\n",
       "      <td>9.4</td>\n",
       "      <td>5</td>\n",
       "    </tr>\n",
       "  </tbody>\n",
       "</table>\n",
       "</div>"
      ],
      "text/plain": [
       "   fixed acidity  volatile acidity  citric acid  residual sugar  chlorides  \\\n",
       "0            7.4              0.70         0.00             1.9      0.076   \n",
       "1            7.8              0.88         0.00             2.6      0.098   \n",
       "2            7.8              0.76         0.04             2.3      0.092   \n",
       "3           11.2              0.28         0.56             1.9      0.075   \n",
       "4            7.4              0.70         0.00             1.9      0.076   \n",
       "\n",
       "   free sulfur dioxide  total sulfur dioxide  density    pH  sulphates  \\\n",
       "0                 11.0                  34.0   0.9978  3.51       0.56   \n",
       "1                 25.0                  67.0   0.9968  3.20       0.68   \n",
       "2                 15.0                  54.0   0.9970  3.26       0.65   \n",
       "3                 17.0                  60.0   0.9980  3.16       0.58   \n",
       "4                 11.0                  34.0   0.9978  3.51       0.56   \n",
       "\n",
       "   alcohol  quality  \n",
       "0      9.4        5  \n",
       "1      9.8        5  \n",
       "2      9.8        5  \n",
       "3      9.8        6  \n",
       "4      9.4        5  "
      ]
     },
     "execution_count": 36,
     "metadata": {},
     "output_type": "execute_result"
    }
   ],
   "source": [
    "data = pd.read_csv('/Users/hayeon/Downloads/2021-2(3-2)/머신러닝/data/winequality-red.csv')\n",
    "print(data.shape)\n",
    "data.head()"
   ]
  },
  {
   "cell_type": "code",
   "execution_count": 37,
   "id": "4d40937c",
   "metadata": {},
   "outputs": [],
   "source": [
    "data.loc[data.quality.isin([3, 4, 5]),'quality']=0\n",
    "data.loc[data.quality.isin([6, 7, 8]),'quality']=1"
   ]
  },
  {
   "cell_type": "code",
   "execution_count": 38,
   "id": "93efd48e",
   "metadata": {},
   "outputs": [],
   "source": [
    "X = np.array(data.iloc[:, :-1])\n",
    "y = np.array(data['quality'])"
   ]
  },
  {
   "cell_type": "code",
   "execution_count": 39,
   "id": "01fa6fe6",
   "metadata": {
    "scrolled": true
   },
   "outputs": [
    {
     "name": "stdout",
     "output_type": "stream",
     "text": [
      "X_train 크기:  (1199, 11)\n",
      "X_test 크기:  (400, 11)\n",
      "y_train 크기:  (1199,)\n",
      "y_test 크기:  (400,)\n"
     ]
    }
   ],
   "source": [
    "X_train, X_test, y_train, y_test = train_test_split(X, y)\n",
    "\n",
    "print(\"X_train 크기: \", X_train.shape)\n",
    "print(\"X_test 크기: \", X_test.shape)\n",
    "print(\"y_train 크기: \", y_train.shape)\n",
    "print(\"y_test 크기: \", y_test.shape)"
   ]
  },
  {
   "cell_type": "markdown",
   "id": "009e5b45",
   "metadata": {},
   "source": [
    "# Randomforest와 비교를 위해 DecisionTree 모델 생성"
   ]
  },
  {
   "cell_type": "code",
   "execution_count": 40,
   "id": "00e5c77b",
   "metadata": {},
   "outputs": [],
   "source": [
    "tree = DecisionTreeClassifier()\n",
    "tree.fit(X_train, y_train)\n",
    "temp_y_pred = tree.predict(X_test)"
   ]
  },
  {
   "cell_type": "markdown",
   "id": "57bde87b",
   "metadata": {},
   "source": [
    "# RandomForest 모델 생성"
   ]
  },
  {
   "cell_type": "code",
   "execution_count": 41,
   "id": "adc3b277",
   "metadata": {},
   "outputs": [
    {
     "data": {
      "text/plain": [
       "RandomForestClassifier(random_state=0)"
      ]
     },
     "execution_count": 41,
     "metadata": {},
     "output_type": "execute_result"
    }
   ],
   "source": [
    "from sklearn.ensemble import RandomForestClassifier\n",
    "RF = RandomForestClassifier(n_estimators=100, random_state=0)\n",
    "\n",
    "RF.fit(X_train, y_train)"
   ]
  },
  {
   "cell_type": "code",
   "execution_count": 42,
   "id": "9686f175",
   "metadata": {},
   "outputs": [
    {
     "data": {
      "text/plain": [
       "array([1, 1, 0, 1, 0, 0, 0, 1, 1, 1, 1, 0, 0, 0, 0, 1, 0, 1, 1, 1, 0, 1,\n",
       "       1, 1, 0, 1, 1, 0, 1, 0, 0, 0, 1, 0, 0, 1, 0, 1, 1, 0, 0, 1, 0, 1,\n",
       "       0, 1, 1, 0, 0, 1, 1, 1, 1, 1, 1, 0, 1, 0, 1, 1, 1, 1, 0, 1, 0, 0,\n",
       "       0, 0, 1, 0, 1, 0, 1, 1, 0, 1, 1, 0, 0, 1, 0, 0, 1, 0, 1, 1, 1, 0,\n",
       "       0, 1, 1, 1, 0, 1, 1, 1, 1, 0, 1, 0, 0, 1, 0, 1, 0, 1, 1, 0, 0, 0,\n",
       "       1, 0, 1, 1, 0, 1, 1, 1, 1, 1, 1, 1, 1, 1, 1, 1, 1, 1, 0, 1, 0, 1,\n",
       "       1, 0, 0, 0, 0, 0, 1, 1, 1, 0, 0, 0, 1, 0, 1, 0, 1, 1, 0, 1, 0, 0,\n",
       "       0, 0, 1, 1, 1, 0, 0, 0, 0, 1, 1, 0, 0, 1, 0, 1, 1, 1, 0, 1, 1, 0,\n",
       "       1, 0, 0, 1, 0, 0, 1, 1, 0, 1, 0, 1, 0, 1, 0, 1, 1, 1, 1, 0, 0, 0,\n",
       "       0, 1, 0, 0, 1, 0, 0, 0, 0, 0, 0, 0, 0, 0, 1, 1, 1, 1, 0, 0, 1, 0,\n",
       "       1, 1, 1, 1, 1, 1, 1, 1, 0, 0, 0, 1, 1, 0, 0, 0, 0, 0, 0, 0, 0, 1,\n",
       "       0, 1, 0, 0, 1, 0, 1, 0, 0, 1, 0, 1, 0, 1, 0, 1, 1, 0, 1, 1, 0, 1,\n",
       "       0, 0, 0, 1, 1, 0, 0, 0, 0, 1, 1, 0, 1, 1, 1, 0, 0, 0, 0, 0, 0, 0,\n",
       "       0, 1, 0, 1, 1, 1, 0, 1, 1, 1, 1, 0, 0, 1, 1, 1, 1, 0, 0, 0, 0, 1,\n",
       "       0, 0, 1, 1, 1, 1, 1, 1, 0, 0, 0, 1, 1, 1, 1, 1, 1, 1, 1, 1, 0, 1,\n",
       "       0, 0, 0, 1, 1, 0, 0, 0, 1, 0, 1, 0, 1, 1, 0, 0, 1, 1, 0, 0, 0, 1,\n",
       "       1, 0, 0, 1, 0, 1, 0, 1, 0, 0, 0, 0, 0, 0, 0, 1, 1, 0, 1, 1, 1, 1,\n",
       "       1, 0, 0, 0, 1, 0, 1, 0, 0, 0, 1, 0, 1, 1, 1, 0, 1, 1, 1, 1, 0, 0,\n",
       "       1, 0, 1, 1])"
      ]
     },
     "execution_count": 42,
     "metadata": {},
     "output_type": "execute_result"
    }
   ],
   "source": [
    "temp_y_pred_rf = RF.predict(X_test)\n",
    "temp_y_pred_rf"
   ]
  },
  {
   "cell_type": "code",
   "execution_count": 43,
   "id": "d66cea62",
   "metadata": {},
   "outputs": [
    {
     "name": "stdout",
     "output_type": "stream",
     "text": [
      "0.805\n"
     ]
    }
   ],
   "source": [
    "temp_acc = accuracy_score(y_test, temp_y_pred_rf)\n",
    "print(format(temp_acc))"
   ]
  },
  {
   "cell_type": "code",
   "execution_count": 44,
   "id": "a7df5032",
   "metadata": {},
   "outputs": [
    {
     "name": "stdout",
     "output_type": "stream",
     "text": [
      ">10, acc: 0.780\n",
      ">15, acc: 0.770\n",
      ">20, acc: 0.802\n",
      ">25, acc: 0.795\n",
      ">30, acc: 0.797\n",
      ">35, acc: 0.795\n",
      ">40, acc: 0.797\n",
      ">45, acc: 0.797\n",
      ">50, acc: 0.807\n",
      ">55, acc: 0.802\n",
      ">60, acc: 0.802\n",
      ">65, acc: 0.805\n",
      ">70, acc: 0.810\n",
      ">75, acc: 0.810\n",
      ">80, acc: 0.807\n",
      ">85, acc: 0.807\n",
      ">90, acc: 0.807\n",
      ">95, acc: 0.807\n",
      ">100, acc: 0.805\n",
      ">105, acc: 0.805\n",
      ">110, acc: 0.802\n",
      ">115, acc: 0.800\n",
      ">120, acc: 0.800\n",
      ">125, acc: 0.797\n",
      ">130, acc: 0.802\n",
      ">135, acc: 0.800\n",
      ">140, acc: 0.797\n",
      ">145, acc: 0.800\n",
      ">150, acc: 0.795\n",
      ">155, acc: 0.797\n",
      ">160, acc: 0.792\n",
      ">165, acc: 0.797\n",
      ">170, acc: 0.797\n",
      ">175, acc: 0.802\n",
      ">180, acc: 0.797\n",
      ">185, acc: 0.797\n",
      ">190, acc: 0.797\n",
      ">195, acc: 0.797\n",
      ">200, acc: 0.797\n",
      ">205, acc: 0.795\n",
      ">210, acc: 0.797\n",
      ">215, acc: 0.800\n",
      ">220, acc: 0.802\n",
      ">225, acc: 0.797\n",
      ">230, acc: 0.800\n",
      ">235, acc: 0.800\n",
      ">240, acc: 0.795\n",
      ">245, acc: 0.797\n",
      ">250, acc: 0.797\n",
      ">255, acc: 0.797\n",
      ">260, acc: 0.802\n",
      ">265, acc: 0.797\n",
      ">270, acc: 0.797\n",
      ">275, acc: 0.797\n",
      ">280, acc: 0.800\n",
      ">285, acc: 0.800\n",
      ">290, acc: 0.800\n",
      ">295, acc: 0.795\n",
      ">300, acc: 0.795\n",
      ">305, acc: 0.792\n",
      ">310, acc: 0.795\n",
      ">315, acc: 0.795\n",
      ">320, acc: 0.800\n",
      ">325, acc: 0.797\n",
      ">330, acc: 0.792\n",
      ">335, acc: 0.792\n",
      ">340, acc: 0.795\n",
      ">345, acc: 0.795\n",
      ">350, acc: 0.795\n",
      ">355, acc: 0.795\n",
      ">360, acc: 0.790\n",
      ">365, acc: 0.795\n",
      ">370, acc: 0.790\n",
      ">375, acc: 0.790\n",
      ">380, acc: 0.790\n",
      ">385, acc: 0.787\n",
      ">390, acc: 0.787\n",
      ">395, acc: 0.787\n",
      ">400, acc: 0.787\n",
      ">405, acc: 0.787\n",
      ">410, acc: 0.787\n",
      ">415, acc: 0.787\n",
      ">420, acc: 0.787\n",
      ">425, acc: 0.787\n",
      ">430, acc: 0.790\n",
      ">435, acc: 0.790\n",
      ">440, acc: 0.792\n",
      ">445, acc: 0.792\n",
      ">450, acc: 0.792\n",
      ">455, acc: 0.792\n",
      ">460, acc: 0.790\n",
      ">465, acc: 0.792\n",
      ">470, acc: 0.792\n",
      ">475, acc: 0.792\n",
      ">480, acc: 0.792\n",
      ">485, acc: 0.792\n",
      ">490, acc: 0.795\n",
      ">495, acc: 0.795\n"
     ]
    }
   ],
   "source": [
    "scores = []\n",
    "for i in range(10, 500, 5): \n",
    "    RF = RandomForestClassifier(n_estimators=i, random_state=0)\n",
    "    RF.fit(X_train, y_train)\n",
    "    \n",
    "    att = RF.predict(X_test)\n",
    "    acc = accuracy_score(y_test, att)\n",
    "    scores.append(acc)\n",
    "    \n",
    "    print('>%d, acc: %.3f' % (i, acc))"
   ]
  },
  {
   "cell_type": "code",
   "execution_count": 45,
   "id": "9b9f9106",
   "metadata": {},
   "outputs": [
    {
     "data": {
      "text/plain": [
       "<matplotlib.legend.Legend at 0x7fc8d902a250>"
      ]
     },
     "execution_count": 45,
     "metadata": {},
     "output_type": "execute_result"
    },
    {
     "data": {
      "image/png": "[encoded data removed]",
      "text/plain": [
       "<Figure size 432x288 with 1 Axes>"
      ]
     },
     "metadata": {
      "needs_background": "light"
     },
     "output_type": "display_data"
    }
   ],
   "source": [
    "plt.plot(range(10, 500, 5), scores, 'b--', label='RF_acc')\n",
    "plt.legend()"
   ]
  },
  {
   "cell_type": "code",
   "execution_count": 46,
   "id": "4bb1fa7e",
   "metadata": {},
   "outputs": [],
   "source": [
    "from sklearn.metrics import precision_score, recall_score, f1_score"
   ]
  },
  {
   "cell_type": "code",
   "execution_count": 47,
   "id": "3d9543da",
   "metadata": {},
   "outputs": [
    {
     "name": "stdout",
     "output_type": "stream",
     "text": [
      "< DecisionTree >\n",
      "accuracy:  0.7475\n",
      "precision:  0.7345132743362832\n",
      "recall:  0.8019323671497585\n",
      "f1:  0.7667436489607391\n"
     ]
    }
   ],
   "source": [
    "print('< DecisionTree >')\n",
    "print('accuracy: ', accuracy_score(y_test, temp_y_pred))\n",
    "print('precision: ', precision_score(y_test, temp_y_pred))\n",
    "print('recall: ', recall_score(y_test, temp_y_pred))\n",
    "print('f1: ', f1_score(y_test, temp_y_pred))"
   ]
  },
  {
   "cell_type": "code",
   "execution_count": 48,
   "id": "d6191b05",
   "metadata": {},
   "outputs": [
    {
     "name": "stdout",
     "output_type": "stream",
     "text": [
      "< RandomForest >\n",
      "accuracy:  0.805\n",
      "precision:  0.8115942028985508\n",
      "recall:  0.8115942028985508\n",
      "f1:  0.8115942028985508\n"
     ]
    }
   ],
   "source": [
    "print('< RandomForest >')\n",
    "print('accuracy: ', accuracy_score(y_test, temp_y_pred_rf))\n",
    "print('precision: ', precision_score(y_test, temp_y_pred_rf))\n",
    "print('recall: ', recall_score(y_test, temp_y_pred_rf))\n",
    "print('f1: ', f1_score(y_test, temp_y_pred_rf))"
   ]
  },
  {
   "cell_type": "markdown",
   "id": "676b0f49",
   "metadata": {},
   "source": [
    "### fpr1, tpr1, thresholds1 : DecisionTree 모델의 실제, 예측확률값을 활용한 값들. \n",
    "-  #### **fpr1 : FP(False Positive)의 비율 / tpr1(True Positive) : TP의 비율** \n",
    "### fpr2, tpr2, thresholds2 : RandomForest 모델의 실제, 예측확률값을 활용한 값들\n",
    "- #### **fpr2 : FP(False Positive)의 비율 / tpr2 : TP(True Positive)의 비율**"
   ]
  },
  {
   "cell_type": "code",
   "execution_count": 49,
   "id": "ed7a5372",
   "metadata": {},
   "outputs": [],
   "source": [
    "from sklearn.metrics import roc_curve\n",
    "fpr1, tpr1, thresholds1 = roc_curve(y_test, tree.predict_proba(X_test)[:, 1])\n",
    "fpr2, tpr2, thresholds2 = roc_curve(y_test, RF.predict_proba(X_test)[:, 1])"
   ]
  },
  {
   "cell_type": "code",
   "execution_count": 50,
   "id": "015d1231",
   "metadata": {},
   "outputs": [
    {
     "data": {
      "image/png": "[encoded data removed]",
      "text/plain": [
       "<Figure size 432x288 with 1 Axes>"
      ]
     },
     "metadata": {
      "needs_background": "light"
     },
     "output_type": "display_data"
    }
   ],
   "source": [
    "plt.plot(fpr1, tpr1, '-', ms=2, label='Decision Tree')\n",
    "plt.plot([0, 1], [0,1], '--', label='Random Guess')\n",
    "\n",
    "plt.xlabel('False Positive Rate')\n",
    "plt.ylabel('True Positive Rate')\n",
    "plt.title('Roc Curve')\n",
    "plt.legend(loc='lower right')\n",
    "plt.show()"
   ]
  },
  {
   "cell_type": "code",
   "execution_count": 51,
   "id": "919afc3f",
   "metadata": {},
   "outputs": [
    {
     "data": {
      "image/png": "[encoded data removed]",
      "text/plain": [
       "<Figure size 432x288 with 1 Axes>"
      ]
     },
     "metadata": {
      "needs_background": "light"
     },
     "output_type": "display_data"
    }
   ],
   "source": [
    "plt.plot(fpr2, tpr2, '-', ms=2, label='RandomForest')\n",
    "plt.plot([0, 1], [0,1], '--', label='Random Guess')\n",
    "\n",
    "plt.xlabel('False Positive Rate')\n",
    "plt.ylabel('True Positive Rate')\n",
    "plt.title('Roc Curve')\n",
    "plt.legend(loc='lower right')\n",
    "plt.show()"
   ]
  },
  {
   "cell_type": "markdown",
   "id": "3d200e6d",
   "metadata": {},
   "source": [
    "# AUC"
   ]
  },
  {
   "cell_type": "code",
   "execution_count": 52,
   "id": "6b175445",
   "metadata": {},
   "outputs": [],
   "source": [
    "from sklearn.metrics import auc"
   ]
  },
  {
   "cell_type": "code",
   "execution_count": 53,
   "id": "3d47d1e4",
   "metadata": {},
   "outputs": [],
   "source": [
    "roc_auc_DT = auc(fpr1, tpr1)\n",
    "roc_auc_RF = auc(fpr2, tpr2)"
   ]
  },
  {
   "cell_type": "code",
   "execution_count": 54,
   "id": "3db876be",
   "metadata": {},
   "outputs": [
    {
     "name": "stdout",
     "output_type": "stream",
     "text": [
      "DT auc 0.7455257690671072\n",
      "RF auc 0.8862856999824784\n"
     ]
    }
   ],
   "source": [
    "print('DT auc',roc_auc_DT)\n",
    "print('RF auc',roc_auc_RF)"
   ]
  },
  {
   "cell_type": "markdown",
   "id": "59f7b108",
   "metadata": {},
   "source": [
    "### DecisionTree가 Positive, Negative 클래스를 분류할 확률이 74%\n",
    "### RandomForest가 Positive, Negative 클래스를 분류할 확률이 87&\n",
    "## => RF가 DT보다 성능이 더 좋다."
   ]
  },
  {
   "cell_type": "code",
   "execution_count": 55,
   "id": "7cb3e207",
   "metadata": {},
   "outputs": [
    {
     "data": {
      "text/plain": [
       "<matplotlib.legend.Legend at 0x7fc8ab03ae50>"
      ]
     },
     "execution_count": 55,
     "metadata": {},
     "output_type": "execute_result"
    },
    {
     "data": {
      "image/png": "[encoded data removed]",
      "text/plain": [
       "<Figure size 432x288 with 1 Axes>"
      ]
     },
     "metadata": {
      "needs_background": "light"
     },
     "output_type": "display_data"
    }
   ],
   "source": [
    "plt.plot(fpr1, tpr1, 'b--', label='Decision Tree(area = %.2f)'%roc_auc_DT)\n",
    "plt.plot(fpr2, tpr2, 'r--', label='Random Forest(area = %.2f)'%roc_auc_RF)\n",
    "plt.plot([0, 1], [0, 1], 'g--', label='random guess')\n",
    "\n",
    "plt.title('ROC Curves')\n",
    "plt.xlabel('False Positive Rate')\n",
    "plt.ylabel('True Positive Rate')\n",
    "plt.legend(loc='lower right')"
   ]
  },
  {
   "cell_type": "markdown",
   "id": "2e2abd08",
   "metadata": {},
   "source": [
    "## 그래프로 한눈에 보아도, 거꾸로 ㄱ자에 더 가까운 그래프가 RandomForest이기 때문에 성능이 좋다고 볼 수 있다."
   ]
  },
  {
   "cell_type": "markdown",
   "id": "88e9b946",
   "metadata": {},
   "source": [
    "---"
   ]
  },
  {
   "cell_type": "markdown",
   "id": "b23fa930",
   "metadata": {},
   "source": [
    "# 학생 합격분류 \n",
    "## 전처리"
   ]
  },
  {
   "cell_type": "code",
   "execution_count": 56,
   "id": "26ff909a",
   "metadata": {},
   "outputs": [],
   "source": [
    "dt = pd.read_csv('/Users/hayeon/Downloads/student (1).csv')"
   ]
  },
  {
   "cell_type": "code",
   "execution_count": 57,
   "id": "19820ebe",
   "metadata": {},
   "outputs": [],
   "source": [
    "dt.drop(['nationality'], axis=1, inplace=True)\n",
    "dt['sex']=dt['sex'].map({'f':0, 'm':1})\n",
    "dt['admit']=dt['admit'].map({'불합격':0, '합격':1})\n",
    "dt['gre']=dt['gre'].fillna(dt['gre'].mean())\n",
    "dt['gpa']=dt['gpa'].fillna(dt['gpa'].mean())\n",
    "dt.dropna(inplace=True)"
   ]
  },
  {
   "cell_type": "markdown",
   "id": "ac102e64",
   "metadata": {},
   "source": [
    "## 데이터 분리"
   ]
  },
  {
   "cell_type": "code",
   "execution_count": 58,
   "id": "ba17b6bc",
   "metadata": {},
   "outputs": [],
   "source": [
    "X = dt.iloc[:, :-1]\n",
    "y = dt['admit']"
   ]
  },
  {
   "cell_type": "code",
   "execution_count": 59,
   "id": "5db7f795",
   "metadata": {},
   "outputs": [],
   "source": [
    "X_train, X_test, y_train, y_test = train_test_split(X, y)"
   ]
  },
  {
   "cell_type": "markdown",
   "id": "e681e45d",
   "metadata": {},
   "source": [
    "## 모델링 DT"
   ]
  },
  {
   "cell_type": "code",
   "execution_count": 60,
   "id": "2949e21e",
   "metadata": {},
   "outputs": [],
   "source": [
    "tree = DecisionTreeClassifier()\n",
    "tree.fit(X_train, y_train)\n",
    "y_pred_DT = tree.predict(X_test)"
   ]
  },
  {
   "cell_type": "markdown",
   "id": "893fdc3f",
   "metadata": {},
   "source": [
    "## 모델링 DT(max_depth=2)"
   ]
  },
  {
   "cell_type": "code",
   "execution_count": 61,
   "id": "1226afc1",
   "metadata": {},
   "outputs": [],
   "source": [
    "tree_m = DecisionTreeClassifier(max_depth=2)\n",
    "tree_m.fit(X_train, y_train)\n",
    "y_pred_DT_m = tree_m.predict(X_test)"
   ]
  },
  {
   "cell_type": "markdown",
   "id": "8d393eb7",
   "metadata": {},
   "source": [
    "## 모델링 RF"
   ]
  },
  {
   "cell_type": "code",
   "execution_count": 62,
   "id": "a7056b15",
   "metadata": {},
   "outputs": [
    {
     "data": {
      "text/plain": [
       "RandomForestClassifier(n_estimators=300, random_state=0)"
      ]
     },
     "execution_count": 62,
     "metadata": {},
     "output_type": "execute_result"
    }
   ],
   "source": [
    "RF = RandomForestClassifier(n_estimators=300, random_state=0)\n",
    "RF.fit(X_train, y_train)"
   ]
  },
  {
   "cell_type": "code",
   "execution_count": 63,
   "id": "f364065f",
   "metadata": {},
   "outputs": [
    {
     "data": {
      "text/plain": [
       "array([0., 0., 0., 0., 0., 0., 0., 1., 0., 0., 1., 0., 1., 0., 1., 0., 0.,\n",
       "       0., 1., 0., 0., 0., 0., 0., 1., 0., 0., 0., 0., 0., 1., 0., 0., 0.,\n",
       "       1., 0., 0., 0., 0., 0., 1., 0., 0., 1., 0., 0., 0., 0., 1., 0., 0.,\n",
       "       0., 0., 0., 0., 0., 0., 0., 1., 0., 0., 0., 0., 0., 0., 0., 0., 0.,\n",
       "       0., 1., 0., 0., 0., 0., 0., 1., 0., 0., 0., 1., 0., 1., 1., 1., 1.,\n",
       "       0., 0., 1., 0., 0., 0., 0., 0., 0., 1., 0., 0., 0., 0., 0.])"
      ]
     },
     "execution_count": 63,
     "metadata": {},
     "output_type": "execute_result"
    }
   ],
   "source": [
    "y_pred_RF = RF.predict(X_test)\n",
    "y_pred_RF"
   ]
  },
  {
   "cell_type": "code",
   "execution_count": 64,
   "id": "0819c0f1",
   "metadata": {},
   "outputs": [
    {
     "name": "stdout",
     "output_type": "stream",
     "text": [
      "0.7\n"
     ]
    }
   ],
   "source": [
    "temp_acc = accuracy_score(y_test, y_pred_RF)\n",
    "print(format(temp_acc))"
   ]
  },
  {
   "cell_type": "code",
   "execution_count": 65,
   "id": "8fa5fa32",
   "metadata": {},
   "outputs": [
    {
     "name": "stdout",
     "output_type": "stream",
     "text": [
      "< DT >\n",
      "accuracy:  0.71\n",
      "precision:  0.5588235294117647\n",
      "recall:  0.5757575757575758\n",
      "f1:  0.5671641791044776\n"
     ]
    }
   ],
   "source": [
    "print('< DT >')\n",
    "print('accuracy: ', accuracy_score(y_test, y_pred_DT))\n",
    "print('precision: ', precision_score(y_test, y_pred_DT))\n",
    "print('recall: ', recall_score(y_test, y_pred_DT))\n",
    "print('f1: ', f1_score(y_test, y_pred_DT))"
   ]
  },
  {
   "cell_type": "code",
   "execution_count": 66,
   "id": "542799c9",
   "metadata": {
    "scrolled": true
   },
   "outputs": [
    {
     "name": "stdout",
     "output_type": "stream",
     "text": [
      "< max_depth=2 DT >\n",
      "accuracy:  0.7\n",
      "precision:  0.6666666666666666\n",
      "recall:  0.18181818181818182\n",
      "f1:  0.28571428571428575\n"
     ]
    }
   ],
   "source": [
    "print('< max_depth=2 DT >')\n",
    "print('accuracy: ', accuracy_score(y_test, y_pred_DT_m))\n",
    "print('precision: ', precision_score(y_test, y_pred_DT_m))\n",
    "print('recall: ', recall_score(y_test, y_pred_DT_m))\n",
    "print('f1: ', f1_score(y_test, y_pred_DT_m))"
   ]
  },
  {
   "cell_type": "code",
   "execution_count": 67,
   "id": "9ec70065",
   "metadata": {},
   "outputs": [
    {
     "name": "stdout",
     "output_type": "stream",
     "text": [
      "< RF >\n",
      "accuracy:  0.7\n",
      "precision:  0.5714285714285714\n",
      "recall:  0.36363636363636365\n",
      "f1:  0.4444444444444444\n"
     ]
    }
   ],
   "source": [
    "print('< RF >')\n",
    "print('accuracy: ', accuracy_score(y_test, y_pred_RF))\n",
    "print('precision: ', precision_score(y_test, y_pred_RF))\n",
    "print('recall: ', recall_score(y_test, y_pred_RF))\n",
    "print('f1: ', f1_score(y_test, y_pred_RF))"
   ]
  },
  {
   "cell_type": "code",
   "execution_count": null,
   "id": "0d14adef",
   "metadata": {},
   "outputs": [],
   "source": []
  }
 ],
 "metadata": {
  "kernelspec": {
   "display_name": "Python 3",
   "language": "python",
   "name": "python3"
  },
  "language_info": {
   "codemirror_mode": {
    "name": "ipython",
    "version": 3
   },
   "file_extension": ".py",
   "mimetype": "text/x-python",
   "name": "python",
   "nbconvert_exporter": "python",
   "pygments_lexer": "ipython3",
   "version": "3.8.8"
  }
 },
 "nbformat": 4,
 "nbformat_minor": 5
}
