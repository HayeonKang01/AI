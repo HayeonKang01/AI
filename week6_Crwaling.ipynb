{
 "cells": [
  {
   "cell_type": "code",
   "execution_count": 17,
   "id": "8750fefb",
   "metadata": {},
   "outputs": [],
   "source": [
    "import warnings\n",
    "warnings.filterwarnings(action='ignore')"
   ]
  },
  {
   "cell_type": "markdown",
   "id": "97c5a8f0",
   "metadata": {},
   "source": [
    "# 태그(문자열) 제거: extract()\n",
    "\n",
    "### 예제 1"
   ]
  },
  {
   "cell_type": "code",
   "execution_count": 1,
   "id": "b869e9e4",
   "metadata": {},
   "outputs": [],
   "source": [
    "import requests\n",
    "from bs4 import BeautifulSoup"
   ]
  },
  {
   "cell_type": "code",
   "execution_count": 9,
   "id": "13c83618",
   "metadata": {},
   "outputs": [
    {
     "name": "stdout",
     "output_type": "stream",
     "text": [
      " 빅데이터 분석과 응용 매주 금요일 18:00-21:00\n"
     ]
    }
   ],
   "source": [
    "markup = '<p> 빅데이터 분석과 응용 <b>매주 금요일 18:00-21:00</b></p>'\n",
    "soup = BeautifulSoup(markup, 'html.parser')\n",
    "mydata = soup.find('p') #  = soup.p\n",
    "print(mydata.get_text())"
   ]
  },
  {
   "cell_type": "code",
   "execution_count": 10,
   "id": "5b73be62",
   "metadata": {},
   "outputs": [
    {
     "name": "stdout",
     "output_type": "stream",
     "text": [
      " 빅데이터 분석과 응용 \n"
     ]
    }
   ],
   "source": [
    "soup.b.extract()\n",
    "print(mydata.get_text())"
   ]
  },
  {
   "cell_type": "markdown",
   "id": "7bdfced1",
   "metadata": {},
   "source": [
    "### 예제2 - extract()는 특정 태그(문자열)을 반환"
   ]
  },
  {
   "cell_type": "code",
   "execution_count": 18,
   "id": "333e7ea5",
   "metadata": {},
   "outputs": [
    {
     "name": "stdout",
     "output_type": "stream",
     "text": [
      "<a href=\"http://example.com/\">I linked to <i>example.com</i></a>\n"
     ]
    }
   ],
   "source": [
    "markup = '<a href=\"http://example.com/\">I linked to <i>example.com</i></a>'\n",
    "soup = BeautifulSoup(markup)\n",
    "a_tag = soup.a\n",
    "print(a_tag)"
   ]
  },
  {
   "cell_type": "code",
   "execution_count": 19,
   "id": "e1b71653",
   "metadata": {},
   "outputs": [
    {
     "name": "stdout",
     "output_type": "stream",
     "text": [
      "<i>example.com</i>\n"
     ]
    }
   ],
   "source": [
    "i_tag = soup.i.extract()\n",
    "print(i_tag)"
   ]
  },
  {
   "cell_type": "code",
   "execution_count": 20,
   "id": "da8c4834",
   "metadata": {},
   "outputs": [
    {
     "name": "stdout",
     "output_type": "stream",
     "text": [
      "<a href=\"http://example.com/\">I linked to </a>\n"
     ]
    }
   ],
   "source": [
    "print(a_tag) # i 태그 잘려나감"
   ]
  },
  {
   "cell_type": "markdown",
   "id": "1aeb18be",
   "metadata": {},
   "source": [
    "### 제거할 태그가 없는 상태에서 제거하려할 경우 에러발생"
   ]
  },
  {
   "cell_type": "code",
   "execution_count": 21,
   "id": "16bd7640",
   "metadata": {},
   "outputs": [
    {
     "ename": "AttributeError",
     "evalue": "'NoneType' object has no attribute 'extract'",
     "output_type": "error",
     "traceback": [
      "\u001b[0;31m---------------------------------------------------------------------------\u001b[0m",
      "\u001b[0;31mAttributeError\u001b[0m                            Traceback (most recent call last)",
      "\u001b[0;32m<ipython-input-21-9a93fa8b3095>\u001b[0m in \u001b[0;36m<module>\u001b[0;34m\u001b[0m\n\u001b[0;32m----> 1\u001b[0;31m \u001b[0msoup\u001b[0m\u001b[0;34m.\u001b[0m\u001b[0mi\u001b[0m\u001b[0;34m.\u001b[0m\u001b[0mextract\u001b[0m\u001b[0;34m(\u001b[0m\u001b[0;34m)\u001b[0m\u001b[0;34m\u001b[0m\u001b[0;34m\u001b[0m\u001b[0m\n\u001b[0m",
      "\u001b[0;31mAttributeError\u001b[0m: 'NoneType' object has no attribute 'extract'"
     ]
    }
   ],
   "source": [
    "soup.i.extract()"
   ]
  },
  {
   "cell_type": "markdown",
   "id": "0918955f",
   "metadata": {},
   "source": [
    "### parent 부모 태그를 찾아야할 떄"
   ]
  },
  {
   "cell_type": "code",
   "execution_count": 22,
   "id": "204ac484",
   "metadata": {},
   "outputs": [
    {
     "name": "stdout",
     "output_type": "stream",
     "text": [
      "<i>example.com</i>\n",
      "<a href=\"http://example.com/\">I linked to <i>example.com</i></a>\n"
     ]
    }
   ],
   "source": [
    "markup = '<a href=\"http://example.com/\">I linked to <i>example.com</i></a>' # 먼저나온게 부모, 뒤에나온게 자식\n",
    "soup = BeautifulSoup(markup)\n",
    "tag = soup.i\n",
    "print(tag)\n",
    "print(tag.parent)"
   ]
  },
  {
   "cell_type": "code",
   "execution_count": 24,
   "id": "663be023",
   "metadata": {},
   "outputs": [
    {
     "name": "stdout",
     "output_type": "stream",
     "text": [
      "example.com\n"
     ]
    }
   ],
   "source": [
    "print(tag.string) # tag.get_taxt()와 동일"
   ]
  },
  {
   "cell_type": "code",
   "execution_count": 25,
   "id": "cb157b92",
   "metadata": {},
   "outputs": [
    {
     "name": "stdout",
     "output_type": "stream",
     "text": [
      "example.com\n"
     ]
    }
   ],
   "source": [
    "print(tag.string.extract()) # 두번 실행시켜보자!"
   ]
  },
  {
   "cell_type": "code",
   "execution_count": 26,
   "id": "d9ec31f2",
   "metadata": {},
   "outputs": [
    {
     "name": "stdout",
     "output_type": "stream",
     "text": [
      "<i></i>\n"
     ]
    }
   ],
   "source": [
    "print(tag) # extract 후"
   ]
  },
  {
   "cell_type": "markdown",
   "id": "ebd27362",
   "metadata": {},
   "source": [
    "### 예제3 - 여러부분에서 제거해야하는 경우 (갯수가 맞아야 함)"
   ]
  },
  {
   "cell_type": "code",
   "execution_count": 32,
   "id": "7304cd54",
   "metadata": {},
   "outputs": [
    {
     "name": "stdout",
     "output_type": "stream",
     "text": [
      "[<a href=\"http://naver.com/\">네이버 <i>홈페이지</i></a>, <a href=\"http://mju.ac.kr/\">명지대 <i>홈페이지</i></a>, <a href=\"http://hongik.ac.kr/\">홍익대 <i>홈페이지</i></a>]\n"
     ]
    }
   ],
   "source": [
    "markup = '''\n",
    "    <a href=\"http://naver.com/\">네이버 <i>홈페이지</i></a>\n",
    "    <a href=\"http://mju.ac.kr/\">명지대 <i>홈페이지</i></a>\n",
    "    <a href=\"http://hongik.ac.kr/\">홍익대 <i>홈페이지</i></a>\n",
    "    '''\n",
    "\n",
    "soup = BeautifulSoup(markup)\n",
    "mydata = soup.find_all('a')\n",
    "print(mydata)"
   ]
  },
  {
   "cell_type": "code",
   "execution_count": 33,
   "id": "9beca085",
   "metadata": {},
   "outputs": [
    {
     "name": "stdout",
     "output_type": "stream",
     "text": [
      "[<a href=\"http://naver.com/\">네이버 </a>, <a href=\"http://mju.ac.kr/\">명지대 </a>, <a href=\"http://hongik.ac.kr/\">홍익대 </a>]\n"
     ]
    }
   ],
   "source": [
    "for item in mydata:\n",
    "    soup.i.extract()\n",
    "    #print(soup)\n",
    "print(mydata)"
   ]
  },
  {
   "cell_type": "markdown",
   "id": "3c2262c9",
   "metadata": {},
   "source": [
    "---\n",
    "# 젝시믹스 best 상품명, 가격 크롤링"
   ]
  },
  {
   "cell_type": "code",
   "execution_count": 386,
   "id": "5ec66de1",
   "metadata": {},
   "outputs": [
    {
     "name": "stdout",
     "output_type": "stream",
     "text": [
      "셀라V업 3D 플러스 레깅스 마지막 1+1\n",
      "블랙라벨 시그니처 380N 레깅스 1+1\n",
      "아이스페더 1+1 \n",
      "아이스페더 컴포트 1+1\n",
      "셀라업텐션 레깅스 마지막 1+1\n",
      "블랙라벨 시그니처 360N 레깅스 1+1\n",
      "탄성팬츠 9.0&9.5 1+1\n",
      "루드 힙 쉘조거 1+1\n",
      "블랙라벨 시그니처 360N 8.5부 레깅스 1+1\n",
      "블랙라벨 시그니처 360N 부츠컷 팬츠 1+1\n",
      "하이디 베이직 브라탑 1+1 \n",
      "블랙라벨 시그니처 300N 수퍼라이트 레깅스 1+1\n",
      "미디움페더 조거팬츠 1+1\n",
      "컴포터블 카고 조거팬츠 1+1\n",
      "요가삭스 1+1\n",
      "헤바 크롭탑 1+1\n",
      "필리퍼 1+1\n",
      " 블랙라벨 시그니처 라이프 9부 레깅스 1+1\n",
      "프레쉬페더 트위스트 크롭 숏슬리브 1+1\n",
      "블랙라벨 시그니처 330N 레깅스 1+1\n",
      "심리스 SET\n",
      "아노락 후드 투웨이 바람막이 캐슈넛베이지\n",
      "머슬핏 숏슬리브 1+1\n",
      "탄성팬츠 올시즌 9.0&9.5 1+1\n",
      "젤라 인텐션 스퀘어 브라탑 1+1\n",
      "블랙라벨 시그니처 380N 서포트탑 1+1\n",
      "데일리 조깅스 블랙\n",
      "에어센트 1+1 \n",
      "심리스 쇼츠 1+1\n",
      "메쉬 스트링 숏슬리브 1+1\n",
      "젤라 인텐션 슬림핏 집업자켓 1+1\n",
      "글로리아 스퀘어 브라탑 1+1\n",
      "아노락 후드 투웨이 바람막이 블랙\n",
      "하이넥 아웃스트링 바람막이 블랙\n",
      "피케 슬림핏 카라 원피스 1+1\n",
      "우븐 믹스 후드 집업 스모키베이지\n",
      "벨벳 트랙라인 조거팬츠 1+1\n",
      "쿨링코튼 크롭탑 1+1\n",
      "에어로 마스크 1+1\n",
      "아노락 후드 투웨이 바람막이 미스트민트\n",
      "에어드로즈 투인원 쇼츠 1+1\n",
      "트리플 엑스 숏슬리브 1+1\n",
      "필드 하프집업 롱슬리브 1+1\n",
      "픽셀로고 루즈핏 숏슬리브 1+1\n",
      "레터링삭스 1+1\n",
      "심볼 크루삭스 2+1\n",
      "베이직 니삭스 2+1\n",
      "X-데이라이트조거 스톤화이트\n",
      "뮤턴트 롱 원피스 블랙\n",
      "X-2 클래식화이트\n",
      "쿨맥스 에코모드 포켓 티셔츠 1+1\n",
      "심리스 브라 스킨\n",
      "쿨앤드 베이직 티셔츠 1+1\n",
      "몰리스 베이지 SET\n",
      "마니악 쉘조거 1+1\n",
      "볼륨브라패드(2.5cm)\n",
      "뮤턴트 롱 원피스 멜란지그레이\n",
      "X-로우캔버스 시나몬블랙\n",
      "이온세라 립밤 앤 멀티스틱 No.1 오리지널\n",
      "딱붙 젤펜슬 라이너앤브로우\n",
      "심리스 브라 블랙\n",
      "X-1 유니크 실버라임\n",
      "젤리볼륨 립틴트 1+1\n",
      "X-하이커 트리플베이지\n",
      "001에어리&100스코어 선크림 1+1\n",
      "벨벳크림&젤리볼륨 립틴트 1+1\n",
      "피그먼트 슬로건 티셔츠 1+1\n",
      "스탠다드 슬로건 후드집업 블랙\n",
      "스탠다드 슬로건 후드집업 모스베이지\n",
      "컴포터블 카고 조거팬츠 블랙\n"
     ]
    }
   ],
   "source": [
    "# 특정 페이지에서 크롤링할 떄\n",
    "res = requests.get('https://www.xexymix.com/shop/shopbrand.html?xcode=020&type=Y')\n",
    "soup = BeautifulSoup(res.content)\n",
    "#soup.strike.extract()\n",
    "data_name = soup.find_all('li', 'prd-name')\n",
    "\n",
    "#for item in data_name:\n",
    "#    soup.strike.extract()\n",
    "    #print(soup)\n",
    "#print(mydata)\n",
    "\n",
    "for item in data_name:\n",
    "    print(item.get_text())"
   ]
  },
  {
   "cell_type": "code",
   "execution_count": 387,
   "id": "cf946665",
   "metadata": {
    "scrolled": false
   },
   "outputs": [],
   "source": [
    "res = requests.get('https://www.xexymix.com/shop/shopbrand.html?xcode=020&type=Y')\n",
    "soup = BeautifulSoup(res.content)\n",
    "\n",
    "\n",
    "for strike in soup(\"strike\"):\n",
    "    strike.decompose()\n",
    "\n",
    "for span in soup('span'):\n",
    "    span.decompose()\n",
    "    \n",
    "data_price = soup.find_all('li', 'prd-price')\n",
    "\n",
    "\n",
    "price = []\n",
    "for item in data_price:\n",
    "    price.append(item.get_text().strip())"
   ]
  },
  {
   "cell_type": "code",
   "execution_count": 388,
   "id": "5174138b",
   "metadata": {},
   "outputs": [],
   "source": [
    "while '' in price:\n",
    "    price.remove('')"
   ]
  },
  {
   "cell_type": "code",
   "execution_count": 389,
   "id": "a7b475fb",
   "metadata": {
    "scrolled": false
   },
   "outputs": [
    {
     "data": {
      "text/plain": [
       "['32,000',\n",
       " '59,000',\n",
       " '32,000',\n",
       " '34,000',\n",
       " '39,000',\n",
       " '54,000',\n",
       " '99,000',\n",
       " '39,000',\n",
       " '49,000',\n",
       " '58,000',\n",
       " '53,000',\n",
       " '54,000',\n",
       " '58,000',\n",
       " '99,000',\n",
       " '11,900',\n",
       " '34,000',\n",
       " '49,000',\n",
       " '58,000',\n",
       " '32,000',\n",
       " '48,000',\n",
       " '29,000',\n",
       " '57,000',\n",
       " '52,000',\n",
       " '99,000',\n",
       " '47,000',\n",
       " '58,000',\n",
       " '42,000',\n",
       " '29,000',\n",
       " '16,000',\n",
       " '38,000',\n",
       " '98,000',\n",
       " '49,000',\n",
       " '57,000',\n",
       " '59,000',\n",
       " '59,000',\n",
       " '59,000',\n",
       " '79,000',\n",
       " '32,000',\n",
       " '9,900',\n",
       " '57,000',\n",
       " '66,000',\n",
       " '54,000',\n",
       " '68,000',\n",
       " '49,000',\n",
       " '9,900',\n",
       " '13,800',\n",
       " '17,800',\n",
       " '69,000',\n",
       " '29,000',\n",
       " '69,000',\n",
       " '49,000',\n",
       " '26,000',\n",
       " '29,000',\n",
       " '19,000',\n",
       " '44,000',\n",
       " '4,900',\n",
       " '29,000',\n",
       " '72,000',\n",
       " '14,000',\n",
       " '9,900',\n",
       " '26,000',\n",
       " '79,000',\n",
       " '14,900',\n",
       " '89,000',\n",
       " '14,900',\n",
       " '14,900',\n",
       " '49,000',\n",
       " '35,000',\n",
       " '35,000',\n",
       " '52,000']"
      ]
     },
     "execution_count": 389,
     "metadata": {},
     "output_type": "execute_result"
    }
   ],
   "source": [
    "price"
   ]
  },
  {
   "cell_type": "code",
   "execution_count": 390,
   "id": "76cb39e4",
   "metadata": {},
   "outputs": [],
   "source": [
    "import pandas as pd"
   ]
  },
  {
   "cell_type": "code",
   "execution_count": 391,
   "id": "c2a3a4e8",
   "metadata": {},
   "outputs": [],
   "source": [
    "df=pd.DataFrame({'name':[], \n",
    "            'price':[]})"
   ]
  },
  {
   "cell_type": "code",
   "execution_count": 392,
   "id": "3e800bc1",
   "metadata": {},
   "outputs": [],
   "source": [
    "df['name'] = data_name"
   ]
  },
  {
   "cell_type": "code",
   "execution_count": 393,
   "id": "9bde6c5f",
   "metadata": {},
   "outputs": [],
   "source": [
    "df['price'] = price"
   ]
  },
  {
   "cell_type": "code",
   "execution_count": 402,
   "id": "c50eaca6",
   "metadata": {},
   "outputs": [],
   "source": [
    "df['price'] = df.price.str.replace(',', '').astype('int64')"
   ]
  },
  {
   "cell_type": "code",
   "execution_count": 406,
   "id": "bc642b68",
   "metadata": {},
   "outputs": [
    {
     "data": {
      "text/html": [
       "<div>\n",
       "<style scoped>\n",
       "    .dataframe tbody tr th:only-of-type {\n",
       "        vertical-align: middle;\n",
       "    }\n",
       "\n",
       "    .dataframe tbody tr th {\n",
       "        vertical-align: top;\n",
       "    }\n",
       "\n",
       "    .dataframe thead th {\n",
       "        text-align: right;\n",
       "    }\n",
       "</style>\n",
       "<table border=\"1\" class=\"dataframe\">\n",
       "  <thead>\n",
       "    <tr style=\"text-align: right;\">\n",
       "      <th></th>\n",
       "      <th>name</th>\n",
       "      <th>price</th>\n",
       "    </tr>\n",
       "  </thead>\n",
       "  <tbody>\n",
       "    <tr>\n",
       "      <th>13</th>\n",
       "      <td>[컴포터블 카고 조거팬츠 1+1]</td>\n",
       "      <td>99000</td>\n",
       "    </tr>\n",
       "    <tr>\n",
       "      <th>6</th>\n",
       "      <td>[탄성팬츠 9.0&amp;9.5 1+1]</td>\n",
       "      <td>99000</td>\n",
       "    </tr>\n",
       "    <tr>\n",
       "      <th>23</th>\n",
       "      <td>[탄성팬츠 올시즌 9.0&amp;9.5 1+1]</td>\n",
       "      <td>99000</td>\n",
       "    </tr>\n",
       "    <tr>\n",
       "      <th>30</th>\n",
       "      <td>[젤라 인텐션 슬림핏 집업자켓 1+1]</td>\n",
       "      <td>98000</td>\n",
       "    </tr>\n",
       "    <tr>\n",
       "      <th>63</th>\n",
       "      <td>[X-하이커 트리플베이지]</td>\n",
       "      <td>89000</td>\n",
       "    </tr>\n",
       "    <tr>\n",
       "      <th>...</th>\n",
       "      <td>...</td>\n",
       "      <td>...</td>\n",
       "    </tr>\n",
       "    <tr>\n",
       "      <th>14</th>\n",
       "      <td>[요가삭스 1+1]</td>\n",
       "      <td>11900</td>\n",
       "    </tr>\n",
       "    <tr>\n",
       "      <th>38</th>\n",
       "      <td>[에어로 마스크 1+1]</td>\n",
       "      <td>9900</td>\n",
       "    </tr>\n",
       "    <tr>\n",
       "      <th>44</th>\n",
       "      <td>[레터링삭스 1+1]</td>\n",
       "      <td>9900</td>\n",
       "    </tr>\n",
       "    <tr>\n",
       "      <th>59</th>\n",
       "      <td>[딱붙 젤펜슬 라이너앤브로우]</td>\n",
       "      <td>9900</td>\n",
       "    </tr>\n",
       "    <tr>\n",
       "      <th>55</th>\n",
       "      <td>[볼륨브라패드(2.5cm)]</td>\n",
       "      <td>4900</td>\n",
       "    </tr>\n",
       "  </tbody>\n",
       "</table>\n",
       "<p>70 rows × 2 columns</p>\n",
       "</div>"
      ],
      "text/plain": [
       "                      name  price\n",
       "13      [컴포터블 카고 조거팬츠 1+1]  99000\n",
       "6       [탄성팬츠 9.0&9.5 1+1]  99000\n",
       "23  [탄성팬츠 올시즌 9.0&9.5 1+1]  99000\n",
       "30   [젤라 인텐션 슬림핏 집업자켓 1+1]  98000\n",
       "63          [X-하이커 트리플베이지]  89000\n",
       "..                     ...    ...\n",
       "14              [요가삭스 1+1]  11900\n",
       "38           [에어로 마스크 1+1]   9900\n",
       "44             [레터링삭스 1+1]   9900\n",
       "59        [딱붙 젤펜슬 라이너앤브로우]   9900\n",
       "55         [볼륨브라패드(2.5cm)]   4900\n",
       "\n",
       "[70 rows x 2 columns]"
      ]
     },
     "execution_count": 406,
     "metadata": {},
     "output_type": "execute_result"
    }
   ],
   "source": [
    "df.sort_values('price', ascending=False)"
   ]
  },
  {
   "cell_type": "markdown",
   "id": "1153243e",
   "metadata": {},
   "source": [
    "# 제주도 블로그 포스팅 글목록, 일자 크롤링"
   ]
  },
  {
   "cell_type": "code",
   "execution_count": 298,
   "id": "046d6d5b",
   "metadata": {},
   "outputs": [],
   "source": [
    "news = []\n",
    "site_pre = 'https://blog.naver.com/PostList.naver?from=postList&blogId=happyjejudo&categoryNo=35&parentCategoryNo=0&currentPage='\n",
    "for i in range(1, 10):\n",
    "    res = requests.get(site_pre + str(i))\n",
    "    soup = BeautifulSoup(res.content)\n",
    "    mydata = soup.find_all('strong', 'title ell')\n",
    "    for item in mydata:\n",
    "        news.append(item.get_text())\n",
    "    #print(mydata)"
   ]
  },
  {
   "cell_type": "code",
   "execution_count": 299,
   "id": "92d2e096",
   "metadata": {},
   "outputs": [],
   "source": [
    "date = []\n",
    "for i in range(1, 10):\n",
    "    res = requests.get(site_pre + str(i))\n",
    "    soup = BeautifulSoup(res.content)\n",
    "    mydata_date = soup.find_all('span', 'date')\n",
    "    for item in mydata_date:\n",
    "        date.append(item.get_text())\n",
    "    #print(mydata)"
   ]
  },
  {
   "cell_type": "code",
   "execution_count": 303,
   "id": "09606e49",
   "metadata": {},
   "outputs": [],
   "source": [
    "jeju = pd.DataFrame({'title':news, \n",
    "                    'date':date})"
   ]
  },
  {
   "cell_type": "code",
   "execution_count": 304,
   "id": "7f17b5f1",
   "metadata": {},
   "outputs": [
    {
     "data": {
      "text/html": [
       "<div>\n",
       "<style scoped>\n",
       "    .dataframe tbody tr th:only-of-type {\n",
       "        vertical-align: middle;\n",
       "    }\n",
       "\n",
       "    .dataframe tbody tr th {\n",
       "        vertical-align: top;\n",
       "    }\n",
       "\n",
       "    .dataframe thead th {\n",
       "        text-align: right;\n",
       "    }\n",
       "</style>\n",
       "<table border=\"1\" class=\"dataframe\">\n",
       "  <thead>\n",
       "    <tr style=\"text-align: right;\">\n",
       "      <th></th>\n",
       "      <th>title</th>\n",
       "      <th>date</th>\n",
       "    </tr>\n",
       "  </thead>\n",
       "  <tbody>\n",
       "    <tr>\n",
       "      <th>0</th>\n",
       "      <td>제주에서 만나는 벚꽃, 평화통일 불사리탑사</td>\n",
       "      <td>2022. 4. 7.</td>\n",
       "    </tr>\n",
       "    <tr>\n",
       "      <th>1</th>\n",
       "      <td>4월 제주 벚꽃 여행 '녹산로'</td>\n",
       "      <td>2022. 4. 6.</td>\n",
       "    </tr>\n",
       "    <tr>\n",
       "      <th>2</th>\n",
       "      <td>자전거 타고 봄나들이 가기 전, 자전거 무상수리센터에서 점검해요!</td>\n",
       "      <td>2022. 4. 6.</td>\n",
       "    </tr>\n",
       "    <tr>\n",
       "      <th>3</th>\n",
       "      <td>제주산 햇양파 우리가 사랑 합시다.</td>\n",
       "      <td>2022. 4. 5.</td>\n",
       "    </tr>\n",
       "    <tr>\n",
       "      <th>4</th>\n",
       "      <td>제주북페어 2022 책 운동회</td>\n",
       "      <td>2022. 4. 5.</td>\n",
       "    </tr>\n",
       "    <tr>\n",
       "      <th>...</th>\n",
       "      <td>...</td>\n",
       "      <td>...</td>\n",
       "    </tr>\n",
       "    <tr>\n",
       "      <th>139</th>\n",
       "      <td>제주 추사관 서귀포 김정희 유배지</td>\n",
       "      <td>2021. 9. 2.</td>\n",
       "    </tr>\n",
       "    <tr>\n",
       "      <th>140</th>\n",
       "      <td>저녁에 산책하기 좋은 김녕항 해안산책로</td>\n",
       "      <td>2021. 8. 31.</td>\n",
       "    </tr>\n",
       "    <tr>\n",
       "      <th>141</th>\n",
       "      <td>이야기로만 들어봤던 '제주 초가집'을 가보다! - 문형행 가옥</td>\n",
       "      <td>2021. 8. 30.</td>\n",
       "    </tr>\n",
       "    <tr>\n",
       "      <th>142</th>\n",
       "      <td>꼭 해변이 아니라도 좋은 제주도 바다 풍경 - 구좌 해안도로 편</td>\n",
       "      <td>2021. 8. 30.</td>\n",
       "    </tr>\n",
       "    <tr>\n",
       "      <th>143</th>\n",
       "      <td>새 생명이 움트는 아름다운 숲 저지오름</td>\n",
       "      <td>2021. 8. 29.</td>\n",
       "    </tr>\n",
       "  </tbody>\n",
       "</table>\n",
       "<p>144 rows × 2 columns</p>\n",
       "</div>"
      ],
      "text/plain": [
       "                                    title          date\n",
       "0                 제주에서 만나는 벚꽃, 평화통일 불사리탑사   2022. 4. 7.\n",
       "1                       4월 제주 벚꽃 여행 '녹산로'   2022. 4. 6.\n",
       "2    자전거 타고 봄나들이 가기 전, 자전거 무상수리센터에서 점검해요!   2022. 4. 6.\n",
       "3                     제주산 햇양파 우리가 사랑 합시다.   2022. 4. 5.\n",
       "4                        제주북페어 2022 책 운동회   2022. 4. 5.\n",
       "..                                    ...           ...\n",
       "139                    제주 추사관 서귀포 김정희 유배지   2021. 9. 2.\n",
       "140                 저녁에 산책하기 좋은 김녕항 해안산책로  2021. 8. 31.\n",
       "141    이야기로만 들어봤던 '제주 초가집'을 가보다! - 문형행 가옥  2021. 8. 30.\n",
       "142   꼭 해변이 아니라도 좋은 제주도 바다 풍경 - 구좌 해안도로 편  2021. 8. 30.\n",
       "143                 새 생명이 움트는 아름다운 숲 저지오름  2021. 8. 29.\n",
       "\n",
       "[144 rows x 2 columns]"
      ]
     },
     "execution_count": 304,
     "metadata": {},
     "output_type": "execute_result"
    }
   ],
   "source": [
    "jeju"
   ]
  },
  {
   "cell_type": "markdown",
   "id": "2cc70cab",
   "metadata": {},
   "source": [
    "# 네이버 영화 - 라라랜드 평점, 리뷰 크롤링"
   ]
  },
  {
   "cell_type": "code",
   "execution_count": 311,
   "id": "a9779396",
   "metadata": {},
   "outputs": [
    {
     "name": "stdout",
     "output_type": "stream",
     "text": [
      "_filtered_ment_0\n",
      "_filtered_ment_1\n",
      "_filtered_ment_2\n",
      "_filtered_ment_3\n",
      "_filtered_ment_4\n",
      "_filtered_ment_5\n",
      "_filtered_ment_6\n",
      "_filtered_ment_7\n",
      "_filtered_ment_8\n",
      "_filtered_ment_9\n"
     ]
    }
   ],
   "source": [
    "id_list = []\n",
    "id_pre = '_filtered_ment_'\n",
    "\n",
    "for i in range(0, 10):\n",
    "    id_list.append(id_pre + str(i))\n",
    "\n",
    "for no in id_list:\n",
    "    print(no)"
   ]
  },
  {
   "cell_type": "code",
   "execution_count": 370,
   "id": "c7cbea8d",
   "metadata": {},
   "outputs": [],
   "source": [
    "mydata = []\n",
    "site_pre = 'https://movie.naver.com/movie/bi/mi/pointWriteFormList.naver?code=134963&type=after&isActualPointWriteExecute=false&isMileageSubscriptionAlready=false&isMileageSubscriptionReject=false&page='\n",
    "for i in range(1, 11):\n",
    "    res = requests.get(site_pre + str(i))\n",
    "    soup = BeautifulSoup(res.content, 'html.parser')\n",
    "\n",
    "    id_list = []\n",
    "    id_pre = '_filtered_ment_'\n",
    "\n",
    "    for i in range(0, 10):\n",
    "        id_list.append(id_pre + str(i))\n",
    "\n",
    "\n",
    "    for id in id_list:\n",
    "        mydata.append(soup.find('span', {'id':id}).get_text().strip())"
   ]
  },
  {
   "cell_type": "code",
   "execution_count": 375,
   "id": "382b3f9e",
   "metadata": {},
   "outputs": [],
   "source": [
    "myscore = []\n",
    "site_pre = 'https://movie.naver.com/movie/bi/mi/pointWriteFormList.naver?code=134963&type=after&isActualPointWriteExecute=false&isMileageSubscriptionAlready=false&isMileageSubscriptionReject=false&page='\n",
    "for i in range(1, 11):\n",
    "    res = requests.get(site_pre + str(i))\n",
    "    soup = BeautifulSoup(res.content, 'html.parser')\n",
    "\n",
    "    score = soup.find_all('div', 'star_score')\n",
    "    for i in score:\n",
    "        myscore.append(i.get_text().strip())\n"
   ]
  },
  {
   "cell_type": "code",
   "execution_count": 378,
   "id": "24d6f762",
   "metadata": {},
   "outputs": [],
   "source": [
    "movie = pd.DataFrame({'review':mydata,\n",
    "                     'score':myscore})"
   ]
  },
  {
   "cell_type": "code",
   "execution_count": 385,
   "id": "a2774402",
   "metadata": {},
   "outputs": [
    {
     "data": {
      "text/html": [
       "<div>\n",
       "<style scoped>\n",
       "    .dataframe tbody tr th:only-of-type {\n",
       "        vertical-align: middle;\n",
       "    }\n",
       "\n",
       "    .dataframe tbody tr th {\n",
       "        vertical-align: top;\n",
       "    }\n",
       "\n",
       "    .dataframe thead th {\n",
       "        text-align: right;\n",
       "    }\n",
       "</style>\n",
       "<table border=\"1\" class=\"dataframe\">\n",
       "  <thead>\n",
       "    <tr style=\"text-align: right;\">\n",
       "      <th></th>\n",
       "      <th>review</th>\n",
       "      <th>score</th>\n",
       "    </tr>\n",
       "  </thead>\n",
       "  <tbody>\n",
       "    <tr>\n",
       "      <th>50</th>\n",
       "      <td>꿈과 성공, 그리고 사랑을 인생의 선 상에서 아름답게  표현했다. 춤과 노래가 어우...</td>\n",
       "      <td>10</td>\n",
       "    </tr>\n",
       "    <tr>\n",
       "      <th>29</th>\n",
       "      <td>끝나고도 계속 생각나네요 황홀하다는 느낌이 이런느낌이랄까  영상도 너무이쁘고 마지막...</td>\n",
       "      <td>10</td>\n",
       "    </tr>\n",
       "    <tr>\n",
       "      <th>66</th>\n",
       "      <td>내 인생작이라 할만큼 재밌게봤음</td>\n",
       "      <td>10</td>\n",
       "    </tr>\n",
       "    <tr>\n",
       "      <th>32</th>\n",
       "      <td>사람들은 현실같은 영화를 지루하다고 한다 그리고 온갖 영화스러움이 가득한 영화를 현...</td>\n",
       "      <td>10</td>\n",
       "    </tr>\n",
       "    <tr>\n",
       "      <th>65</th>\n",
       "      <td>인생 영화 또 하나 탄생. 보고 나서 여운이 몇날 며칠은 갈 것 같은 영화. 마지막...</td>\n",
       "      <td>10</td>\n",
       "    </tr>\n",
       "    <tr>\n",
       "      <th>...</th>\n",
       "      <td>...</td>\n",
       "      <td>...</td>\n",
       "    </tr>\n",
       "    <tr>\n",
       "      <th>77</th>\n",
       "      <td>너무나도 평점이 좋은 영화여서 너무 기대를했지만 이렇게 지루하고 재미없는 영화는 처...</td>\n",
       "      <td>1</td>\n",
       "    </tr>\n",
       "    <tr>\n",
       "      <th>67</th>\n",
       "      <td>남친있는 상태에서 남자주인공으로 환승 남주 꿈 존중하는 듯 하더니 은근슬적 압박줘서...</td>\n",
       "      <td>1</td>\n",
       "    </tr>\n",
       "    <tr>\n",
       "      <th>73</th>\n",
       "      <td>뭐가 재밌다는 건지..여자 주인공 왤케 의리 없는지 이해 안 감..음악이랑 춤은 좋...</td>\n",
       "      <td>1</td>\n",
       "    </tr>\n",
       "    <tr>\n",
       "      <th>72</th>\n",
       "      <td>나만재미없냐 솔직히말해봐라</td>\n",
       "      <td>1</td>\n",
       "    </tr>\n",
       "    <tr>\n",
       "      <th>79</th>\n",
       "      <td>저랑은 안맞는영화인것같네요</td>\n",
       "      <td>1</td>\n",
       "    </tr>\n",
       "  </tbody>\n",
       "</table>\n",
       "<p>100 rows × 2 columns</p>\n",
       "</div>"
      ],
      "text/plain": [
       "                                               review  score\n",
       "50  꿈과 성공, 그리고 사랑을 인생의 선 상에서 아름답게  표현했다. 춤과 노래가 어우...     10\n",
       "29  끝나고도 계속 생각나네요 황홀하다는 느낌이 이런느낌이랄까  영상도 너무이쁘고 마지막...     10\n",
       "66                                  내 인생작이라 할만큼 재밌게봤음     10\n",
       "32  사람들은 현실같은 영화를 지루하다고 한다 그리고 온갖 영화스러움이 가득한 영화를 현...     10\n",
       "65  인생 영화 또 하나 탄생. 보고 나서 여운이 몇날 며칠은 갈 것 같은 영화. 마지막...     10\n",
       "..                                                ...    ...\n",
       "77  너무나도 평점이 좋은 영화여서 너무 기대를했지만 이렇게 지루하고 재미없는 영화는 처...      1\n",
       "67  남친있는 상태에서 남자주인공으로 환승 남주 꿈 존중하는 듯 하더니 은근슬적 압박줘서...      1\n",
       "73  뭐가 재밌다는 건지..여자 주인공 왤케 의리 없는지 이해 안 감..음악이랑 춤은 좋...      1\n",
       "72                                     나만재미없냐 솔직히말해봐라      1\n",
       "79                                     저랑은 안맞는영화인것같네요      1\n",
       "\n",
       "[100 rows x 2 columns]"
      ]
     },
     "execution_count": 385,
     "metadata": {},
     "output_type": "execute_result"
    }
   ],
   "source": [
    "movie.astype({'score':'int'}).sort_values('score', ascending=False)"
   ]
  },
  {
   "cell_type": "code",
   "execution_count": null,
   "id": "4477eb4c",
   "metadata": {},
   "outputs": [],
   "source": []
  }
 ],
 "metadata": {
  "kernelspec": {
   "display_name": "Python 3",
   "language": "python",
   "name": "python3"
  },
  "language_info": {
   "codemirror_mode": {
    "name": "ipython",
    "version": 3
   },
   "file_extension": ".py",
   "mimetype": "text/x-python",
   "name": "python",
   "nbconvert_exporter": "python",
   "pygments_lexer": "ipython3",
   "version": "3.8.8"
  }
 },
 "nbformat": 4,
 "nbformat_minor": 5
}
