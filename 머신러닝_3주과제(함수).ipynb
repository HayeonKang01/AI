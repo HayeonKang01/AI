{
 "cells": [
  {
   "cell_type": "markdown",
   "id": "2feb6f59",
   "metadata": {},
   "source": [
    "# 3주차 과제 60191095 강하연"
   ]
  },
  {
   "cell_type": "code",
   "execution_count": 1,
   "id": "465fb004",
   "metadata": {},
   "outputs": [],
   "source": [
    "import random"
   ]
  },
  {
   "cell_type": "code",
   "execution_count": 2,
   "id": "eb858ffd",
   "metadata": {},
   "outputs": [],
   "source": [
    "def lotto(): \n",
    "    lotto = []\n",
    "    for i in range(6):\n",
    "        a = random.randrange(1, 45)\n",
    "        while a in lotto:\n",
    "            a = random.randrange(1, 45) # 겹치는 수 나오면 다시 돌려서 다른 숫자 넣도록 하는 코드\n",
    "        lotto.append(a)\n",
    "    num1, num2, num3, num4, num5, num6 = input('1에서 45 사이 여섯 개의 번호를 입력하세요 : ').split()\n",
    "    print(sorted(lotto))\n",
    "    \n",
    "    "
   ]
  },
  {
   "cell_type": "code",
   "execution_count": 3,
   "id": "1694bff5",
   "metadata": {},
   "outputs": [
    {
     "name": "stdout",
     "output_type": "stream",
     "text": [
      "1에서 45 사이 여섯 개의 번호를 입력하세요 : 1 4 10 33 44 21\n",
      "[5, 6, 14, 24, 26, 34]\n"
     ]
    }
   ],
   "source": [
    "lotto()"
   ]
  },
  {
   "cell_type": "markdown",
   "id": "78c1f3c5",
   "metadata": {},
   "source": [
    "# 3주차 과제 개인 #1 60191095 강하연"
   ]
  },
  {
   "cell_type": "code",
   "execution_count": 4,
   "id": "6d81d64e",
   "metadata": {},
   "outputs": [],
   "source": [
    "def lotto(): \n",
    "    lotto = []\n",
    "    for i in range(6):\n",
    "        a = random.randrange(1, 45)\n",
    "        while a in lotto:\n",
    "            a = random.randrange(1, 45)\n",
    "        lotto.append(a)\n",
    "    num1, num2, num3, num4, num5, num6 = input('1에서 45 사이 여섯 개의 번호를 입력하세요 : ').split()\n",
    "    num = []\n",
    "\n",
    "    num.append(int(num1))\n",
    "    num.append(int(num2))\n",
    "    num.append(int(num3))\n",
    "    num.append(int(num4))\n",
    "    num.append(int(num5))\n",
    "    num.append(int(num6))\n",
    "\n",
    "    print('뽑힌 번호: ', sorted(lotto))\n",
    "    print('뽑은 번호: ', sorted(num))\n",
    "    \n",
    "    count = 0\n",
    "    for items in lotto:\n",
    "        if items in num:\n",
    "            count=count+1\n",
    "        else:\n",
    "            continue\n",
    "\n",
    "    if count == 6:\n",
    "        print('1등')\n",
    "    if count == 5:\n",
    "        print('2등')\n",
    "    if count == 4:\n",
    "        print('3등')\n",
    "    if count == 3:\n",
    "        print('4등')\n",
    "    if count == 2:\n",
    "        print('5등')\n",
    "    if count == 1:\n",
    "        print('6등')\n",
    "    if count == 0:\n",
    "        print('꽝')"
   ]
  },
  {
   "cell_type": "code",
   "execution_count": 6,
   "id": "45400f70",
   "metadata": {},
   "outputs": [
    {
     "name": "stdout",
     "output_type": "stream",
     "text": [
      "1에서 45 사이 여섯 개의 번호를 입력하세요 : 1 2 3 4 5 6\n",
      "뽑힌 번호:  [8, 16, 24, 30, 31, 37]\n",
      "뽑은 번호:  [1, 2, 3, 4, 5, 6]\n",
      "꽝\n"
     ]
    }
   ],
   "source": [
    "lotto()"
   ]
  },
  {
   "cell_type": "markdown",
   "id": "8ad73882",
   "metadata": {},
   "source": [
    "# 3주차 과제 개인 #2 60191095 강하연"
   ]
  },
  {
   "cell_type": "code",
   "execution_count": 10,
   "id": "205f7ff6",
   "metadata": {},
   "outputs": [
    {
     "name": "stdout",
     "output_type": "stream",
     "text": [
      "영어점수, 수학점수를 입력하세요: 50 60\n",
      "영어점수, 수학점수를 입력하세요: \n"
     ]
    },
    {
     "ename": "ValueError",
     "evalue": "not enough values to unpack (expected 2, got 0)",
     "output_type": "error",
     "traceback": [
      "\u001b[0;31m---------------------------------------------------------------------------\u001b[0m",
      "\u001b[0;31mValueError\u001b[0m                                Traceback (most recent call last)",
      "\u001b[0;32m<ipython-input-10-24fce5eb219e>\u001b[0m in \u001b[0;36m<module>\u001b[0;34m\u001b[0m\n\u001b[1;32m      1\u001b[0m \u001b[0mscore\u001b[0m\u001b[0;34m=\u001b[0m\u001b[0;34m[\u001b[0m\u001b[0;34m]\u001b[0m\u001b[0;34m\u001b[0m\u001b[0;34m\u001b[0m\u001b[0m\n\u001b[1;32m      2\u001b[0m \u001b[0;32mfor\u001b[0m \u001b[0mi\u001b[0m \u001b[0;32min\u001b[0m \u001b[0mrange\u001b[0m\u001b[0;34m(\u001b[0m\u001b[0;36m5\u001b[0m\u001b[0;34m)\u001b[0m\u001b[0;34m:\u001b[0m\u001b[0;34m\u001b[0m\u001b[0;34m\u001b[0m\u001b[0m\n\u001b[0;32m----> 3\u001b[0;31m     \u001b[0mnum_en\u001b[0m\u001b[0;34m,\u001b[0m \u001b[0mnum_mt\u001b[0m \u001b[0;34m=\u001b[0m \u001b[0minput\u001b[0m\u001b[0;34m(\u001b[0m\u001b[0;34m'영어점수, 수학점수를 입력하세요: '\u001b[0m\u001b[0;34m)\u001b[0m\u001b[0;34m.\u001b[0m\u001b[0msplit\u001b[0m\u001b[0;34m(\u001b[0m\u001b[0;34m)\u001b[0m\u001b[0;34m\u001b[0m\u001b[0;34m\u001b[0m\u001b[0m\n\u001b[0m\u001b[1;32m      4\u001b[0m     \u001b[0mscore\u001b[0m\u001b[0;34m.\u001b[0m\u001b[0mappend\u001b[0m\u001b[0;34m(\u001b[0m\u001b[0mint\u001b[0m\u001b[0;34m(\u001b[0m\u001b[0mnum_en\u001b[0m\u001b[0;34m)\u001b[0m\u001b[0;34m)\u001b[0m\u001b[0;34m\u001b[0m\u001b[0;34m\u001b[0m\u001b[0m\n\u001b[1;32m      5\u001b[0m     \u001b[0mscore\u001b[0m\u001b[0;34m.\u001b[0m\u001b[0mappend\u001b[0m\u001b[0;34m(\u001b[0m\u001b[0mint\u001b[0m\u001b[0;34m(\u001b[0m\u001b[0mnum_mt\u001b[0m\u001b[0;34m)\u001b[0m\u001b[0;34m)\u001b[0m\u001b[0;34m\u001b[0m\u001b[0;34m\u001b[0m\u001b[0m\n",
      "\u001b[0;31mValueError\u001b[0m: not enough values to unpack (expected 2, got 0)"
     ]
    }
   ],
   "source": [
    "score=[]\n",
    "for i in range(5): \n",
    "    num_en, num_mt = input('영어점수, 수학점수를 입력하세요: ').split()\n",
    "    score.append(int(num_en))\n",
    "    score.append(int(num_mt))\n",
    "\n",
    "print(score)\n",
    "\n"
   ]
  },
  {
   "cell_type": "code",
   "execution_count": null,
   "id": "25e7f15a",
   "metadata": {},
   "outputs": [],
   "source": [
    "f = lambda x: x+5 if x>= 90 else x\n",
    "score=list(map(f, score))"
   ]
  },
  {
   "cell_type": "code",
   "execution_count": null,
   "id": "2cb4cc36",
   "metadata": {},
   "outputs": [],
   "source": [
    "for i in range(5):\n",
    "    print(score[2*i], '\\t', score[2*i+1])"
   ]
  },
  {
   "cell_type": "code",
   "execution_count": null,
   "id": "0b4e3fd1",
   "metadata": {},
   "outputs": [],
   "source": []
  }
 ],
 "metadata": {
  "kernelspec": {
   "display_name": "Python 3",
   "language": "python",
   "name": "python3"
  },
  "language_info": {
   "codemirror_mode": {
    "name": "ipython",
    "version": 3
   },
   "file_extension": ".py",
   "mimetype": "text/x-python",
   "name": "python",
   "nbconvert_exporter": "python",
   "pygments_lexer": "ipython3",
   "version": "3.8.8"
  }
 },
 "nbformat": 4,
 "nbformat_minor": 5
}
