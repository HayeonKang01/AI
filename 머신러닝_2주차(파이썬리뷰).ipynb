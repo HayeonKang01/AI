{
 "cells": [
  {
   "cell_type": "markdown",
   "id": "b24aa986",
   "metadata": {},
   "source": [
    "# **60191095 강하연**"
   ]
  },
  {
   "cell_type": "markdown",
   "id": "948070b6",
   "metadata": {},
   "source": [
    "# 과제1"
   ]
  },
  {
   "cell_type": "code",
   "execution_count": 60,
   "id": "888a4810",
   "metadata": {},
   "outputs": [
    {
     "name": "stdout",
     "output_type": "stream",
     "text": [
      "the truth will set you free\n",
      "the truth will set you free\n",
      "the truth will set you free\n",
      "\n"
     ]
    }
   ],
   "source": [
    "a = 'So Jesus said to the Jews who had believed him, “If you abide in my word, you are truly my disciples, and you will know the truth,and the truth will set you free.”'\n",
    "b = a[-29:-2]\n",
    "print((b+'\\n')*3)"
   ]
  },
  {
   "cell_type": "markdown",
   "id": "c4c469f3",
   "metadata": {},
   "source": [
    "# 과제2"
   ]
  },
  {
   "cell_type": "code",
   "execution_count": 18,
   "id": "5cb09416",
   "metadata": {},
   "outputs": [
    {
     "name": "stdout",
     "output_type": "stream",
     "text": [
      "정상 리뷰입니다.\n"
     ]
    }
   ],
   "source": [
    "review = \"이 강의가 제일 좋아!\"\n",
    "if len(review.split()) > 2: \n",
    "    print('정상 리뷰입니다.')\n",
    "else: \n",
    "    print('비정상 리뷰입니다.')"
   ]
  },
  {
   "cell_type": "markdown",
   "id": "6a057962",
   "metadata": {},
   "source": [
    "# 과제3"
   ]
  },
  {
   "cell_type": "code",
   "execution_count": 61,
   "id": "654aab3e",
   "metadata": {},
   "outputs": [
    {
     "data": {
      "text/plain": [
       "'이 강의 너무 즐거워!'"
      ]
     },
     "execution_count": 61,
     "metadata": {},
     "output_type": "execute_result"
    }
   ],
   "source": [
    "review = \"이 수업 너무 지겨워!\"\n",
    "review.replace(\"수업\", \"강의\")\n",
    "\n",
    "if '수업' in review:\n",
    "    review = review.replace('수업', '강의')\n",
    "\n",
    "if '지겨워' in review:\n",
    "    review = review.replace('지겨워', '즐거워')\n",
    "review"
   ]
  },
  {
   "cell_type": "markdown",
   "id": "a4f99dd9",
   "metadata": {},
   "source": [
    "---\n",
    "# 과제4"
   ]
  },
  {
   "cell_type": "code",
   "execution_count": 32,
   "id": "2ef3eeac",
   "metadata": {},
   "outputs": [
    {
     "name": "stdout",
     "output_type": "stream",
     "text": [
      "과일이름을 입력하세요: 오렌지\n",
      "no\n"
     ]
    }
   ],
   "source": [
    "i = input('과일이름을 입력하세요: ')\n",
    "\n",
    "fruits = []\n",
    "fruits.append(\"딸기\")\n",
    "fruits.append(\"바나나\")\n",
    "fruits.append(\"사과\")\n",
    "\n",
    "if i in fruits: \n",
    "    print(\"yes\")\n",
    "else: \n",
    "    print(\"no\")"
   ]
  },
  {
   "cell_type": "markdown",
   "id": "408c4da6",
   "metadata": {},
   "source": [
    "---\n",
    "# 과제5"
   ]
  },
  {
   "cell_type": "code",
   "execution_count": 43,
   "id": "771d0ce8",
   "metadata": {},
   "outputs": [
    {
     "name": "stdout",
     "output_type": "stream",
     "text": [
      "몇번 반복? :10\n",
      "hi\n",
      "hi\n",
      "hi\n",
      "hi\n",
      "hi\n",
      "hi\n",
      "hi\n",
      "hi\n",
      "hi\n",
      "hi\n",
      "\n",
      "몇번 반복? :4\n",
      "hi\n",
      "hi\n",
      "hi\n",
      "hi\n",
      "\n",
      "몇번 반복? :3\n",
      "hi\n",
      "hi\n",
      "hi\n",
      "\n"
     ]
    },
    {
     "ename": "KeyboardInterrupt",
     "evalue": "Interrupted by user",
     "output_type": "error",
     "traceback": [
      "\u001b[0;31m---------------------------------------------------------------------------\u001b[0m",
      "\u001b[0;31mKeyboardInterrupt\u001b[0m                         Traceback (most recent call last)",
      "\u001b[0;32m<ipython-input-43-19a1d15df201>\u001b[0m in \u001b[0;36m<module>\u001b[0;34m\u001b[0m\n\u001b[1;32m      1\u001b[0m \u001b[0;32mwhile\u001b[0m \u001b[0;32mTrue\u001b[0m\u001b[0;34m:\u001b[0m\u001b[0;34m\u001b[0m\u001b[0;34m\u001b[0m\u001b[0m\n\u001b[0;32m----> 2\u001b[0;31m     \u001b[0mnum\u001b[0m \u001b[0;34m=\u001b[0m \u001b[0mint\u001b[0m\u001b[0;34m(\u001b[0m\u001b[0minput\u001b[0m\u001b[0;34m(\u001b[0m\u001b[0;34m'몇번 반복? :'\u001b[0m\u001b[0;34m)\u001b[0m\u001b[0;34m)\u001b[0m\u001b[0;34m\u001b[0m\u001b[0;34m\u001b[0m\u001b[0m\n\u001b[0m\u001b[1;32m      3\u001b[0m     \u001b[0mprint\u001b[0m\u001b[0;34m(\u001b[0m\u001b[0;34m(\u001b[0m\u001b[0;34m'hi'\u001b[0m \u001b[0;34m+\u001b[0m \u001b[0;34m'\\n'\u001b[0m\u001b[0;34m)\u001b[0m\u001b[0;34m*\u001b[0m\u001b[0mnum\u001b[0m\u001b[0;34m)\u001b[0m\u001b[0;34m\u001b[0m\u001b[0;34m\u001b[0m\u001b[0m\n",
      "\u001b[0;32m~/opt/anaconda3/lib/python3.8/site-packages/ipykernel/kernelbase.py\u001b[0m in \u001b[0;36mraw_input\u001b[0;34m(self, prompt)\u001b[0m\n\u001b[1;32m    858\u001b[0m                 \u001b[0;34m\"raw_input was called, but this frontend does not support input requests.\"\u001b[0m\u001b[0;34m\u001b[0m\u001b[0;34m\u001b[0m\u001b[0m\n\u001b[1;32m    859\u001b[0m             )\n\u001b[0;32m--> 860\u001b[0;31m         return self._input_request(str(prompt),\n\u001b[0m\u001b[1;32m    861\u001b[0m             \u001b[0mself\u001b[0m\u001b[0;34m.\u001b[0m\u001b[0m_parent_ident\u001b[0m\u001b[0;34m,\u001b[0m\u001b[0;34m\u001b[0m\u001b[0;34m\u001b[0m\u001b[0m\n\u001b[1;32m    862\u001b[0m             \u001b[0mself\u001b[0m\u001b[0;34m.\u001b[0m\u001b[0m_parent_header\u001b[0m\u001b[0;34m,\u001b[0m\u001b[0;34m\u001b[0m\u001b[0;34m\u001b[0m\u001b[0m\n",
      "\u001b[0;32m~/opt/anaconda3/lib/python3.8/site-packages/ipykernel/kernelbase.py\u001b[0m in \u001b[0;36m_input_request\u001b[0;34m(self, prompt, ident, parent, password)\u001b[0m\n\u001b[1;32m    902\u001b[0m             \u001b[0;32mexcept\u001b[0m \u001b[0mKeyboardInterrupt\u001b[0m\u001b[0;34m:\u001b[0m\u001b[0;34m\u001b[0m\u001b[0;34m\u001b[0m\u001b[0m\n\u001b[1;32m    903\u001b[0m                 \u001b[0;31m# re-raise KeyboardInterrupt, to truncate traceback\u001b[0m\u001b[0;34m\u001b[0m\u001b[0;34m\u001b[0m\u001b[0;34m\u001b[0m\u001b[0m\n\u001b[0;32m--> 904\u001b[0;31m                 \u001b[0;32mraise\u001b[0m \u001b[0mKeyboardInterrupt\u001b[0m\u001b[0;34m(\u001b[0m\u001b[0;34m\"Interrupted by user\"\u001b[0m\u001b[0;34m)\u001b[0m \u001b[0;32mfrom\u001b[0m \u001b[0;32mNone\u001b[0m\u001b[0;34m\u001b[0m\u001b[0;34m\u001b[0m\u001b[0m\n\u001b[0m\u001b[1;32m    905\u001b[0m             \u001b[0;32mexcept\u001b[0m \u001b[0mException\u001b[0m \u001b[0;32mas\u001b[0m \u001b[0me\u001b[0m\u001b[0;34m:\u001b[0m\u001b[0;34m\u001b[0m\u001b[0;34m\u001b[0m\u001b[0m\n\u001b[1;32m    906\u001b[0m                 \u001b[0mself\u001b[0m\u001b[0;34m.\u001b[0m\u001b[0mlog\u001b[0m\u001b[0;34m.\u001b[0m\u001b[0mwarning\u001b[0m\u001b[0;34m(\u001b[0m\u001b[0;34m\"Invalid Message:\"\u001b[0m\u001b[0;34m,\u001b[0m \u001b[0mexc_info\u001b[0m\u001b[0;34m=\u001b[0m\u001b[0;32mTrue\u001b[0m\u001b[0;34m)\u001b[0m\u001b[0;34m\u001b[0m\u001b[0;34m\u001b[0m\u001b[0m\n",
      "\u001b[0;31mKeyboardInterrupt\u001b[0m: Interrupted by user"
     ]
    }
   ],
   "source": [
    "while True:\n",
    "    num = int(input('몇번 반복? :'))\n",
    "    print(('hi' + '\\n')*num)"
   ]
  },
  {
   "cell_type": "markdown",
   "id": "333e2dc3",
   "metadata": {},
   "source": [
    "---\n",
    "# 과제6"
   ]
  },
  {
   "cell_type": "code",
   "execution_count": 46,
   "id": "9f17eda2",
   "metadata": {},
   "outputs": [
    {
     "name": "stdout",
     "output_type": "stream",
     "text": [
      "숫자를 입력하세요 :10\n",
      "1\n",
      "2\n",
      "3\n",
      "4\n",
      "5\n",
      "6\n",
      "7\n",
      "8\n",
      "9\n",
      "10\n"
     ]
    }
   ],
   "source": [
    "num = int(input('숫자를 입력하세요 :'))\n",
    "n = 0\n",
    "\n",
    "while num > n:\n",
    "    print(n+1)\n",
    "    n=n+1"
   ]
  },
  {
   "cell_type": "markdown",
   "id": "9e77e65b",
   "metadata": {},
   "source": [
    "---\n",
    "# 과제7"
   ]
  },
  {
   "cell_type": "code",
   "execution_count": 47,
   "id": "5dd052a3",
   "metadata": {},
   "outputs": [
    {
     "name": "stdout",
     "output_type": "stream",
     "text": [
      "몇단을 출력? :9\n",
      "9 x 1 = 9\n",
      "9 x 2 = 18\n",
      "9 x 3 = 27\n",
      "9 x 4 = 36\n",
      "9 x 5 = 45\n",
      "9 x 6 = 54\n",
      "9 x 7 = 63\n",
      "9 x 8 = 72\n",
      "9 x 9 = 81\n",
      "9 x 10 = 90\n"
     ]
    }
   ],
   "source": [
    "g = int(input('몇단을 출력? :'))\n",
    "\n",
    "for i in range(1, 11) :\n",
    "    print(g, 'x', i, '=', g*i)"
   ]
  },
  {
   "cell_type": "markdown",
   "id": "285bbcd7",
   "metadata": {},
   "source": [
    "---\n",
    "# 과제8"
   ]
  },
  {
   "cell_type": "code",
   "execution_count": 58,
   "id": "1430de71",
   "metadata": {},
   "outputs": [
    {
     "name": "stdout",
     "output_type": "stream",
     "text": [
      "\n",
      "\n",
      "2 4 6 8 10 12 14 16 18 \n",
      "\n",
      "3 6 9 12 15 18 21 24 27 \n",
      "\n",
      "4 8 12 16 20 24 28 32 36 \n",
      "\n",
      "5 10 15 20 25 30 35 40 45 \n",
      "\n",
      "6 12 18 24 30 36 42 48 54 \n",
      "\n",
      "7 14 21 28 35 42 49 56 63 "
     ]
    }
   ],
   "source": [
    "for i in range(2, 8):\n",
    "    print('\\n')\n",
    "    for j in range(1, 10):\n",
    "        print(i*j, end = ' ')"
   ]
  },
  {
   "cell_type": "code",
   "execution_count": null,
   "id": "3489021e",
   "metadata": {},
   "outputs": [],
   "source": []
  }
 ],
 "metadata": {
  "kernelspec": {
   "display_name": "Python 3",
   "language": "python",
   "name": "python3"
  },
  "language_info": {
   "codemirror_mode": {
    "name": "ipython",
    "version": 3
   },
   "file_extension": ".py",
   "mimetype": "text/x-python",
   "name": "python",
   "nbconvert_exporter": "python",
   "pygments_lexer": "ipython3",
   "version": "3.8.8"
  }
 },
 "nbformat": 4,
 "nbformat_minor": 5
}
