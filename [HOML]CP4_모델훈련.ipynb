{
 "cells": [
  {
   "cell_type": "code",
   "execution_count": 32,
   "id": "251cb996",
   "metadata": {},
   "outputs": [],
   "source": [
    "import numpy as np"
   ]
  },
  {
   "cell_type": "markdown",
   "id": "f62d4551",
   "metadata": {},
   "source": [
    "### 정규방정식"
   ]
  },
  {
   "cell_type": "code",
   "execution_count": 35,
   "id": "b9749d9f",
   "metadata": {},
   "outputs": [],
   "source": [
    "X = 2 * np.random.rand(100, 1)\n",
    "y = 4 + 3 * X + np.random.randn(100, 1)"
   ]
  },
  {
   "cell_type": "code",
   "execution_count": 3,
   "id": "9be5154c",
   "metadata": {},
   "outputs": [],
   "source": [
    "import matplotlib.pyplot as plt"
   ]
  },
  {
   "cell_type": "markdown",
   "id": "3ea8db57",
   "metadata": {},
   "source": [
    "- 정규방정식을 테스트하기 위해 선형처럼 보이는 데이터 생성"
   ]
  },
  {
   "cell_type": "code",
   "execution_count": 36,
   "id": "7cf93a66",
   "metadata": {},
   "outputs": [
    {
     "data": {
      "image/png": "[encoded data removed]",
      "text/plain": [
       "<Figure size 576x288 with 1 Axes>"
      ]
     },
     "metadata": {
      "needs_background": "light"
     },
     "output_type": "display_data"
    }
   ],
   "source": [
    "plt.figure(figsize=(8, 4))\n",
    "plt.scatter(X, y)\n",
    "plt.xlabel('X1')\n",
    "plt.ylabel('y')\n",
    "plt.show()"
   ]
  },
  {
   "cell_type": "markdown",
   "id": "382bb429",
   "metadata": {},
   "source": [
    "* 데이터 생성에 사용한 함수 : y = 4 + 3x + 가우시안 잡음 "
   ]
  },
  {
   "cell_type": "code",
   "execution_count": 37,
   "id": "48677332",
   "metadata": {},
   "outputs": [],
   "source": [
    "X_b = np.c_[np.ones((100, 1)), X] # 모든 샘플에 x0 = 1을 추가\n",
    "theta_best = np.linalg.inv(X_b.T.dot(X_b)).dot(X_b.T).dot(y)"
   ]
  },
  {
   "cell_type": "code",
   "execution_count": 38,
   "id": "64414564",
   "metadata": {},
   "outputs": [
    {
     "data": {
      "text/plain": [
       "array([[4.19482579],\n",
       "       [2.81984695]])"
      ]
     },
     "execution_count": 38,
     "metadata": {},
     "output_type": "execute_result"
    }
   ],
   "source": [
    "theta_best"
   ]
  },
  {
   "cell_type": "markdown",
   "id": "ba47e496",
   "metadata": {},
   "source": [
    "- 정규방정식으로 계산한 값\n",
    "- 위의 수는 세타 0, 아래는 세타 1 \n",
    "- 원래 각각 4, 3이 나와야 하는데 틀린 이유는 가우시안 잡음때문에 맞추지 못했다."
   ]
  },
  {
   "cell_type": "code",
   "execution_count": 43,
   "id": "31890793",
   "metadata": {},
   "outputs": [
    {
     "data": {
      "text/plain": [
       "array([[4.19482579],\n",
       "       [9.8345197 ]])"
      ]
     },
     "execution_count": 43,
     "metadata": {},
     "output_type": "execute_result"
    }
   ],
   "source": [
    "X_new = np.array([[0], [2]])\n",
    "X_new_b = np.c_[np.ones((2, 1)), X_new] # 모든 샘플에 x0 = 1을 추가\n",
    "y_predict = X_new_b.dot(theta_best)\n",
    "y_predict"
   ]
  },
  {
   "cell_type": "code",
   "execution_count": 44,
   "id": "5c7f4669",
   "metadata": {},
   "outputs": [
    {
     "data": {
      "image/png": "[encoded data removed]",
      "text/plain": [
       "<Figure size 576x288 with 1 Axes>"
      ]
     },
     "metadata": {
      "needs_background": "light"
     },
     "output_type": "display_data"
    }
   ],
   "source": [
    "plt.figure(figsize=(8, 4))\n",
    "plt.plot(X_new, y_predict, 'r-', label = '예측')\n",
    "plt.plot(X, y, 'b.')\n",
    "plt.axis([0, 2, 0, 15])\n",
    "plt.legend()\n",
    "plt.title(\"모델의 예측\")\n",
    "plt.show()"
   ]
  },
  {
   "cell_type": "markdown",
   "id": "1b199747",
   "metadata": {},
   "source": [
    "### 선형회귀 수행"
   ]
  },
  {
   "cell_type": "code",
   "execution_count": 45,
   "id": "0624c2e0",
   "metadata": {},
   "outputs": [
    {
     "data": {
      "text/plain": [
       "LinearRegression()"
      ]
     },
     "execution_count": 45,
     "metadata": {},
     "output_type": "execute_result"
    }
   ],
   "source": [
    "from sklearn.linear_model import LinearRegression\n",
    "\n",
    "lin_reg = LinearRegression()\n",
    "lin_reg.fit(X, y)"
   ]
  },
  {
   "cell_type": "code",
   "execution_count": 46,
   "id": "27b4d1cf",
   "metadata": {},
   "outputs": [
    {
     "data": {
      "text/plain": [
       "(array([4.19482579]), array([[2.81984695]]))"
      ]
     },
     "execution_count": 46,
     "metadata": {},
     "output_type": "execute_result"
    }
   ],
   "source": [
    "lin_reg.intercept_, lin_reg.coef_"
   ]
  },
  {
   "cell_type": "code",
   "execution_count": 47,
   "id": "3c28e20d",
   "metadata": {},
   "outputs": [
    {
     "data": {
      "text/plain": [
       "array([[4.19482579],\n",
       "       [9.8345197 ]])"
      ]
     },
     "execution_count": 47,
     "metadata": {},
     "output_type": "execute_result"
    }
   ],
   "source": [
    "lin_reg.predict(X_new)"
   ]
  },
  {
   "cell_type": "markdown",
   "id": "5c9cb346",
   "metadata": {},
   "source": [
    "- lstsq(): 최소 제곱 해를 선형 행렬 방정식으로 반환하는 함수"
   ]
  },
  {
   "cell_type": "code",
   "execution_count": 48,
   "id": "e5d6898a",
   "metadata": {},
   "outputs": [
    {
     "data": {
      "text/plain": [
       "array([[4.19482579],\n",
       "       [2.81984695]])"
      ]
     },
     "execution_count": 48,
     "metadata": {},
     "output_type": "execute_result"
    }
   ],
   "source": [
    "theta_best_svd, residuals, rank, s = np.linalg.lstsq(X_b, y, rcond = 1e-6)\n",
    "theta_best_svd"
   ]
  },
  {
   "cell_type": "markdown",
   "id": "493baf25",
   "metadata": {},
   "source": [
    "- pinv(): 역행렬이 존재하지 않는 경우 부분적으로 역행렬과 유사한 역할을 할 수 있는 행렬을 구하는 함수"
   ]
  },
  {
   "cell_type": "code",
   "execution_count": 49,
   "id": "cdb58582",
   "metadata": {},
   "outputs": [
    {
     "data": {
      "text/plain": [
       "array([[4.19482579],\n",
       "       [2.81984695]])"
      ]
     },
     "execution_count": 49,
     "metadata": {},
     "output_type": "execute_result"
    }
   ],
   "source": [
    "np.linalg.pinv(X_b).dot(y)"
   ]
  },
  {
   "cell_type": "markdown",
   "id": "9e3dbf10",
   "metadata": {},
   "source": [
    "### 계산복잡도\n",
    "- 특성 수가 두배로 늘어나면 계산시간이 증가한다.\n",
    "- 사용하는 방법에 따라 증가하는 시간은 다를 수 있다."
   ]
  },
  {
   "cell_type": "markdown",
   "id": "5d5d8bfc",
   "metadata": {},
   "source": [
    "### 경사 하강법\n",
    "- 여러 종류의 문제에서 최적의 해법을 찾을 수 있는 일반적인 최적화 알고리즘\n",
    "- 비용함수를 최소화하기 위해 반복해서 파라미터 조정\n",
    "- 경사하강법을 설명할 떄 드는 예시인데, 안개가 많은 산에서 빨리 내려갈 수 있는 방법은 가파른 길을 따라 내려가는 것. 이게 경사하강법의 원리\n",
    "- 비용함수의 현재 그래디언트( = 비용함수 미분값) 계산 후 그래디언트가 감소하는 방향으로 진행 , 0이 되면 최솟값에 도달했다고 판단\n",
    "- 결론적으로는 최솟값을 찾아가는 과정입니다. \n",
    "- 경사하강법에서 중요한 파라미터는 스텝의 크기로 학습률이다. 학습률이 너무 작으면 조금씩 내려가져서 시간이 너무 오래 걸리고, 또 너무 크면 여기저기 튀면서 최솟값을 그냥 지나쳐버려서 최솟값에 도달하기 어렵다. \n",
    "- 그런데 비용함수가 다 이렇게 둥그럴수만은 없다. 구불구불한 선이 될 수도 있는데, 그 경우엔 지역 최솟값에 도달하는 문제가 생긴다. \n",
    "- 지역 최솟값, 전역 최솟값을 설명해보면 구불구불한 비용함수에서는 평탄한 곳이 나오거나, 내려갔다 올라오는 곳이 있으면 기울기가 0인 부분이 여러개가 될 수 있는데 기울기가 0인 모든 곳 중에서 최솟값인 곳이 전역 최솟값이고 나머지 부분은 지역최솟값이다. \n",
    "- 그런데 우리가 구하려는 선형회귀를 위한 mse 비용함수는 볼록함수로 지역 최솟값이 없다. \n",
    "- 특성이 두개 있는데 각 특성들의 스케일(단위)가 같으면 최솟값으로 빠르게 도달할 수 있고, 스케일이 많이 차이나면 시간이 오래 걸린다. \n",
    "- 이 경우에는 스케일링을 해주면 빠르게 최솟값을 찾을 수 있다. \n",
    "- "
   ]
  },
  {
   "cell_type": "markdown",
   "id": "850525ea",
   "metadata": {},
   "source": [
    "### 배치 경사하강법\n",
    "- 경사하강법을 구현하려면 각 모델 파라미터에 대해 비용 함수의 그래디언트를 계산해야 한다. 이건 파라미터가 조금 변경될 때 비용함수가 어떻게 바뀌는지 계산해야 한다는 말. 이게 편도함수이다. "
   ]
  },
  {
   "cell_type": "code",
   "execution_count": 50,
   "id": "ea8c948c",
   "metadata": {},
   "outputs": [],
   "source": [
    "eta = 0.1\n",
    "n_iterations = 1000\n",
    "m = 100\n",
    "\n",
    "theta = np.random.randn(2,1)\n",
    "\n",
    "for iteration in range(n_iterations):\n",
    "    gradients = 2/m*X_b.T.dot(X_b.dot(theta) - y)\n",
    "    theta = theta - eta * gradients"
   ]
  },
  {
   "cell_type": "code",
   "execution_count": 51,
   "id": "620d8d62",
   "metadata": {},
   "outputs": [
    {
     "data": {
      "text/plain": [
       "array([[4.19482579],\n",
       "       [2.81984695]])"
      ]
     },
     "execution_count": 51,
     "metadata": {},
     "output_type": "execute_result"
    }
   ],
   "source": [
    "theta"
   ]
  },
  {
   "cell_type": "code",
   "execution_count": 52,
   "id": "9c4bd2ab",
   "metadata": {},
   "outputs": [],
   "source": [
    "n_epochs = 50\n",
    "t0, t1 = 5, 50\n",
    "\n",
    "def learning_schedule(t):\n",
    "    return t0 / (t+t1)\n",
    "\n",
    "theta = np.random.randn(2,1)\n",
    "\n",
    "for epoch in range(n_epochs):\n",
    "    for i in range(m):\n",
    "        random_index = np.random.randint(m)\n",
    "        xi = X_b[random_index:random_index+1]\n",
    "        yi = y[random_index:random_index+1]\n",
    "        gradients = 2*xi.T.dot(xi.dot(theta) - yi)\n",
    "        eta = learning_schedule(epoch * m + i)\n",
    "        theta = theta - eta * gradients"
   ]
  },
  {
   "cell_type": "code",
   "execution_count": 53,
   "id": "bea676c2",
   "metadata": {},
   "outputs": [
    {
     "data": {
      "text/plain": [
       "array([[4.18931946],\n",
       "       [2.8165846 ]])"
      ]
     },
     "execution_count": 53,
     "metadata": {},
     "output_type": "execute_result"
    }
   ],
   "source": [
    "theta"
   ]
  },
  {
   "cell_type": "code",
   "execution_count": 54,
   "id": "81a498e6",
   "metadata": {},
   "outputs": [
    {
     "data": {
      "text/plain": [
       "100"
      ]
     },
     "execution_count": 54,
     "metadata": {},
     "output_type": "execute_result"
    }
   ],
   "source": [
    "m"
   ]
  },
  {
   "cell_type": "code",
   "execution_count": 55,
   "id": "9fd15577",
   "metadata": {},
   "outputs": [],
   "source": [
    "m = 100\n",
    "X = 6*np.random.rand(m, 1) - 3\n",
    "y = 0.5*X**2 + X+2 + np.random.randn(m,1)"
   ]
  },
  {
   "cell_type": "markdown",
   "id": "27f031ae",
   "metadata": {},
   "source": [
    "### -> y = 0.5*x**2 + x + 가우시안 잡음"
   ]
  },
  {
   "cell_type": "code",
   "execution_count": 60,
   "id": "1ff6367a",
   "metadata": {},
   "outputs": [
    {
     "data": {
      "text/plain": [
       "<matplotlib.collections.PathCollection at 0x7fbdd4512580>"
      ]
     },
     "execution_count": 60,
     "metadata": {},
     "output_type": "execute_result"
    },
    {
     "data": {
      "image/png": "[encoded data removed]",
      "text/plain": [
       "<Figure size 432x288 with 1 Axes>"
      ]
     },
     "metadata": {
      "needs_background": "light"
     },
     "output_type": "display_data"
    }
   ],
   "source": [
    "plt.scatter(X, y)"
   ]
  },
  {
   "cell_type": "markdown",
   "id": "61ab667b",
   "metadata": {},
   "source": [
    "## 다항회귀 \n",
    "- 특성의 제곱으로 특성 수를 늘려 복잡화시킨다.(과소적합 해결)\n",
    "- degree가 커지면 과대적합에 가까워진다."
   ]
  },
  {
   "cell_type": "code",
   "execution_count": 95,
   "id": "0d9fd12a",
   "metadata": {},
   "outputs": [],
   "source": [
    "from sklearn.preprocessing import PolynomialFeatures\n",
    "poly_features = PolynomialFeatures(degree = 2, include_bias=False)\n",
    "X_poly = poly_features.fit_transform(X)\n"
   ]
  },
  {
   "cell_type": "code",
   "execution_count": 57,
   "id": "fe970ecb",
   "metadata": {},
   "outputs": [
    {
     "data": {
      "text/plain": [
       "array([0.76397445])"
      ]
     },
     "execution_count": 57,
     "metadata": {},
     "output_type": "execute_result"
    }
   ],
   "source": [
    "X[0]"
   ]
  },
  {
   "cell_type": "code",
   "execution_count": 58,
   "id": "69f9a540",
   "metadata": {},
   "outputs": [
    {
     "data": {
      "text/plain": [
       "array([0.76397445, 0.58365695])"
      ]
     },
     "execution_count": 58,
     "metadata": {},
     "output_type": "execute_result"
    }
   ],
   "source": [
    "X_poly[0]"
   ]
  },
  {
   "cell_type": "code",
   "execution_count": 61,
   "id": "a59d2e1e",
   "metadata": {},
   "outputs": [
    {
     "data": {
      "text/plain": [
       "(array([2.08338349]), array([[0.97187604, 0.496276  ]]))"
      ]
     },
     "execution_count": 61,
     "metadata": {},
     "output_type": "execute_result"
    }
   ],
   "source": [
    "lin_reg = LinearRegression()\n",
    "lin_reg.fit(X_poly, y)\n",
    "lin_reg.intercept_, lin_reg.coef_"
   ]
  },
  {
   "cell_type": "markdown",
   "id": "95ab0b7c",
   "metadata": {},
   "source": [
    "# 학습곡선\n",
    "- 과소적합 / 과대적합을 판단할 수 있는 기준 "
   ]
  },
  {
   "cell_type": "code",
   "execution_count": 99,
   "id": "6419bd3e",
   "metadata": {},
   "outputs": [],
   "source": [
    "from sklearn.metrics import mean_squared_error\n",
    "from sklearn.model_selection import train_test_split\n",
    "\n",
    "def plot_learning_curves(model, X, y):\n",
    "    X_train, X_val, y_train, y_val = train_test_split(X, y, test_size=0.2)\n",
    "    train_errors, val_errors = [], []\n",
    "    for m in range(1, len(X_train)):\n",
    "        model.fit(X_train[:m], y_train[:m])\n",
    "        y_train_predict = model.predict(X_train[:m])\n",
    "        y_val_predict = model.predict(X_val)\n",
    "        train_errors.append(mean_squared_error(y_train[:m], y_train_predict))\n",
    "        val_errors.append(mean_squared_error(y_val, y_val_predict))\n",
    "    plt.plot(np.sqrt(train_errors), 'r-+', linewidth=2, label='훈련세트')\n",
    "    plt.plot(np.sqrt(val_errors), 'b-', linewidth=3, label='검증세트')\n",
    "    plt.legend()\n",
    "    plt.xlim(0, 80)\n",
    "    plt.ylim(0, 3)\n",
    "    plt.show()"
   ]
  },
  {
   "cell_type": "code",
   "execution_count": 93,
   "id": "04f33396",
   "metadata": {
    "scrolled": true
   },
   "outputs": [
    {
     "data": {
      "image/png": "[encoded data removed]",
      "text/plain": [
       "<Figure size 432x288 with 1 Axes>"
      ]
     },
     "metadata": {
      "needs_background": "light"
     },
     "output_type": "display_data"
    }
   ],
   "source": [
    "lin_reg = LinearRegression()\n",
    "plot_learning_curves(lin_reg, X, y)"
   ]
  },
  {
   "cell_type": "markdown",
   "id": "72987a8a",
   "metadata": {},
   "source": [
    "### 과소적합\n",
    "- 초반에 적은 수의 데이터로 훈련을 했을 땐, 훈련셋의 오차가 작기 때문에 오차 0부터 시작하는 모양의 그래프가 되고, 검증셋의 오류는 크기 때문에 위에서부터 내려오는 모양의 그래프가 된다. \n",
    "- 학습을 거듭하다보면 훈련셋의 오차는 늘어나고 검증셋의 오차는 줄어들어 중간에서 두 그래프가 만나게 된다."
   ]
  },
  {
   "cell_type": "code",
   "execution_count": 100,
   "id": "0e1d552c",
   "metadata": {},
   "outputs": [
    {
     "data": {
      "image/png": "[encoded data removed]",
      "text/plain": [
       "<Figure size 432x288 with 1 Axes>"
      ]
     },
     "metadata": {
      "needs_background": "light"
     },
     "output_type": "display_data"
    }
   ],
   "source": [
    "from sklearn.pipeline import Pipeline\n",
    "\n",
    "polynomial_regression = Pipeline([\n",
    "    (\"poly_features\", PolynomialFeatures(degree=10, include_bias=False)),\n",
    "    (\"line_reg\", LinearRegression())\n",
    "])\n",
    "\n",
    "plot_learning_curves(polynomial_regression, X, y)\n"
   ]
  },
  {
   "cell_type": "markdown",
   "id": "5be29dc1",
   "metadata": {},
   "source": [
    "### 과대적합\n",
    "- 가운데의 공간이 훈련셋에는 잘 맞는데 검증셋은 잘 맞추지 못한다는걸 나타낸다. --> 과대적합을 의미함\n",
    "- 과대적합 해결? \n",
    "    * 규제 모델 활용\n",
    "    * 훈련 조기종료 \n",
    "   "
   ]
  },
  {
   "cell_type": "markdown",
   "id": "421caaad",
   "metadata": {},
   "source": [
    "# Logistic Regression"
   ]
  },
  {
   "cell_type": "code",
   "execution_count": 101,
   "id": "a40c1601",
   "metadata": {},
   "outputs": [
    {
     "data": {
      "text/plain": [
       "['data',\n",
       " 'target',\n",
       " 'frame',\n",
       " 'target_names',\n",
       " 'DESCR',\n",
       " 'feature_names',\n",
       " 'filename']"
      ]
     },
     "execution_count": 101,
     "metadata": {},
     "output_type": "execute_result"
    }
   ],
   "source": [
    "from sklearn import datasets\n",
    "iris = datasets.load_iris()\n",
    "list(iris.keys())"
   ]
  },
  {
   "cell_type": "code",
   "execution_count": 102,
   "id": "3fd97999",
   "metadata": {},
   "outputs": [],
   "source": [
    "X = iris['data'][:, 3:] # 꽃잎너비\n",
    "y = (iris['target'] ==2).astype(np.int) # 1 Iris-Virginica 면 1, 아니면 0"
   ]
  },
  {
   "cell_type": "markdown",
   "id": "780d77db",
   "metadata": {},
   "source": [
    "- 로지스틱 회귀모델은 이진분류(0/1)만 가능하기 때문에 버지니카 맞음 / 아님 두 클래스만 활용하기로 한다."
   ]
  },
  {
   "cell_type": "code",
   "execution_count": 103,
   "id": "b7ca06c9",
   "metadata": {},
   "outputs": [
    {
     "data": {
      "text/plain": [
       "LogisticRegression()"
      ]
     },
     "execution_count": 103,
     "metadata": {},
     "output_type": "execute_result"
    }
   ],
   "source": [
    "from sklearn.linear_model import LogisticRegression\n",
    "\n",
    "log_reg = LogisticRegression()\n",
    "log_reg.fit(X, y)"
   ]
  },
  {
   "cell_type": "markdown",
   "id": "9ff08c90",
   "metadata": {},
   "source": [
    "### 각 데이터(행)가 버지니카가 맞을 / 아닐 확률을 그래프로 시각화 한다."
   ]
  },
  {
   "cell_type": "code",
   "execution_count": 111,
   "id": "fb0c301f",
   "metadata": {},
   "outputs": [
    {
     "data": {
      "image/png": "[encoded data removed]",
      "text/plain": [
       "<Figure size 720x288 with 1 Axes>"
      ]
     },
     "metadata": {
      "needs_background": "light"
     },
     "output_type": "display_data"
    }
   ],
   "source": [
    "X_new = np.linspace(0, 3, 1000).reshape(-1, 1)\n",
    "y_proba = log_reg.predict_proba(X_new)\n",
    "plt.figure(figsize=(10, 4))\n",
    "plt.plot(X_new, y_proba[:, 1], 'g-', label = 'iris virginica')\n",
    "plt.plot(X_new, y_proba[:, 0], 'b--', label = 'Not iris virginica')\n",
    "plt.xlabel('꽃잎 너비(cm)')\n",
    "plt.ylabel('확률')\n",
    "plt.legend()\n",
    "plt.show()"
   ]
  },
  {
   "cell_type": "markdown",
   "id": "4f79a0b7",
   "metadata": {},
   "source": [
    "- 대략 1cm 이하일 경우에는 virginica가 절대 아닌걸 확신하고 있다. \n",
    "- 대략 2.5cm 이상일 경우에는 virginica가 확실하다고 판단한다."
   ]
  },
  {
   "cell_type": "markdown",
   "id": "a7750868",
   "metadata": {},
   "source": [
    "## Softmax\n",
    "- 소프트맥스는 로지스틱 모델의 파라미터만 바꾸면 소프트맥스가 된다."
   ]
  },
  {
   "cell_type": "code",
   "execution_count": 112,
   "id": "9710fcb4",
   "metadata": {},
   "outputs": [
    {
     "data": {
      "text/plain": [
       "LogisticRegression(C=10, multi_class='multinomial')"
      ]
     },
     "execution_count": 112,
     "metadata": {},
     "output_type": "execute_result"
    }
   ],
   "source": [
    "X = iris['data'][:, (2,3)] # 꽃잎 길이, 꽃잎 너비\n",
    "y = iris['target']\n",
    "\n",
    "softmax_reg = LogisticRegression(multi_class='multinomial', solver = 'lbfgs', C = 10)\n",
    "softmax_reg.fit(X, y)"
   ]
  },
  {
   "cell_type": "code",
   "execution_count": 113,
   "id": "d2e653be",
   "metadata": {},
   "outputs": [
    {
     "data": {
      "text/plain": [
       "array([2])"
      ]
     },
     "execution_count": 113,
     "metadata": {},
     "output_type": "execute_result"
    }
   ],
   "source": [
    "softmax_reg.predict([[5, 2]])"
   ]
  },
  {
   "cell_type": "code",
   "execution_count": 116,
   "id": "4d3224a0",
   "metadata": {},
   "outputs": [
    {
     "data": {
      "text/plain": [
       "array([[6.38014896e-07, 5.74929995e-02, 9.42506362e-01]])"
      ]
     },
     "execution_count": 116,
     "metadata": {},
     "output_type": "execute_result"
    }
   ],
   "source": [
    "softmax_reg.predict_proba([[5,2]])"
   ]
  }
 ],
 "metadata": {
  "kernelspec": {
   "display_name": "Python 3",
   "language": "python",
   "name": "python3"
  },
  "language_info": {
   "codemirror_mode": {
    "name": "ipython",
    "version": 3
   },
   "file_extension": ".py",
   "mimetype": "text/x-python",
   "name": "python",
   "nbconvert_exporter": "python",
   "pygments_lexer": "ipython3",
   "version": "3.8.8"
  }
 },
 "nbformat": 4,
 "nbformat_minor": 5
}
