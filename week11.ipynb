{
 "cells": [
  {
   "cell_type": "code",
   "execution_count": 126,
   "id": "7c9bed9f",
   "metadata": {},
   "outputs": [],
   "source": [
    "import warnings\n",
    "warnings.filterwarnings('ignore')"
   ]
  },
  {
   "cell_type": "markdown",
   "id": "6966786b",
   "metadata": {},
   "source": [
    "# Sklearn을 이용한 DTM / TF-IDF"
   ]
  },
  {
   "cell_type": "code",
   "execution_count": 2,
   "id": "a42c75ef",
   "metadata": {},
   "outputs": [
    {
     "name": "stdout",
     "output_type": "stream",
     "text": [
      "[[0 0 1 0 0 0 1 0]\n",
      " [0 1 1 0 1 0 1 1]\n",
      " [1 0 0 1 0 1 0 0]]\n",
      "{'love': 2, 'you': 6, 'know': 1, 'want': 4, 'your': 7, 'what': 5, 'should': 3, 'do': 0}\n"
     ]
    }
   ],
   "source": [
    "from sklearn.feature_extraction.text import CountVectorizer\n",
    "corpus = [\n",
    "    'I love you',\n",
    "    'you know i want your love',\n",
    "    'what should i do'\n",
    "]\n",
    "\n",
    "vector = CountVectorizer()\n",
    "print(vector.fit_transform(corpus).toarray())\n",
    "print(vector.vocabulary_)"
   ]
  },
  {
   "cell_type": "code",
   "execution_count": 4,
   "id": "7b4ca89a",
   "metadata": {},
   "outputs": [
    {
     "name": "stdout",
     "output_type": "stream",
     "text": [
      "[[0.         0.70710678 0.         0.         0.         0.70710678\n",
      "  0.        ]\n",
      " [0.49047908 0.37302199 0.         0.49047908 0.         0.37302199\n",
      "  0.49047908]\n",
      " [0.         0.         0.70710678 0.         0.70710678 0.\n",
      "  0.        ]]\n",
      "{'love': 1, 'you': 5, 'know': 0, 'want': 3, 'your': 6, 'what': 4, 'should': 2}\n"
     ]
    }
   ],
   "source": [
    "from sklearn.feature_extraction.text import TfidfVectorizer\n",
    "corpus = [\n",
    "    'I love you',\n",
    "    'you know i want your love',\n",
    "    'what should i do'\n",
    "]\n",
    "\n",
    "tfidf = TfidfVectorizer(stop_words={'do'}).fit(corpus)\n",
    "print(tfidf.transform(corpus).toarray())\n",
    "print(tfidf.vocabulary_)"
   ]
  },
  {
   "cell_type": "code",
   "execution_count": 3,
   "id": "c1122631",
   "metadata": {},
   "outputs": [
    {
     "name": "stdout",
     "output_type": "stream",
     "text": [
      "[[0.62276601 0.         0.         0.         0.62276601 0.\n",
      "  0.         0.4736296  0.         0.        ]\n",
      " [0.         0.52863461 0.         0.52863461 0.         0.\n",
      "  0.         0.40204024 0.         0.52863461]\n",
      " [0.         0.         0.5        0.         0.         0.5\n",
      "  0.5        0.         0.5        0.        ]]\n",
      "{'품질': 7, '정말': 4, '대박': 0, '써보니': 3, '믿을만': 1, '하네요': 9, '품질도': 8, '좋은데': 6, '서비스도': 2, '좋아요': 5}\n"
     ]
    }
   ],
   "source": [
    "from sklearn.feature_extraction.text import TfidfVectorizer\n",
    "corpus = [\n",
    "    '품질 정말 대박',\n",
    "    '써보니 품질 믿을만 하네요',\n",
    "    '품질도 좋은데 서비스도 좋아요'\n",
    "]\n",
    "\n",
    "tfidf = TfidfVectorizer().fit(corpus)\n",
    "print(tfidf.transform(corpus).toarray())\n",
    "print(tfidf.vocabulary_)"
   ]
  },
  {
   "cell_type": "markdown",
   "id": "8111876c",
   "metadata": {},
   "source": [
    "# 문서 유사도 측정\n",
    "\n",
    "## 1. CountVectorizer"
   ]
  },
  {
   "cell_type": "code",
   "execution_count": 7,
   "id": "51316293",
   "metadata": {},
   "outputs": [],
   "source": [
    "import pandas as pd\n",
    "pd.options.mode.chained_assignment = None\n",
    "\n",
    "import numpy as np\n",
    "np.random.seed(0)\n",
    "\n",
    "from konlpy.tag import Okt\n",
    "okt = Okt()\n",
    "\n",
    "from sklearn.feature_extraction.text import TfidfVectorizer, CountVectorizer\n",
    "from sklearn.metrics.pairwise import linear_kernel, cosine_similarity\n",
    "\n",
    "# tokenizer : 문장에서 색인어 추출을 위해 명사, 동사, 알파벳 .. \n",
    "def tokenizer(raw, pos=['Noun', 'Alpha', 'Verb', 'Number'], stopword=[]):\n",
    "    return [\n",
    "        word for word, tag in okt.pos(\n",
    "        raw,\n",
    "        norm=True,\n",
    "        stem=True\n",
    "        )\n",
    "        if len(word) > 1 and tag in pos and word not in stopword\n",
    "    ]\n",
    "\n",
    "# test sentence\n",
    "rawdata = [\n",
    "    '[커버스토리] 10년 후에 더 잘 나가는 미래 보장 유망직업',\n",
    "    '멀지않은 미래에 이 직업 뜬다 - 직업별 전망, 연봉, 만족도 Top30 - 에듀진',\n",
    "    '[좌충우돌 일자리]연봉 1억4000 이하로 떨어지지 않는 직업',\n",
    "    '제4차 산업혁명 시대, 미래사회 변화에 대한 전략적 대응 방안 모색',\n",
    "    '2024년 미래유망직업 25가지, 1위는 PA, 소프트웨어 개발자가 가장 인기있는 이유',\n",
    "    '[TECH웨이브] 올해 가장 주목받을 IT 기술은 AI와 메타버스'\n",
    "]\n"
   ]
  },
  {
   "cell_type": "code",
   "execution_count": 11,
   "id": "009faa82",
   "metadata": {},
   "outputs": [
    {
     "name": "stdout",
     "output_type": "stream",
     "text": [
      "[[0 1 0 0 1 1]\n",
      " [0 1 1 1 0 2]\n",
      " [0 0 1 1 0 1]\n",
      " [0 1 0 0 0 0]\n",
      " [1 1 0 0 1 1]\n",
      " [1 0 0 0 0 0]]\n",
      "['가장', '미래', '않다', '연봉', '유망', '직업']\n"
     ]
    }
   ],
   "source": [
    "vectorize = CountVectorizer(\n",
    "    tokenizer=tokenizer, \n",
    "    min_df=2)\n",
    "\n",
    "X = vectorize.fit_transform(rawdata)\n",
    "\n",
    "print(X.toarray())\n",
    "\n",
    "features = vectorize.get_feature_names()\n",
    "print(features)"
   ]
  },
  {
   "cell_type": "code",
   "execution_count": 12,
   "id": "fe70fbe7",
   "metadata": {},
   "outputs": [
    {
     "name": "stdout",
     "output_type": "stream",
     "text": [
      "['미래', '가장', '직업']\n"
     ]
    }
   ],
   "source": [
    "srch = [t for t in tokenizer('미래 가장 인기있는 직업') if t in features]\n",
    "print(srch)\n",
    "\n",
    "srch_dtm = np.asarray(X.toarray())[:, [\n",
    "    vectorize.vocabulary_.get(i) for i in srch\n",
    "]]"
   ]
  },
  {
   "cell_type": "code",
   "execution_count": 13,
   "id": "a4324c7a",
   "metadata": {},
   "outputs": [
    {
     "data": {
      "text/plain": [
       "array([[1, 0, 1],\n",
       "       [1, 0, 2],\n",
       "       [0, 0, 1],\n",
       "       [1, 0, 0],\n",
       "       [1, 1, 1],\n",
       "       [0, 1, 0]])"
      ]
     },
     "execution_count": 13,
     "metadata": {},
     "output_type": "execute_result"
    }
   ],
   "source": [
    "srch_dtm"
   ]
  },
  {
   "cell_type": "code",
   "execution_count": 14,
   "id": "1463b0d2",
   "metadata": {},
   "outputs": [
    {
     "name": "stdout",
     "output_type": "stream",
     "text": [
      "[2 3 1 1 3 1]\n",
      "2024년 미래유망직업 25가지, 1위는 PA, 소프트웨어 개발자가 가장 인기있는 이유 / score : 3\n",
      "멀지않은 미래에 이 직업 뜬다 - 직업별 전망, 연봉, 만족도 Top30 - 에듀진 / score : 3\n",
      "[커버스토리] 10년 후에 더 잘 나가는 미래 보장 유망직업 / score : 2\n",
      "[TECH웨이브] 올해 가장 주목받을 IT 기술은 AI와 메타버스 / score : 1\n",
      "제4차 산업혁명 시대, 미래사회 변화에 대한 전략적 대응 방안 모색 / score : 1\n",
      "[좌충우돌 일자리]연봉 1억4000 이하로 떨어지지 않는 직업 / score : 1\n"
     ]
    }
   ],
   "source": [
    "score = srch_dtm.sum(axis=1)\n",
    "print(score)\n",
    "\n",
    "for i in score.argsort()[::-1]:\n",
    "    if score[i] > 0:\n",
    "        print('{} / score : {}'.format(rawdata[i], score[i]))"
   ]
  },
  {
   "cell_type": "markdown",
   "id": "169954a0",
   "metadata": {},
   "source": [
    "## 2. TfidfVectorizer"
   ]
  },
  {
   "cell_type": "code",
   "execution_count": 15,
   "id": "8bb79a15",
   "metadata": {},
   "outputs": [
    {
     "name": "stdout",
     "output_type": "stream",
     "text": [
      "fit_transform, (sentence 6, feature 6)\n",
      "[[0.         0.50568743 0.         0.         0.69897098 0.50568743]\n",
      " [0.         0.36066062 0.49851211 0.49851211 0.         0.61065151]\n",
      " [0.         0.         0.62951441 0.62951441 0.         0.4554374 ]\n",
      " [0.         1.         0.         0.         0.         0.        ]\n",
      " [0.57289616 0.41447556 0.         0.         0.57289616 0.41447556]\n",
      " [1.         0.         0.         0.         0.         0.        ]]\n"
     ]
    }
   ],
   "source": [
    "vectorize = TfidfVectorizer(\n",
    "    tokenizer=tokenizer, \n",
    "    min_df=2, \n",
    "\n",
    "    sublinear_tf=True\n",
    ")\n",
    "X = vectorize.fit_transform(rawdata)\n",
    "\n",
    "print('fit_transform, (sentence {}, feature {})'.format(X.shape[0], X.shape[1]))\n",
    "\n",
    "print(X.toarray())\n",
    "\n",
    "features = vectorize.get_feature_names()"
   ]
  },
  {
   "cell_type": "code",
   "execution_count": 16,
   "id": "86210ece",
   "metadata": {},
   "outputs": [
    {
     "name": "stdout",
     "output_type": "stream",
     "text": [
      "['가장', '미래', '않다', '연봉', '유망', '직업']\n"
     ]
    }
   ],
   "source": [
    "print(features)"
   ]
  },
  {
   "cell_type": "code",
   "execution_count": 18,
   "id": "52f0a925",
   "metadata": {},
   "outputs": [
    {
     "name": "stdout",
     "output_type": "stream",
     "text": [
      "['미래', '가장', '직업']\n",
      "[[0.50568743 0.         0.50568743]\n",
      " [0.36066062 0.         0.61065151]\n",
      " [0.         0.         0.4554374 ]\n",
      " [1.         0.         0.        ]\n",
      " [0.41447556 0.57289616 0.41447556]\n",
      " [0.         1.         0.        ]]\n"
     ]
    }
   ],
   "source": [
    "srch = [t for t in tokenizer('미래 가장 인기있는 직업') if t in features]\n",
    "print(srch)\n",
    "\n",
    "srch_dtm = np.asarray(X.toarray())[:, [\n",
    "    vectorize.vocabulary_.get(i) for i in srch\n",
    "]]\n",
    "\n",
    "print(srch_dtm)"
   ]
  },
  {
   "cell_type": "code",
   "execution_count": 19,
   "id": "1195c440",
   "metadata": {},
   "outputs": [
    {
     "name": "stdout",
     "output_type": "stream",
     "text": [
      "[1.01137487 0.97131213 0.4554374  1.         1.40184728 1.        ]\n",
      "2024년 미래유망직업 25가지, 1위는 PA, 소프트웨어 개발자가 가장 인기있는 이유 / score : 1.4018472787288918\n",
      "[커버스토리] 10년 후에 더 잘 나가는 미래 보장 유망직업 / score : 1.0113748685853126\n",
      "[TECH웨이브] 올해 가장 주목받을 IT 기술은 AI와 메타버스 / score : 1.0\n",
      "제4차 산업혁명 시대, 미래사회 변화에 대한 전략적 대응 방안 모색 / score : 1.0\n",
      "멀지않은 미래에 이 직업 뜬다 - 직업별 전망, 연봉, 만족도 Top30 - 에듀진 / score : 0.9713121343309381\n",
      "[좌충우돌 일자리]연봉 1억4000 이하로 떨어지지 않는 직업 / score : 0.45543739639154\n"
     ]
    }
   ],
   "source": [
    "# 문장의 feature 합계 점수 \n",
    "score = srch_dtm.sum(axis=1)\n",
    "print(score)\n",
    "\n",
    "for i in score.argsort()[::-1]:\n",
    "    if score[i] > 0:\n",
    "        print('{} / score : {}'.format(rawdata[i], score[i]))"
   ]
  },
  {
   "cell_type": "markdown",
   "id": "6021fe5c",
   "metadata": {},
   "source": [
    "# Word2Vec\n",
    "- 비지도 학습에 해당\n",
    "- 단어 간 유사성을 파악할 수 있음\n",
    "- 주변의 단어로 특정단어를 예측하거나 특정단어로 주변을 예측"
   ]
  },
  {
   "cell_type": "code",
   "execution_count": 40,
   "id": "a06b04ec",
   "metadata": {},
   "outputs": [
    {
     "data": {
      "text/plain": [
       "'/Users/hayeon/opt/anaconda3/bin/python'"
      ]
     },
     "execution_count": 40,
     "metadata": {},
     "output_type": "execute_result"
    }
   ],
   "source": [
    "import sys\n",
    "sys.executable"
   ]
  },
  {
   "cell_type": "code",
   "execution_count": 45,
   "id": "01607746",
   "metadata": {},
   "outputs": [
    {
     "name": "stdout",
     "output_type": "stream",
     "text": [
      "Requirement already satisfied: gensim in /opt/homebrew/lib/python3.9/site-packages (4.2.0)\n",
      "Requirement already satisfied: scipy>=0.18.1 in /opt/homebrew/lib/python3.9/site-packages (from gensim) (1.8.0)\n",
      "Requirement already satisfied: smart-open>=1.8.1 in /opt/homebrew/lib/python3.9/site-packages (from gensim) (6.0.0)\n",
      "Requirement already satisfied: numpy>=1.17.0 in /opt/homebrew/lib/python3.9/site-packages (from gensim) (1.22.3)\n"
     ]
    }
   ],
   "source": [
    "!pip install  --upgrade gensim --pre"
   ]
  },
  {
   "cell_type": "code",
   "execution_count": 47,
   "id": "bf6e8557",
   "metadata": {},
   "outputs": [],
   "source": [
    "import gensim"
   ]
  },
  {
   "cell_type": "code",
   "execution_count": 56,
   "id": "ea3026d3",
   "metadata": {},
   "outputs": [
    {
     "name": "stdout",
     "output_type": "stream",
     "text": [
      "0.09422431\n"
     ]
    }
   ],
   "source": [
    "from gensim.models import Word2Vec\n",
    "\n",
    "sentences = [\n",
    "        ['this', 'is', 'a',   'good',      'product'],\n",
    "        ['it',   'is', 'a',   'excellent', 'produdct'],\n",
    "        ['it',   'is', 'a',   'bad',       'product'],\n",
    "        ['that', 'is', 'the', 'worst',     'product']\n",
    "]\n",
    "\n",
    "# 문장을 이용하여 단어와 벡터 생성\n",
    "model = Word2Vec(sentences, size=300, window=3, min_count=1, workers=1)\n",
    "\n",
    "# 단어벡터를 구하기\n",
    "word_vectors = model.wv\n",
    "\n",
    "vocabs = word_vectors.vocab.keys()\n",
    "word_vectors_list = [word_vectors[v] for v in vocabs]\n",
    "\n",
    "# 단어 간 유사도 확인\n",
    "print(word_vectors.similarity(w1='bad', w2='worst'))"
   ]
  },
  {
   "cell_type": "code",
   "execution_count": 57,
   "id": "92c3014b",
   "metadata": {},
   "outputs": [
    {
     "name": "stdout",
     "output_type": "stream",
     "text": [
      "dict_keys(['this', 'is', 'a', 'good', 'product', 'it', 'excellent', 'produdct', 'bad', 'that', 'the', 'worst'])\n"
     ]
    }
   ],
   "source": [
    "print(vocabs)"
   ]
  },
  {
   "cell_type": "code",
   "execution_count": 58,
   "id": "3bb58952",
   "metadata": {},
   "outputs": [],
   "source": [
    "from sklearn.decomposition import PCA\n",
    "pca = PCA(n_components=2)\n",
    "xys = pca.fit_transform(word_vectors_list)\n",
    "xs = xys[:,0]\n",
    "ys = xys[:,1]"
   ]
  },
  {
   "cell_type": "code",
   "execution_count": 59,
   "id": "47b3a915",
   "metadata": {},
   "outputs": [
    {
     "data": {
      "image/png": "[encoded data removed]",
      "text/plain": [
       "<Figure size 576x432 with 1 Axes>"
      ]
     },
     "metadata": {
      "needs_background": "light"
     },
     "output_type": "display_data"
    }
   ],
   "source": [
    "# 단어와 2차원 y축의 값, y축으로 2차원 그래프를 그린다\n",
    "import matplotlib.pyplot as plt\n",
    "\n",
    "plt.figure(figsize=(8,6))\n",
    "plt.scatter(xs, ys, marker='o')\n",
    "for i, v in enumerate(vocabs):\n",
    "    plt.annotate(v, xy=(xs[i], ys[i]))"
   ]
  },
  {
   "cell_type": "markdown",
   "id": "e1b7a2bd",
   "metadata": {},
   "source": [
    "# 영화리뷰 활용한 Tfidf"
   ]
  },
  {
   "cell_type": "code",
   "execution_count": 109,
   "id": "798906dc",
   "metadata": {},
   "outputs": [],
   "source": [
    "import requests \n",
    "import pandas as pd\n",
    "from bs4 import BeautifulSoup\n",
    "import re\n",
    "import time\n",
    "\n",
    "pre = 'https://movie.naver.com/movie/bi/mi/pointWriteFormList.naver?code=183854&type=after&isActualPointWriteExecute=false&isMileageSubscriptionAlready=false&isMileageSubscriptionReject=false&page=1'\n",
    "\n",
    "review = []\n",
    "rate = []\n",
    "\n",
    "cnt = 0\n",
    "for i in range(1, 100):\n",
    "    time.sleep(0.1)\n",
    "    cnt = cnt + 1\n",
    "    #print(cnt)\n",
    "    url = pre + str(i)\n",
    "    res = requests.get(url)\n",
    "    soup = BeautifulSoup(res.content, 'html.parser')\n",
    "    \n",
    "    id_list = []\n",
    "    id_pre = '_filtered_ment_'\n",
    "    \n",
    "    for i in range(10):\n",
    "        id_list.append(id_pre + str(i))\n",
    "        \n",
    "    for id in id_list:\n",
    "        review.append(soup.find('span', {'id':id}).get_text().strip())\n",
    "    \n",
    "    rate_list = []\n",
    "    rate_list = (soup.select('div.star_score > em'))\n",
    "    \n",
    "    for r in rate_list:\n",
    "        r = int(re.sub('<.+?>', '', str(r)))\n",
    "        rate.append(r)\n",
    "    \n",
    "\n",
    "df = pd.DataFrame({'review' : review, 'rate' : rate})"
   ]
  },
  {
   "cell_type": "code",
   "execution_count": 110,
   "id": "6d4d926b",
   "metadata": {},
   "outputs": [
    {
     "data": {
      "text/html": [
       "<div>\n",
       "<style scoped>\n",
       "    .dataframe tbody tr th:only-of-type {\n",
       "        vertical-align: middle;\n",
       "    }\n",
       "\n",
       "    .dataframe tbody tr th {\n",
       "        vertical-align: top;\n",
       "    }\n",
       "\n",
       "    .dataframe thead th {\n",
       "        text-align: right;\n",
       "    }\n",
       "</style>\n",
       "<table border=\"1\" class=\"dataframe\">\n",
       "  <thead>\n",
       "    <tr style=\"text-align: right;\">\n",
       "      <th></th>\n",
       "      <th>review</th>\n",
       "      <th>rate</th>\n",
       "    </tr>\n",
       "  </thead>\n",
       "  <tbody>\n",
       "    <tr>\n",
       "      <th>0</th>\n",
       "      <td>김성오 악역만 보다가 이런 연기 보니까 색다르고 ㅋㅋ 연기 너무 잘하구~ 능글맞은데...</td>\n",
       "      <td>10</td>\n",
       "    </tr>\n",
       "    <tr>\n",
       "      <th>1</th>\n",
       "      <td>코믹과 스릴러를 오가는 재미</td>\n",
       "      <td>10</td>\n",
       "    </tr>\n",
       "    <tr>\n",
       "      <th>2</th>\n",
       "      <td>독특한 스토리의 영화였어요. 시실리2km랑 챠우도 봤는데 이 감독님 영화는 항상 독...</td>\n",
       "      <td>9</td>\n",
       "    </tr>\n",
       "    <tr>\n",
       "      <th>3</th>\n",
       "      <td>넘 재밌엇어요 ㅋㅋㅋ 오랜만에 생각없이 많이 웃고왔네요</td>\n",
       "      <td>10</td>\n",
       "    </tr>\n",
       "    <tr>\n",
       "      <th>4</th>\n",
       "      <td>병맛재미로보는거죠~</td>\n",
       "      <td>8</td>\n",
       "    </tr>\n",
       "    <tr>\n",
       "      <th>...</th>\n",
       "      <td>...</td>\n",
       "      <td>...</td>\n",
       "    </tr>\n",
       "    <tr>\n",
       "      <th>985</th>\n",
       "      <td>영화를 정말 재밌게 봤습니다. 94년도에 헐리웃 쥬라기공원이 상영할 무렵 동시에 한...</td>\n",
       "      <td>10</td>\n",
       "    </tr>\n",
       "    <tr>\n",
       "      <th>986</th>\n",
       "      <td>재미만 있는데 왜 난리들이지;; 재미없다고 쓰는 알바도 있나 ;  신원조회94에 2...</td>\n",
       "      <td>8</td>\n",
       "    </tr>\n",
       "    <tr>\n",
       "      <th>987</th>\n",
       "      <td>배우들의 열연에 비해 스토리가 조금 산으로 가는 경향이 있어서 부조화스럽고 어색한 ...</td>\n",
       "      <td>3</td>\n",
       "    </tr>\n",
       "    <tr>\n",
       "      <th>988</th>\n",
       "      <td>이거 병맛 장난 아님.   겁나 재밌네 ㅎㅎ</td>\n",
       "      <td>10</td>\n",
       "    </tr>\n",
       "    <tr>\n",
       "      <th>989</th>\n",
       "      <td>재밌어요 가볍게볼만한영화ㅋ</td>\n",
       "      <td>9</td>\n",
       "    </tr>\n",
       "  </tbody>\n",
       "</table>\n",
       "<p>990 rows × 2 columns</p>\n",
       "</div>"
      ],
      "text/plain": [
       "                                                review  rate\n",
       "0    김성오 악역만 보다가 이런 연기 보니까 색다르고 ㅋㅋ 연기 너무 잘하구~ 능글맞은데...    10\n",
       "1                                      코믹과 스릴러를 오가는 재미    10\n",
       "2    독특한 스토리의 영화였어요. 시실리2km랑 챠우도 봤는데 이 감독님 영화는 항상 독...     9\n",
       "3                       넘 재밌엇어요 ㅋㅋㅋ 오랜만에 생각없이 많이 웃고왔네요    10\n",
       "4                                           병맛재미로보는거죠~     8\n",
       "..                                                 ...   ...\n",
       "985  영화를 정말 재밌게 봤습니다. 94년도에 헐리웃 쥬라기공원이 상영할 무렵 동시에 한...    10\n",
       "986  재미만 있는데 왜 난리들이지;; 재미없다고 쓰는 알바도 있나 ;  신원조회94에 2...     8\n",
       "987  배우들의 열연에 비해 스토리가 조금 산으로 가는 경향이 있어서 부조화스럽고 어색한 ...     3\n",
       "988                           이거 병맛 장난 아님.   겁나 재밌네 ㅎㅎ    10\n",
       "989                                     재밌어요 가볍게볼만한영화ㅋ     9\n",
       "\n",
       "[990 rows x 2 columns]"
      ]
     },
     "execution_count": 110,
     "metadata": {},
     "output_type": "execute_result"
    }
   ],
   "source": [
    "df"
   ]
  },
  {
   "cell_type": "code",
   "execution_count": 111,
   "id": "e9daa506",
   "metadata": {},
   "outputs": [],
   "source": [
    "df.to_csv('review.csv')"
   ]
  },
  {
   "cell_type": "code",
   "execution_count": 112,
   "id": "71395c0d",
   "metadata": {},
   "outputs": [],
   "source": [
    "import matplotlib.pyplot as plt\n",
    "import urllib.request\n",
    "from gensim.models.word2vec import Word2Vec\n",
    "from konlpy.tag import Okt"
   ]
  },
  {
   "cell_type": "code",
   "execution_count": 113,
   "id": "d98371a7",
   "metadata": {},
   "outputs": [
    {
     "data": {
      "text/html": [
       "<div>\n",
       "<style scoped>\n",
       "    .dataframe tbody tr th:only-of-type {\n",
       "        vertical-align: middle;\n",
       "    }\n",
       "\n",
       "    .dataframe tbody tr th {\n",
       "        vertical-align: top;\n",
       "    }\n",
       "\n",
       "    .dataframe thead th {\n",
       "        text-align: right;\n",
       "    }\n",
       "</style>\n",
       "<table border=\"1\" class=\"dataframe\">\n",
       "  <thead>\n",
       "    <tr style=\"text-align: right;\">\n",
       "      <th></th>\n",
       "      <th>Unnamed: 0</th>\n",
       "      <th>review</th>\n",
       "      <th>rate</th>\n",
       "    </tr>\n",
       "  </thead>\n",
       "  <tbody>\n",
       "    <tr>\n",
       "      <th>0</th>\n",
       "      <td>0</td>\n",
       "      <td>김성오 악역만 보다가 이런 연기 보니까 색다르고 ㅋㅋ 연기 너무 잘하구~ 능글맞은데...</td>\n",
       "      <td>10</td>\n",
       "    </tr>\n",
       "    <tr>\n",
       "      <th>1</th>\n",
       "      <td>1</td>\n",
       "      <td>코믹과 스릴러를 오가는 재미</td>\n",
       "      <td>10</td>\n",
       "    </tr>\n",
       "    <tr>\n",
       "      <th>2</th>\n",
       "      <td>2</td>\n",
       "      <td>독특한 스토리의 영화였어요. 시실리2km랑 챠우도 봤는데 이 감독님 영화는 항상 독...</td>\n",
       "      <td>9</td>\n",
       "    </tr>\n",
       "    <tr>\n",
       "      <th>3</th>\n",
       "      <td>3</td>\n",
       "      <td>넘 재밌엇어요 ㅋㅋㅋ 오랜만에 생각없이 많이 웃고왔네요</td>\n",
       "      <td>10</td>\n",
       "    </tr>\n",
       "    <tr>\n",
       "      <th>4</th>\n",
       "      <td>4</td>\n",
       "      <td>병맛재미로보는거죠~</td>\n",
       "      <td>8</td>\n",
       "    </tr>\n",
       "  </tbody>\n",
       "</table>\n",
       "</div>"
      ],
      "text/plain": [
       "   Unnamed: 0                                             review  rate\n",
       "0           0  김성오 악역만 보다가 이런 연기 보니까 색다르고 ㅋㅋ 연기 너무 잘하구~ 능글맞은데...    10\n",
       "1           1                                    코믹과 스릴러를 오가는 재미    10\n",
       "2           2  독특한 스토리의 영화였어요. 시실리2km랑 챠우도 봤는데 이 감독님 영화는 항상 독...     9\n",
       "3           3                     넘 재밌엇어요 ㅋㅋㅋ 오랜만에 생각없이 많이 웃고왔네요    10\n",
       "4           4                                         병맛재미로보는거죠~     8"
      ]
     },
     "execution_count": 113,
     "metadata": {},
     "output_type": "execute_result"
    }
   ],
   "source": [
    "train_data = pd.read_csv('review.csv')\n",
    "train_data[:5]"
   ]
  },
  {
   "cell_type": "code",
   "execution_count": 114,
   "id": "df6b44dd",
   "metadata": {},
   "outputs": [
    {
     "name": "stdout",
     "output_type": "stream",
     "text": [
      "False\n"
     ]
    }
   ],
   "source": [
    "train_data = train_data.dropna(how='any')\n",
    "print(train_data.isnull().values.any())"
   ]
  },
  {
   "cell_type": "code",
   "execution_count": 115,
   "id": "24ccbd7c",
   "metadata": {},
   "outputs": [
    {
     "name": "stderr",
     "output_type": "stream",
     "text": [
      "<ipython-input-115-be9eadac1107>:1: FutureWarning: The default value of regex will change from True to False in a future version.\n",
      "  train_data['review'] = train_data['review'].str.replace(\"[^ㄱ-ㅎㅏ-ㅣ가-힣] \", \"\")\n"
     ]
    },
    {
     "data": {
      "text/html": [
       "<div>\n",
       "<style scoped>\n",
       "    .dataframe tbody tr th:only-of-type {\n",
       "        vertical-align: middle;\n",
       "    }\n",
       "\n",
       "    .dataframe tbody tr th {\n",
       "        vertical-align: top;\n",
       "    }\n",
       "\n",
       "    .dataframe thead th {\n",
       "        text-align: right;\n",
       "    }\n",
       "</style>\n",
       "<table border=\"1\" class=\"dataframe\">\n",
       "  <thead>\n",
       "    <tr style=\"text-align: right;\">\n",
       "      <th></th>\n",
       "      <th>Unnamed: 0</th>\n",
       "      <th>review</th>\n",
       "      <th>rate</th>\n",
       "    </tr>\n",
       "  </thead>\n",
       "  <tbody>\n",
       "    <tr>\n",
       "      <th>0</th>\n",
       "      <td>0</td>\n",
       "      <td>김성오 악역만 보다가 이런 연기 보니까 색다르고 ㅋㅋ 연기 너무 잘하구능글맞은데 매력있어</td>\n",
       "      <td>10</td>\n",
       "    </tr>\n",
       "    <tr>\n",
       "      <th>1</th>\n",
       "      <td>1</td>\n",
       "      <td>코믹과 스릴러를 오가는 재미</td>\n",
       "      <td>10</td>\n",
       "    </tr>\n",
       "    <tr>\n",
       "      <th>2</th>\n",
       "      <td>2</td>\n",
       "      <td>독특한 스토리의 영화였어요시실리2km랑 챠우도 봤는데 이 감독님 영화는 항상 독특한...</td>\n",
       "      <td>9</td>\n",
       "    </tr>\n",
       "    <tr>\n",
       "      <th>3</th>\n",
       "      <td>3</td>\n",
       "      <td>넘 재밌엇어요 ㅋㅋㅋ 오랜만에 생각없이 많이 웃고왔네요</td>\n",
       "      <td>10</td>\n",
       "    </tr>\n",
       "    <tr>\n",
       "      <th>4</th>\n",
       "      <td>4</td>\n",
       "      <td>병맛재미로보는거죠~</td>\n",
       "      <td>8</td>\n",
       "    </tr>\n",
       "  </tbody>\n",
       "</table>\n",
       "</div>"
      ],
      "text/plain": [
       "   Unnamed: 0                                             review  rate\n",
       "0           0  김성오 악역만 보다가 이런 연기 보니까 색다르고 ㅋㅋ 연기 너무 잘하구능글맞은데 매력있어    10\n",
       "1           1                                    코믹과 스릴러를 오가는 재미    10\n",
       "2           2  독특한 스토리의 영화였어요시실리2km랑 챠우도 봤는데 이 감독님 영화는 항상 독특한...     9\n",
       "3           3                     넘 재밌엇어요 ㅋㅋㅋ 오랜만에 생각없이 많이 웃고왔네요    10\n",
       "4           4                                         병맛재미로보는거죠~     8"
      ]
     },
     "execution_count": 115,
     "metadata": {},
     "output_type": "execute_result"
    }
   ],
   "source": [
    "train_data['review'] = train_data['review'].str.replace(\"[^ㄱ-ㅎㅏ-ㅣ가-힣] \", \"\")\n",
    "train_data[:5]"
   ]
  },
  {
   "cell_type": "code",
   "execution_count": 141,
   "id": "56d5f007",
   "metadata": {},
   "outputs": [],
   "source": [
    "stopwords = ['의', '가', '이', '은', '들', '는', '좀', '잘', '걍', '과', '도', '를', '으로', '자', '에', \n",
    "            '와', '한', '하다', 'ㅋㅋ', '~', '만', '다', '?', '요', '로', '을', '나', '..', '...', '.', \n",
    "            '에서', '게']\n",
    "\n",
    "okt = Okt()\n",
    "tokenized_data = []\n",
    "\n",
    "for sentence in train_data['review']:\n",
    "    temp_X = okt.morphs(sentence, stem=True)\n",
    "    temp_X = [word for word in temp_X if not word in stopwords]\n",
    "    tokenized_data.append(temp_X)"
   ]
  },
  {
   "cell_type": "code",
   "execution_count": 142,
   "id": "1d1f4e1e",
   "metadata": {},
   "outputs": [
    {
     "name": "stdout",
     "output_type": "stream",
     "text": [
      "리뷰의 최대 길이 : 47\n",
      "리뷰의 평균 길이 : 13.67117585848075\n"
     ]
    },
    {
     "data": {
      "image/png": "[encoded data removed]",
      "text/plain": [
       "<Figure size 432x288 with 1 Axes>"
      ]
     },
     "metadata": {
      "needs_background": "light"
     },
     "output_type": "display_data"
    }
   ],
   "source": [
    "# 리뷰 길이 분포 확인\n",
    "print('리뷰의 최대 길이 :', max(len(l) for l in tokenized_data))\n",
    "print('리뷰의 평균 길이 :', sum(map(len, tokenized_data)) / len(tokenized_data))\n",
    "plt.hist([len(s) for s in tokenized_data], bins=50)\n",
    "plt.xlabel('length of samples')\n",
    "plt.ylabel('number of samples')\n",
    "plt.show()"
   ]
  },
  {
   "cell_type": "code",
   "execution_count": 143,
   "id": "69790e4c",
   "metadata": {},
   "outputs": [
    {
     "data": {
      "text/plain": [
       "(491, 100)"
      ]
     },
     "execution_count": 143,
     "metadata": {},
     "output_type": "execute_result"
    }
   ],
   "source": [
    "from gensim.models import Word2Vec\n",
    "model = Word2Vec(sentences = tokenized_data, size=100, window=5, min_count=5, workers=4, sg=0)\n",
    "# 완성된 임베딩 매트릭스의 크기 확인\n",
    "model.wv.vectors.shape"
   ]
  },
  {
   "cell_type": "code",
   "execution_count": 153,
   "id": "f3bea968",
   "metadata": {},
   "outputs": [
    {
     "name": "stdout",
     "output_type": "stream",
     "text": [
      "[('영화', 0.9957132935523987), ('보다', 0.9950066804885864), ('너무', 0.9945127367973328), ('웃다', 0.9944669604301453), ('없이', 0.9941291213035583), ('안', 0.9937471151351929), ('스토리', 0.9937336444854736), ('진짜', 0.9934215545654297), ('웃기다', 0.993237316608429), ('재밌다', 0.9929071664810181)]\n",
      "[('보다', 0.9928794503211975), ('영화', 0.9921560287475586), ('웃기다', 0.9911932945251465), ('웃다', 0.9911081790924072), ('B', 0.991015613079071), ('있다', 0.990937352180481), ('너무', 0.9907797574996948), ('안', 0.9906123280525208), ('없이', 0.9904829859733582), ('좋다', 0.9903185367584229)]\n",
      "[('영화', 0.9874536991119385), ('좋다', 0.9872433543205261), ('급', 0.9866722822189331), ('웃다', 0.9866653680801392), ('너무', 0.986138105392456), ('안', 0.9860900640487671), ('보다', 0.9857213497161865), ('없이', 0.9854357242584229), ('재밌다', 0.984679102897644), ('님', 0.9846770763397217)]\n",
      "[('보다', 0.9862520694732666), ('급', 0.9853613972663879), ('있다', 0.9852559566497803), ('웃다', 0.9851240515708923), ('안', 0.984874963760376), ('많다', 0.9847986698150635), ('님', 0.984740138053894), ('진짜', 0.9845338463783264), ('보고', 0.9843317866325378), ('너무', 0.984318196773529)]\n",
      "[('보다', 0.9884873032569885), ('영화', 0.9882161617279053), ('웃다', 0.9878914952278137), ('ㅋㅋㅋ', 0.9873161911964417), ('진짜', 0.987151563167572), ('너무', 0.9869521856307983), ('웃기다', 0.986923336982727), ('스토리', 0.9869138598442078), ('없이', 0.9866405725479126), ('아니다', 0.98652184009552)]\n"
     ]
    }
   ],
   "source": [
    "print(model.wv.most_similar(\"B\"))\n",
    "print(model.wv.most_similar(\"양동근\"))\n",
    "print(model.wv.most_similar(\"재미\"))\n",
    "print(model.wv.most_similar(\"웃음\"))\n",
    "print(model.wv.most_similar(\"병맛\"))"
   ]
  },
  {
   "cell_type": "code",
   "execution_count": 135,
   "id": "dd9ea6cf",
   "metadata": {},
   "outputs": [],
   "source": [
    "from sklearn.decomposition import PCA\n",
    "from matplotlib import font_manager, rc"
   ]
  },
  {
   "cell_type": "code",
   "execution_count": 144,
   "id": "b39a9067",
   "metadata": {},
   "outputs": [],
   "source": [
    "model = Word2Vec(sentences=tokenized_data, min_count=35, workers=4, sg=0)\n",
    "\n",
    "word_vectors = model.wv\n",
    "\n",
    "vocabs = word_vectors.vocab.keys()\n",
    "word_vectors_list = [word_vectors[v] for v in vocabs]"
   ]
  },
  {
   "cell_type": "code",
   "execution_count": 145,
   "id": "8cb16a7a",
   "metadata": {},
   "outputs": [
    {
     "name": "stdout",
     "output_type": "stream",
     "text": [
      "dict_keys(['보다', '이렇다', '연기', '너무', '있다', '재미', '스토리', '영화', '이다', '감독', '님', '재밌다', '넘다', 'ㅋㅋㅋ', '오랜', '생각', '없이', '웃다', '병맛', '나오다', '배우', '좋다', '양동근', '안', '하고', 'ㅋ', '진짜', '기대', '아', '같다', '개', '많다', '볼', 'ㅋㅋㅋㅋ', '고', '보고', '웃기다', '정말', '내', '!', '돈', '평점', '점', '코미디', '않다', '아니다', '만들다', '거', '노잼', '더', '자다', '되다', '없다', '간만', '아깝다', '급', '모르다', '왜', '그냥', '지', '저', 'B', '감성', '웃음', '시간', '비급', '재미있다'])\n"
     ]
    }
   ],
   "source": [
    "print(vocabs)"
   ]
  },
  {
   "cell_type": "code",
   "execution_count": 146,
   "id": "5cd4db8e",
   "metadata": {},
   "outputs": [],
   "source": [
    "pca = PCA(n_components=2)\n",
    "xys = pca.fit_transform(word_vectors_list)\n",
    "xs = xys[:,0]\n",
    "ys = xys[:,1]"
   ]
  },
  {
   "cell_type": "code",
   "execution_count": 139,
   "id": "2b74356f",
   "metadata": {},
   "outputs": [],
   "source": [
    "plt.rcParams['font.family'] = 'AppleGothic'"
   ]
  },
  {
   "cell_type": "code",
   "execution_count": 147,
   "id": "e3ab30e0",
   "metadata": {},
   "outputs": [
    {
     "data": {
      "image/png": "[encoded data removed]",
      "text/plain": [
       "<Figure size 1080x720 with 1 Axes>"
      ]
     },
     "metadata": {
      "needs_background": "light"
     },
     "output_type": "display_data"
    }
   ],
   "source": [
    "plt.figure(figsize=(15,10))\n",
    "plt.scatter(xs, ys, marker='o')\n",
    "for i, v in enumerate(vocabs):\n",
    "    plt.annotate(v, xy=(xs[i], ys[i]))"
   ]
  },
  {
   "cell_type": "code",
   "execution_count": 154,
   "id": "737ce66a",
   "metadata": {},
   "outputs": [
    {
     "name": "stdout",
     "output_type": "stream",
     "text": [
      "0.44721359549995787\n"
     ]
    }
   ],
   "source": [
    "from scipy import spatial\n",
    "List1 = [3,4]\n",
    "List2 = [-1,2]\n",
    "result = 1 - spatial.distance.cosine(List1, List2)\n",
    "print(result)"
   ]
  },
  {
   "cell_type": "code",
   "execution_count": null,
   "id": "60d7776a",
   "metadata": {},
   "outputs": [],
   "source": []
  }
 ],
 "metadata": {
  "kernelspec": {
   "display_name": "Python 3",
   "language": "python",
   "name": "python3"
  },
  "language_info": {
   "codemirror_mode": {
    "name": "ipython",
    "version": 3
   },
   "file_extension": ".py",
   "mimetype": "text/x-python",
   "name": "python",
   "nbconvert_exporter": "python",
   "pygments_lexer": "ipython3",
   "version": "3.8.8"
  }
 },
 "nbformat": 4,
 "nbformat_minor": 5
}
