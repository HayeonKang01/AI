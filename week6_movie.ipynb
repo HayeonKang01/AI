{
 "cells": [
  {
   "cell_type": "markdown",
   "id": "9c672293",
   "metadata": {},
   "source": [
    "# 네이버 영화 리뷰 크롤링"
   ]
  },
  {
   "cell_type": "markdown",
   "id": "85dffb30",
   "metadata": {},
   "source": [
    "### .strip() 앞 뒤 공백 없애기"
   ]
  },
  {
   "cell_type": "code",
   "execution_count": 1,
   "id": "b0d7b1ba",
   "metadata": {},
   "outputs": [
    {
     "name": "stdout",
     "output_type": "stream",
     "text": [
      "\n",
      "\n",
      "공백이 많은 문장 \n",
      "\n",
      "\n"
     ]
    }
   ],
   "source": [
    "txt = '''\n",
    "\n",
    "공백이 많은 문장 \n",
    "\n",
    "'''\n",
    "\n",
    "print(txt)"
   ]
  },
  {
   "cell_type": "code",
   "execution_count": 2,
   "id": "752d5410",
   "metadata": {},
   "outputs": [
    {
     "name": "stdout",
     "output_type": "stream",
     "text": [
      "공백이 많은 문장\n"
     ]
    }
   ],
   "source": [
    "txt = txt.strip()\n",
    "print(txt)"
   ]
  },
  {
   "cell_type": "markdown",
   "id": "7b35fa74",
   "metadata": {},
   "source": [
    "### 일련번호가 붙은 문자열 만들기"
   ]
  },
  {
   "cell_type": "code",
   "execution_count": 3,
   "id": "580e9c9f",
   "metadata": {},
   "outputs": [
    {
     "name": "stdout",
     "output_type": "stream",
     "text": [
      "학번18\n",
      "학번19\n",
      "학번20\n",
      "학번21\n",
      "학번22\n"
     ]
    }
   ],
   "source": [
    "std_no = []\n",
    "std_no_pre = '학번'\n",
    "\n",
    "for i in range(18, 23):\n",
    "    std_no.append(std_no_pre + str(i))\n",
    "    \n",
    "for no in std_no:\n",
    "    print(no)"
   ]
  },
  {
   "cell_type": "code",
   "execution_count": 6,
   "id": "173349bb",
   "metadata": {},
   "outputs": [
    {
     "name": "stdout",
     "output_type": "stream",
     "text": [
      "_filtered_ment_0\n",
      "_filtered_ment_1\n",
      "_filtered_ment_2\n",
      "_filtered_ment_3\n",
      "_filtered_ment_4\n",
      "_filtered_ment_5\n",
      "_filtered_ment_6\n",
      "_filtered_ment_7\n",
      "_filtered_ment_8\n",
      "_filtered_ment_9\n",
      "_filtered_ment_0\n",
      "_filtered_ment_1\n",
      "_filtered_ment_2\n",
      "_filtered_ment_3\n",
      "_filtered_ment_4\n",
      "_filtered_ment_5\n",
      "_filtered_ment_6\n",
      "_filtered_ment_7\n",
      "_filtered_ment_8\n",
      "_filtered_ment_9\n"
     ]
    }
   ],
   "source": [
    "id_list = []\n",
    "id_pre = '_filtered_ment_'\n",
    "\n",
    "for i in range(0, 10):\n",
    "    f_id.append(f_pre + str(i))\n",
    "\n",
    "for no in f_id:\n",
    "    print(no)"
   ]
  },
  {
   "cell_type": "markdown",
   "id": "a4f3bc05",
   "metadata": {},
   "source": [
    "## 영화 리뷰 크롤링"
   ]
  },
  {
   "cell_type": "code",
   "execution_count": 14,
   "id": "304c7cb3",
   "metadata": {},
   "outputs": [
    {
     "name": "stdout",
     "output_type": "stream",
     "text": [
      "영화는 볼만했는데 구미강동점  캬라멜 팝콘 너무 맛없네요 캬라멜을 쥐똥만큼 아껴 넣어서는 4500원이나 받아먹고 너무하네요 !!\n",
      "억지 영화...노잼 이런게 천만 ㅋㅋ\n",
      "이게 재밌다구요?물론 초중반까지는 재밌었어요후반에 진짜 어휴\n",
      "본인이 SF잘모른다 그러면 보지마세요 더럽게 재미없습니다 전 스물한살이고 SF이런거 흥미없었던 지라 너무 재미없었습니다\n",
      "이거 결말 아빠가 유령임 이거 결말 아빠가 유령임이거 결말 아빠가 유령임 이거 결말 아빠가 유령임이거 결말 아빠가 유령임 이거 결말 아빠가 유령임이거 결말 아빠가 유령임 이거 결말 아빠가 유령임이거 결말 아빠가 유령...\n",
      "평점 1점도 아까운 저렴 신파 영화입니다. 보다가 도저히 볼수 없어 중간에 나왔어요.\n",
      "TV에서 콘스탄틴, 소림축구, 쿵푸허슬 나오면 내용알지만 다시 보게된다이영화는 영화관에서보구 그후 티비에서 나와도 거른다 솔직히 이영화가 재밌냐?취향 때문이 그럴수도 있지만 이기 영화냐?!!!???? 다큐멘터리나?\n",
      "열라 지루하네... 여자분들은 보지마세요. 하품하다 나옵니다.\n",
      "별로 재미없습니다...\n",
      "연기도못하고 영화최악이다 졸려죽는줄알았네\n"
     ]
    }
   ],
   "source": [
    "import requests\n",
    "from bs4 import BeautifulSoup\n",
    "\n",
    "res = requests.get('https://movie.naver.com/movie/bi/mi/pointWriteFormList.naver?code=45290&type=after&isActualPointWriteExecute=false&isMileageSubscriptionAlready=false&isMileageSubscriptionReject=false&page=4930')\n",
    "soup = BeautifulSoup(res.content, 'html.parser')\n",
    "\n",
    "id_list = []\n",
    "id_pre = '_filtered_ment_'\n",
    "\n",
    "for i in range(0, 10):\n",
    "    id_list.append(id_pre + str(i))\n",
    "\n",
    "mydata = []\n",
    "for id in id_list:\n",
    "    mydata.append(soup.find('span', {'id':id}).get_text().strip())\n",
    "    \n",
    "for item in mydata:\n",
    "    print(item)"
   ]
  },
  {
   "cell_type": "code",
   "execution_count": 13,
   "id": "087d2dc3",
   "metadata": {},
   "outputs": [
    {
     "name": "stdout",
     "output_type": "stream",
     "text": [
      "['영화는 볼만했는데 구미강동점  캬라멜 팝콘 너무 맛없네요 캬라멜을 쥐똥만큼 아껴 넣어서는 4500원이나 받아먹고 너무하네요 !!', '억지 영화...노잼 이런게 천만 ㅋㅋ', '이게 재밌다구요?물론 초중반까지는 재밌었어요후반에 진짜 어휴', '본인이 SF잘모른다 그러면 보지마세요 더럽게 재미없습니다 전 스물한살이고 SF이런거 흥미없었던 지라 너무 재미없었습니다', '이거 결말 아빠가 유령임 이거 결말 아빠가 유령임이거 결말 아빠가 유령임 이거 결말 아빠가 유령임이거 결말 아빠가 유령임 이거 결말 아빠가 유령임이거 결말 아빠가 유령임 이거 결말 아빠가 유령임이거 결말 아빠가 유령...', '평점 1점도 아까운 저렴 신파 영화입니다. 보다가 도저히 볼수 없어 중간에 나왔어요.', 'TV에서 콘스탄틴, 소림축구, 쿵푸허슬 나오면 내용알지만 다시 보게된다이영화는 영화관에서보구 그후 티비에서 나와도 거른다 솔직히 이영화가 재밌냐?취향 때문이 그럴수도 있지만 이기 영화냐?!!!???? 다큐멘터리나?', '열라 지루하네... 여자분들은 보지마세요. 하품하다 나옵니다.', '별로 재미없습니다...', '연기도못하고 영화최악이다 졸려죽는줄알았네']\n"
     ]
    }
   ],
   "source": [
    "print(mydata)"
   ]
  },
  {
   "cell_type": "code",
   "execution_count": null,
   "id": "d9735c88",
   "metadata": {},
   "outputs": [],
   "source": []
  }
 ],
 "metadata": {
  "kernelspec": {
   "display_name": "Python 3",
   "language": "python",
   "name": "python3"
  },
  "language_info": {
   "codemirror_mode": {
    "name": "ipython",
    "version": 3
   },
   "file_extension": ".py",
   "mimetype": "text/x-python",
   "name": "python",
   "nbconvert_exporter": "python",
   "pygments_lexer": "ipython3",
   "version": "3.8.8"
  }
 },
 "nbformat": 4,
 "nbformat_minor": 5
}
