{
 "cells": [
  {
   "cell_type": "markdown",
   "id": "9062233f",
   "metadata": {},
   "source": [
    "# 와인품질데이터"
   ]
  },
  {
   "cell_type": "code",
   "execution_count": 54,
   "id": "939132b5",
   "metadata": {},
   "outputs": [],
   "source": [
    "import numpy as np\n",
    "import pandas as pd\n",
    "\n",
    "from sklearn.tree import DecisionTreeClassifier\n",
    "from sklearn.ensemble import RandomForestClassifier\n",
    "from sklearn.model_selection import train_test_split\n",
    "from sklearn.metrics import accuracy_score, precision_score, recall_score, f1_score\n",
    "from sklearn.metrics import confusion_matrix, classification_report, roc_curve, auc\n",
    "\n",
    "import matplotlib.pyplot as plt\n",
    "\n",
    "\n",
    "import warnings\n",
    "warnings.filterwarnings('ignore')\n",
    "\n",
    "import graphviz\n",
    "from sklearn.tree import export_graphviz"
   ]
  },
  {
   "cell_type": "code",
   "execution_count": 55,
   "id": "0c62a245",
   "metadata": {},
   "outputs": [],
   "source": [
    "plt.rcParams['font.family'] = 'AppleGothic'"
   ]
  },
  {
   "cell_type": "code",
   "execution_count": 56,
   "id": "f473d663",
   "metadata": {},
   "outputs": [],
   "source": [
    "wine = pd.read_csv('/Users/hayeon/Downloads/2021-2(3-2)/머신러닝/data/winequality-red.csv')"
   ]
  },
  {
   "cell_type": "markdown",
   "id": "7bd106c3",
   "metadata": {},
   "source": [
    "# 데이터 전처리 \n",
    "#### 3, 4, 5 = 0 / 6, 7, 8 = 1"
   ]
  },
  {
   "cell_type": "code",
   "execution_count": 57,
   "id": "8c177991",
   "metadata": {},
   "outputs": [],
   "source": [
    "wine.quality.replace({3:0, 4:0, 5:0, 6:1, 7:1, 8:1}, inplace=True)"
   ]
  },
  {
   "cell_type": "code",
   "execution_count": 58,
   "id": "fad8f580",
   "metadata": {},
   "outputs": [
    {
     "data": {
      "text/html": [
       "<div>\n",
       "<style scoped>\n",
       "    .dataframe tbody tr th:only-of-type {\n",
       "        vertical-align: middle;\n",
       "    }\n",
       "\n",
       "    .dataframe tbody tr th {\n",
       "        vertical-align: top;\n",
       "    }\n",
       "\n",
       "    .dataframe thead th {\n",
       "        text-align: right;\n",
       "    }\n",
       "</style>\n",
       "<table border=\"1\" class=\"dataframe\">\n",
       "  <thead>\n",
       "    <tr style=\"text-align: right;\">\n",
       "      <th></th>\n",
       "      <th>fixed acidity</th>\n",
       "      <th>volatile acidity</th>\n",
       "      <th>citric acid</th>\n",
       "      <th>residual sugar</th>\n",
       "      <th>chlorides</th>\n",
       "      <th>free sulfur dioxide</th>\n",
       "      <th>total sulfur dioxide</th>\n",
       "      <th>density</th>\n",
       "      <th>pH</th>\n",
       "      <th>sulphates</th>\n",
       "      <th>alcohol</th>\n",
       "      <th>quality</th>\n",
       "    </tr>\n",
       "  </thead>\n",
       "  <tbody>\n",
       "    <tr>\n",
       "      <th>0</th>\n",
       "      <td>7.4</td>\n",
       "      <td>0.70</td>\n",
       "      <td>0.00</td>\n",
       "      <td>1.9</td>\n",
       "      <td>0.076</td>\n",
       "      <td>11.0</td>\n",
       "      <td>34.0</td>\n",
       "      <td>0.9978</td>\n",
       "      <td>3.51</td>\n",
       "      <td>0.56</td>\n",
       "      <td>9.4</td>\n",
       "      <td>0</td>\n",
       "    </tr>\n",
       "    <tr>\n",
       "      <th>1</th>\n",
       "      <td>7.8</td>\n",
       "      <td>0.88</td>\n",
       "      <td>0.00</td>\n",
       "      <td>2.6</td>\n",
       "      <td>0.098</td>\n",
       "      <td>25.0</td>\n",
       "      <td>67.0</td>\n",
       "      <td>0.9968</td>\n",
       "      <td>3.20</td>\n",
       "      <td>0.68</td>\n",
       "      <td>9.8</td>\n",
       "      <td>0</td>\n",
       "    </tr>\n",
       "    <tr>\n",
       "      <th>2</th>\n",
       "      <td>7.8</td>\n",
       "      <td>0.76</td>\n",
       "      <td>0.04</td>\n",
       "      <td>2.3</td>\n",
       "      <td>0.092</td>\n",
       "      <td>15.0</td>\n",
       "      <td>54.0</td>\n",
       "      <td>0.9970</td>\n",
       "      <td>3.26</td>\n",
       "      <td>0.65</td>\n",
       "      <td>9.8</td>\n",
       "      <td>0</td>\n",
       "    </tr>\n",
       "    <tr>\n",
       "      <th>3</th>\n",
       "      <td>11.2</td>\n",
       "      <td>0.28</td>\n",
       "      <td>0.56</td>\n",
       "      <td>1.9</td>\n",
       "      <td>0.075</td>\n",
       "      <td>17.0</td>\n",
       "      <td>60.0</td>\n",
       "      <td>0.9980</td>\n",
       "      <td>3.16</td>\n",
       "      <td>0.58</td>\n",
       "      <td>9.8</td>\n",
       "      <td>1</td>\n",
       "    </tr>\n",
       "    <tr>\n",
       "      <th>4</th>\n",
       "      <td>7.4</td>\n",
       "      <td>0.70</td>\n",
       "      <td>0.00</td>\n",
       "      <td>1.9</td>\n",
       "      <td>0.076</td>\n",
       "      <td>11.0</td>\n",
       "      <td>34.0</td>\n",
       "      <td>0.9978</td>\n",
       "      <td>3.51</td>\n",
       "      <td>0.56</td>\n",
       "      <td>9.4</td>\n",
       "      <td>0</td>\n",
       "    </tr>\n",
       "  </tbody>\n",
       "</table>\n",
       "</div>"
      ],
      "text/plain": [
       "   fixed acidity  volatile acidity  citric acid  residual sugar  chlorides  \\\n",
       "0            7.4              0.70         0.00             1.9      0.076   \n",
       "1            7.8              0.88         0.00             2.6      0.098   \n",
       "2            7.8              0.76         0.04             2.3      0.092   \n",
       "3           11.2              0.28         0.56             1.9      0.075   \n",
       "4            7.4              0.70         0.00             1.9      0.076   \n",
       "\n",
       "   free sulfur dioxide  total sulfur dioxide  density    pH  sulphates  \\\n",
       "0                 11.0                  34.0   0.9978  3.51       0.56   \n",
       "1                 25.0                  67.0   0.9968  3.20       0.68   \n",
       "2                 15.0                  54.0   0.9970  3.26       0.65   \n",
       "3                 17.0                  60.0   0.9980  3.16       0.58   \n",
       "4                 11.0                  34.0   0.9978  3.51       0.56   \n",
       "\n",
       "   alcohol  quality  \n",
       "0      9.4        0  \n",
       "1      9.8        0  \n",
       "2      9.8        0  \n",
       "3      9.8        1  \n",
       "4      9.4        0  "
      ]
     },
     "execution_count": 58,
     "metadata": {},
     "output_type": "execute_result"
    }
   ],
   "source": [
    "wine.head()"
   ]
  },
  {
   "cell_type": "markdown",
   "id": "9f4df8b9",
   "metadata": {},
   "source": [
    "# 데이터 분리"
   ]
  },
  {
   "cell_type": "code",
   "execution_count": 59,
   "id": "173c6613",
   "metadata": {},
   "outputs": [],
   "source": [
    "X = wine.drop(['quality'], axis=1)\n",
    "y = wine[['quality']]\n",
    "\n",
    "X_train, X_test, y_train, y_test = train_test_split(X, y)"
   ]
  },
  {
   "cell_type": "markdown",
   "id": "ea1aee29",
   "metadata": {},
   "source": [
    "# DecisionTree \n",
    "### max_depth 변화에 따른 정확도의 변화"
   ]
  },
  {
   "cell_type": "code",
   "execution_count": 67,
   "id": "f50132b4",
   "metadata": {},
   "outputs": [
    {
     "name": "stdout",
     "output_type": "stream",
     "text": [
      ">1 accuracy: 0.68\n",
      ">2 accuracy: 0.68\n",
      ">3 accuracy: 0.70\n",
      ">4 accuracy: 0.73\n",
      ">5 accuracy: 0.73\n",
      ">6 accuracy: 0.70\n",
      ">7 accuracy: 0.74\n",
      ">8 accuracy: 0.72\n",
      ">9 accuracy: 0.74\n",
      ">10 accuracy: 0.73\n",
      ">11 accuracy: 0.73\n",
      ">12 accuracy: 0.77\n",
      ">13 accuracy: 0.77\n",
      ">14 accuracy: 0.77\n",
      ">15 accuracy: 0.78\n",
      ">16 accuracy: 0.79\n",
      ">17 accuracy: 0.79\n",
      ">18 accuracy: 0.79\n",
      ">19 accuracy: 0.78\n"
     ]
    },
    {
     "data": {
      "text/plain": [
       "[<matplotlib.lines.Line2D at 0x7f81b408ad60>]"
      ]
     },
     "execution_count": 67,
     "metadata": {},
     "output_type": "execute_result"
    },
    {
     "data": {
      "image/png": "[encoded data removed]",
      "text/plain": [
       "<Figure size 432x288 with 1 Axes>"
      ]
     },
     "metadata": {
      "needs_background": "light"
     },
     "output_type": "display_data"
    }
   ],
   "source": [
    "acc = []\n",
    "for i in range(1, 20):\n",
    "    dt = DecisionTreeClassifier(max_depth=i, random_state=0)\n",
    "    dt.fit(X_train, y_train)\n",
    "    y_pred = dt.predict(X_test)\n",
    "    ac = accuracy_score(y_test, y_pred)\n",
    "    acc.append(ac)\n",
    "    print('>%d accuracy: %.2f'%(i, ac))\n",
    "plt.plot(range(1,20), acc, '--xb')"
   ]
  },
  {
   "cell_type": "markdown",
   "id": "99a42da7",
   "metadata": {},
   "source": [
    "#### max_depth = 8일 때의 정확도가 가장 높기 때문에 max_depth = 18로 설정 후 재학습"
   ]
  },
  {
   "cell_type": "code",
   "execution_count": 68,
   "id": "606cd3cf",
   "metadata": {},
   "outputs": [
    {
     "name": "stdout",
     "output_type": "stream",
     "text": [
      "acc: 0.79\n",
      "pre: 0.79\n",
      "rec: 0.82\n",
      "f1: 0.80\n",
      "[[148  46]\n",
      " [ 38 168]]\n",
      "              precision    recall  f1-score   support\n",
      "\n",
      "           0       0.80      0.76      0.78       194\n",
      "           1       0.79      0.82      0.80       206\n",
      "\n",
      "    accuracy                           0.79       400\n",
      "   macro avg       0.79      0.79      0.79       400\n",
      "weighted avg       0.79      0.79      0.79       400\n",
      "\n"
     ]
    }
   ],
   "source": [
    "dt = DecisionTreeClassifier(max_depth=18)\n",
    "dt.fit(X_train, y_train)\n",
    "y_pred_dt = dt.predict(X_test)\n",
    "\n",
    "acc = accuracy_score(y_test, y_pred_dt)\n",
    "pre = precision_score(y_test, y_pred_dt)\n",
    "rec = recall_score(y_test, y_pred_dt)\n",
    "f1 = f1_score(y_test, y_pred_dt)\n",
    "\n",
    "print('acc: %.2f'%acc)\n",
    "print('pre: %.2f'%pre)\n",
    "print('rec: %.2f'%rec)\n",
    "print('f1: %.2f'%f1)\n",
    "print(confusion_matrix(y_test, y_pred_dt))\n",
    "print(classification_report(y_test, y_pred_dt))"
   ]
  },
  {
   "cell_type": "markdown",
   "id": "9435d256",
   "metadata": {},
   "source": [
    "### 직접 계산해보기.\n",
    "* accuracy : 맞춘 수 / 전체 수\n",
    "* precision : 모델관점. 정답으로 예측한 것 중 정답인 것 \n",
    "* recall : 정답관점. 실제 정답인 것 중 모델이 정답으로 예측한 것 \n",
    "* f1 : 2 * ((precision * recall) / (precision + recall))"
   ]
  },
  {
   "cell_type": "code",
   "execution_count": 69,
   "id": "daec0f80",
   "metadata": {},
   "outputs": [
    {
     "name": "stdout",
     "output_type": "stream",
     "text": [
      "accuracy: 0.79\n",
      "precision: 0.80\n",
      "recall: 0.76\n",
      "f1: 0.78\n"
     ]
    }
   ],
   "source": [
    "accuracy = (148+168)/(148+168+46+38)\n",
    "precision = 148 / (148+38)\n",
    "recall = 148 / (148 + 46)\n",
    "f1 = 2 * ((precision * recall) / (precision + recall))\n",
    "\n",
    "print('accuracy: %.2f'%accuracy)\n",
    "print('precision: %.2f'%precision)\n",
    "print('recall: %.2f'%recall)\n",
    "print('f1: %.2f'%f1)"
   ]
  },
  {
   "cell_type": "markdown",
   "id": "fc686705",
   "metadata": {},
   "source": [
    "# RandomForest\n",
    "### n_estimators 변화에 따른 정확도의 변화"
   ]
  },
  {
   "cell_type": "code",
   "execution_count": 70,
   "id": "e7783e60",
   "metadata": {},
   "outputs": [
    {
     "name": "stdout",
     "output_type": "stream",
     "text": [
      ">10 accuracy: 0.78\n",
      ">60 accuracy: 0.81\n",
      ">110 accuracy: 0.81\n",
      ">160 accuracy: 0.82\n",
      ">210 accuracy: 0.82\n",
      ">260 accuracy: 0.82\n",
      ">310 accuracy: 0.82\n",
      ">360 accuracy: 0.82\n",
      ">410 accuracy: 0.81\n",
      ">460 accuracy: 0.82\n",
      ">510 accuracy: 0.83\n",
      ">560 accuracy: 0.83\n",
      ">610 accuracy: 0.83\n",
      ">660 accuracy: 0.83\n"
     ]
    },
    {
     "data": {
      "text/plain": [
       "[<matplotlib.lines.Line2D at 0x7f81c85d9e50>]"
      ]
     },
     "execution_count": 70,
     "metadata": {},
     "output_type": "execute_result"
    },
    {
     "data": {
      "image/png": "[encoded data removed]",
      "text/plain": [
       "<Figure size 432x288 with 1 Axes>"
      ]
     },
     "metadata": {
      "needs_background": "light"
     },
     "output_type": "display_data"
    }
   ],
   "source": [
    "acc = []\n",
    "for i in range(10, 700, 50):\n",
    "    rf = RandomForestClassifier(n_estimators=i, random_state=0)\n",
    "    rf.fit(X_train, y_train)\n",
    "    y_pred = rf.predict(X_test)\n",
    "    ac = accuracy_score(y_test, y_pred)\n",
    "    acc.append(ac)\n",
    "    print('>%d accuracy: %.2f'%(i, ac))\n",
    "plt.plot(range(10, 700, 50), acc, '--xb')"
   ]
  },
  {
   "cell_type": "markdown",
   "id": "ca0c18ca",
   "metadata": {},
   "source": [
    "### n_estimators =  560일 때의 정확도가 가장 높다고 판단, 해당 값을 넣어 재학습"
   ]
  },
  {
   "cell_type": "code",
   "execution_count": 71,
   "id": "86d38e3d",
   "metadata": {},
   "outputs": [
    {
     "name": "stdout",
     "output_type": "stream",
     "text": [
      "accuracy: 0.83\n",
      "precision: 0.83\n",
      "recall: 0.85\n",
      "f1: 0.84\n",
      "[[158  36]\n",
      " [ 31 175]]\n",
      "              precision    recall  f1-score   support\n",
      "\n",
      "           0       0.84      0.81      0.83       194\n",
      "           1       0.83      0.85      0.84       206\n",
      "\n",
      "    accuracy                           0.83       400\n",
      "   macro avg       0.83      0.83      0.83       400\n",
      "weighted avg       0.83      0.83      0.83       400\n",
      "\n"
     ]
    }
   ],
   "source": [
    "rf = RandomForestClassifier(n_estimators=560)\n",
    "rf.fit(X_train, y_train)\n",
    "y_pred_rf = rf.predict(X_test)\n",
    "\n",
    "acc = accuracy_score(y_test, y_pred_rf)\n",
    "pre = precision_score(y_test, y_pred_rf)\n",
    "rec = recall_score(y_test, y_pred_rf)\n",
    "f1 = f1_score(y_test, y_pred_rf)\n",
    "\n",
    "print('accuracy: %.2f'%acc)\n",
    "print('precision: %.2f'%pre)\n",
    "print('recall: %.2f'%rec)\n",
    "print('f1: %.2f'%f1)\n",
    "print(confusion_matrix(y_test, y_pred_rf))\n",
    "print(classification_report(y_test, y_pred_rf))"
   ]
  },
  {
   "cell_type": "markdown",
   "id": "0d5e6239",
   "metadata": {},
   "source": [
    "### 직접 계산해보기."
   ]
  },
  {
   "cell_type": "code",
   "execution_count": 72,
   "id": "70e1f1ad",
   "metadata": {},
   "outputs": [
    {
     "name": "stdout",
     "output_type": "stream",
     "text": [
      "accuracy: 0.83\n",
      "precision: 0.83\n",
      "recall: 0.81\n",
      "f1: 0.82\n"
     ]
    }
   ],
   "source": [
    "accuracy = (156+175)/(158+175+36+31)\n",
    "precision = 156 / (156+31)\n",
    "recall = 156 / (156 + 36)\n",
    "f1 = 2 * ((precision * recall) / (precision + recall))\n",
    "\n",
    "print('accuracy: %.2f'%accuracy)\n",
    "print('precision: %.2f'%precision)\n",
    "print('recall: %.2f'%recall)\n",
    "print('f1: %.2f'%f1)"
   ]
  },
  {
   "cell_type": "markdown",
   "id": "7d7c42ce",
   "metadata": {},
   "source": [
    "# ROC , AUC\n",
    "### roc : FP비율을 X축, TP비율을 Y축으로 하는 그래프 \n",
    "### auc : ROC 곡선을 정량적으로 평가하기 위해 ROC 곡선 아래의 면적을 수치화한 값.\n",
    "###  -> **클래스를 분류할 수 있는 확률을 나타낸다.**"
   ]
  },
  {
   "cell_type": "code",
   "execution_count": 73,
   "id": "44800569",
   "metadata": {},
   "outputs": [
    {
     "data": {
      "image/png": "[encoded data removed]",
      "text/plain": [
       "<Figure size 720x576 with 1 Axes>"
      ]
     },
     "metadata": {
      "needs_background": "light"
     },
     "output_type": "display_data"
    }
   ],
   "source": [
    "fpr1, tpr1, ther1 = roc_curve(y_test, y_pred_dt)\n",
    "fpr2, tpr2, ther2 = roc_curve(y_test, y_pred_rf)\n",
    "auc_dt = auc(fpr1, tpr1)\n",
    "auc_rf = auc(fpr2, tpr2)\n",
    "\n",
    "plt.figure(figsize=(10, 8))\n",
    "plt.plot(fpr1, tpr1, label='ROC DT(area = %.2f)'%auc_dt)\n",
    "plt.plot(fpr2, tpr2, label='ROC RF(area = %.2f)'%auc_rf)\n",
    "plt.plot([0,1],[0,1], '--', label='Random Guess')\n",
    "plt.title('ROC (DT vs RF)')\n",
    "plt.xlabel('FPR(FP의 비율)')\n",
    "plt.ylabel('TPR(TP의 비율)')\n",
    "plt.legend(loc='lower right')\n",
    "plt.show()"
   ]
  },
  {
   "cell_type": "markdown",
   "id": "9077479d",
   "metadata": {},
   "source": [
    "> ### 랜덤포레스트가 의사결정나무에 비해 클래스를 분류할 확률이 더 높다. (auc 79% < 83%)"
   ]
  },
  {
   "cell_type": "code",
   "execution_count": null,
   "id": "0bd1f90b",
   "metadata": {},
   "outputs": [],
   "source": []
  }
 ],
 "metadata": {
  "kernelspec": {
   "display_name": "Python 3",
   "language": "python",
   "name": "python3"
  },
  "language_info": {
   "codemirror_mode": {
    "name": "ipython",
    "version": 3
   },
   "file_extension": ".py",
   "mimetype": "text/x-python",
   "name": "python",
   "nbconvert_exporter": "python",
   "pygments_lexer": "ipython3",
   "version": "3.8.8"
  }
 },
 "nbformat": 4,
 "nbformat_minor": 5
}
